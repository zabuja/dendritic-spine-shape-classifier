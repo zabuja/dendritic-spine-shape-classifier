{
  "nbformat": 4,
  "nbformat_minor": 0,
  "metadata": {
    "colab": {
      "provenance": [],
      "gpuType": "T4"
    },
    "kernelspec": {
      "name": "python3",
      "display_name": "Python 3"
    },
    "language_info": {
      "name": "python"
    },
    "accelerator": "GPU"
  },
  "cells": [
    {
      "cell_type": "markdown",
      "source": [
        "# **Importing necessary libraries for EDA and building the CNN model for multi-class image classification**"
      ],
      "metadata": {
        "id": "rkxp2aV7Cl1b"
      }
    },
    {
      "cell_type": "code",
      "source": [
        "import os\n",
        "import tensorflow as tf\n",
        "import matplotlib.pyplot as plt\n",
        "import matplotlib.image as mpimg\n",
        "import numpy as np\n",
        "import pandas as pd\n",
        "import seaborn as sns\n",
        "from keras.models import load_model\n",
        "import tensorflow_hub as hub"
      ],
      "metadata": {
        "id": "YgD0K2Q9CmnZ"
      },
      "execution_count": 1,
      "outputs": []
    },
    {
      "cell_type": "code",
      "source": [
        "print(tf.__version__)"
      ],
      "metadata": {
        "colab": {
          "base_uri": "https://localhost:8080/"
        },
        "id": "K12iG_FDCryt",
        "outputId": "f79325b3-b997-471e-841b-e66f7b584893"
      },
      "execution_count": null,
      "outputs": [
        {
          "output_type": "stream",
          "name": "stdout",
          "text": [
            "2.15.0\n"
          ]
        }
      ]
    },
    {
      "cell_type": "code",
      "source": [
        "from google.colab import drive\n",
        "drive.mount('/content/gdrive')"
      ],
      "metadata": {
        "id": "xzXYnxAOCw8q",
        "colab": {
          "base_uri": "https://localhost:8080/"
        },
        "outputId": "51d6b72d-da2a-4701-8d0b-9eef903212dc"
      },
      "execution_count": 2,
      "outputs": [
        {
          "output_type": "stream",
          "name": "stdout",
          "text": [
            "Mounted at /content/gdrive\n"
          ]
        }
      ]
    },
    {
      "cell_type": "code",
      "source": [
        "%cd /content/gdrive/MyDrive/Colab Notebooks/Dataset_spines"
      ],
      "metadata": {
        "id": "1J-dbWrGCy7f",
        "colab": {
          "base_uri": "https://localhost:8080/"
        },
        "outputId": "b848dc12-ce4a-45bf-facf-1edf7125a940"
      },
      "execution_count": null,
      "outputs": [
        {
          "output_type": "stream",
          "name": "stdout",
          "text": [
            "/content/gdrive/MyDrive/Colab Notebooks/Dataset_spines\n"
          ]
        }
      ]
    },
    {
      "cell_type": "code",
      "source": [
        "!ls"
      ],
      "metadata": {
        "id": "LScclghKDAMe",
        "colab": {
          "base_uri": "https://localhost:8080/"
        },
        "outputId": "a2d72b24-ce52-4dbb-c491-ef6193df12e5"
      },
      "execution_count": null,
      "outputs": [
        {
          "output_type": "stream",
          "name": "stdout",
          "text": [
            "filopodia  mushroom  stubby  thin\n"
          ]
        }
      ]
    },
    {
      "cell_type": "code",
      "source": [
        "np.random.seed(101)"
      ],
      "metadata": {
        "id": "suqj-h3UDBx-"
      },
      "execution_count": null,
      "outputs": []
    },
    {
      "cell_type": "markdown",
      "source": [
        "## **Working with Validation and training data**"
      ],
      "metadata": {
        "id": "wDlWQae6DYJA"
      }
    },
    {
      "cell_type": "code",
      "source": [
        "%cd '/content/gdrive/MyDrive/Colab Notebooks/Spine_Dataset'"
      ],
      "metadata": {
        "id": "gp8cAtTEDQMR",
        "colab": {
          "base_uri": "https://localhost:8080/"
        },
        "outputId": "12c24a57-c382-4aa0-cb26-bd717ac1f7dd"
      },
      "execution_count": null,
      "outputs": [
        {
          "output_type": "stream",
          "name": "stdout",
          "text": [
            "/content/gdrive/MyDrive/Colab Notebooks/Spine_Dataset\n"
          ]
        }
      ]
    },
    {
      "cell_type": "code",
      "source": [
        "!pwd"
      ],
      "metadata": {
        "id": "qruk1bHNDeQ6",
        "colab": {
          "base_uri": "https://localhost:8080/"
        },
        "outputId": "72aca577-8c2f-4e2b-ba3f-675e536ce203"
      },
      "execution_count": null,
      "outputs": [
        {
          "output_type": "stream",
          "name": "stdout",
          "text": [
            "/content/gdrive/MyDrive/Colab Notebooks/Spine_Dataset\n"
          ]
        }
      ]
    },
    {
      "cell_type": "code",
      "source": [
        "!ls"
      ],
      "metadata": {
        "id": "MCBgpYf7DgqF",
        "colab": {
          "base_uri": "https://localhost:8080/"
        },
        "outputId": "ac5dc69b-597d-43b8-eb56-112762123ff7"
      },
      "execution_count": null,
      "outputs": [
        {
          "output_type": "stream",
          "name": "stdout",
          "text": [
            "train  val\n"
          ]
        }
      ]
    },
    {
      "cell_type": "markdown",
      "source": [
        "### **Exploring the no. of directories, no. of classes and no. of images per class**"
      ],
      "metadata": {
        "id": "e63ChoBmDry6"
      }
    },
    {
      "cell_type": "code",
      "source": [
        "for dirpath, dirnames, filenames in os.walk('/content/gdrive/MyDrive/Colab Notebooks/Spine_Dataset'):\n",
        "  print(f'There are {len(dirnames)} directories and {len(filenames)} images in {len(dirpath)}.')"
      ],
      "metadata": {
        "id": "deNZP7z3DjlP",
        "colab": {
          "base_uri": "https://localhost:8080/"
        },
        "outputId": "f88a1835-c944-41f2-ca26-3815237f3e3c"
      },
      "execution_count": null,
      "outputs": [
        {
          "output_type": "stream",
          "name": "stdout",
          "text": [
            "There are 2 directories and 0 images in 53.\n",
            "There are 4 directories and 0 images in 59.\n",
            "There are 0 directories and 90 images in 66.\n",
            "There are 0 directories and 40 images in 69.\n",
            "There are 0 directories and 229 images in 68.\n",
            "There are 0 directories and 84 images in 64.\n",
            "There are 4 directories and 0 images in 57.\n",
            "There are 0 directories and 23 images in 64.\n",
            "There are 0 directories and 10 images in 67.\n",
            "There are 0 directories and 58 images in 66.\n",
            "There are 0 directories and 21 images in 62.\n"
          ]
        }
      ]
    },
    {
      "cell_type": "markdown",
      "source": [
        "### **Getting the class names programatically**"
      ],
      "metadata": {
        "id": "R-3l1tQbD90w"
      }
    },
    {
      "cell_type": "code",
      "source": [
        "import pathlib\n",
        "data_dir = pathlib.Path('/content/gdrive/MyDrive/Colab Notebooks/Spine_Dataset/train')\n",
        "\n",
        "\n",
        "#Create a list of class names from the subdirectory\n",
        "class_names = np.array(sorted([item.name for item in data_dir.glob('*')]))\n",
        "print(class_names)"
      ],
      "metadata": {
        "id": "4q6KHulWD3Oy",
        "colab": {
          "base_uri": "https://localhost:8080/"
        },
        "outputId": "c0a3647c-d9c2-4c55-d9f9-b38c12fb1675"
      },
      "execution_count": 3,
      "outputs": [
        {
          "output_type": "stream",
          "name": "stdout",
          "text": [
            "['filopodia' 'mushroom' 'stubby' 'thin']\n"
          ]
        }
      ]
    },
    {
      "cell_type": "markdown",
      "source": [
        "## **Visualizing the Images**"
      ],
      "metadata": {
        "id": "eGvKFr2OEESp"
      }
    },
    {
      "cell_type": "code",
      "source": [
        "## Using helper function to view random images\n",
        "\n",
        "import random\n",
        "\n",
        "def view_random_image(target_dir, target_class):\n",
        "\n",
        "  #Setting up the target directory(we'll view images from here)\n",
        "  target_folder = target_dir + target_class\n",
        "\n",
        "  # Getting a random image path\n",
        "  random_image = random.sample(os.listdir(target_folder), 1)\n",
        "  print(random_image)\n",
        "\n",
        "  # Reading image and displaying using matplotlib\n",
        "  img = mpimg.imread(target_folder + \"/\" + random_image[0])\n",
        "  plt.imshow(img, cmap='gray')\n",
        "  plt.title(target_class)\n",
        "  plt.axis('off')\n",
        "\n",
        "  print(f'Image shape: {img.shape}') # Showing the size of image\n",
        "\n",
        "  return img"
      ],
      "metadata": {
        "id": "f2RKyBpUEEtx"
      },
      "execution_count": null,
      "outputs": []
    },
    {
      "cell_type": "code",
      "source": [
        "# Viewing random Filopodia spine image\n",
        "\n",
        "target_directory_for_images = '/content/gdrive/MyDrive/Colab Notebooks/Spine_Dataset/train/'\n",
        "target_class_of_image = 'filopodia'\n",
        "\n",
        "img_class1 = view_random_image(target_dir = target_directory_for_images,\n",
        "                        target_class = target_class_of_image)"
      ],
      "metadata": {
        "id": "1yrB40bREGix",
        "colab": {
          "base_uri": "https://localhost:8080/",
          "height": 386
        },
        "outputId": "4030c5a2-22ce-4516-dd4b-57b7903729fc"
      },
      "execution_count": null,
      "outputs": [
        {
          "output_type": "stream",
          "name": "stdout",
          "text": [
            "['filopodiaimage027.png']\n",
            "Image shape: (692, 1177, 4)\n"
          ]
        },
        {
          "output_type": "display_data",
          "data": {
            "text/plain": [
              "<Figure size 640x480 with 1 Axes>"
            ],
            "image/png": "[encoded data removed]"
          },
          "metadata": {}
        }
      ]
    },
    {
      "cell_type": "code",
      "source": [
        "# Viewing random Mushroom spine image\n",
        "\n",
        "target_directory_for_images = '/content/gdrive/MyDrive/Colab Notebooks/Spine_Dataset/train/'\n",
        "target_class_of_image = 'mushroom'\n",
        "\n",
        "img_class2 = view_random_image(target_dir = target_directory_for_images,\n",
        "                        target_class = target_class_of_image)"
      ],
      "metadata": {
        "id": "CrJDi7zwETur",
        "colab": {
          "base_uri": "https://localhost:8080/",
          "height": 464
        },
        "outputId": "0e4537c7-b3b7-40bd-8804-a189ba28ae44"
      },
      "execution_count": null,
      "outputs": [
        {
          "output_type": "stream",
          "name": "stdout",
          "text": [
            "['195.png']\n",
            "Image shape: (250, 250)\n"
          ]
        },
        {
          "output_type": "display_data",
          "data": {
            "text/plain": [
              "<Figure size 640x480 with 1 Axes>"
            ],
            "image/png": "[encoded data removed]"
          },
          "metadata": {}
        }
      ]
    },
    {
      "cell_type": "code",
      "source": [
        "# Viewing random Stubby spine image\n",
        "\n",
        "target_directory_for_images = '/content/gdrive/MyDrive/Colab Notebooks/Spine_Dataset/train/'\n",
        "target_class_of_image = 'stubby'\n",
        "\n",
        "img_class3 = view_random_image(target_dir = target_directory_for_images,\n",
        "                        target_class = target_class_of_image)"
      ],
      "metadata": {
        "id": "-74TLUukER-b",
        "colab": {
          "base_uri": "https://localhost:8080/",
          "height": 464
        },
        "outputId": "ab058935-ca4c-430d-d44b-e252b4b7e392"
      },
      "execution_count": null,
      "outputs": [
        {
          "output_type": "stream",
          "name": "stdout",
          "text": [
            "['54.png']\n",
            "Image shape: (250, 250)\n"
          ]
        },
        {
          "output_type": "display_data",
          "data": {
            "text/plain": [
              "<Figure size 640x480 with 1 Axes>"
            ],
            "image/png": "[encoded data removed]"
          },
          "metadata": {}
        }
      ]
    },
    {
      "cell_type": "code",
      "source": [
        "# Viewing random Thin spine image\n",
        "\n",
        "target_directory_for_images = '/content/gdrive/MyDrive/Colab Notebooks/Spine_Dataset/train/'\n",
        "target_class_of_image = 'thin'\n",
        "\n",
        "img_class4 = view_random_image(target_dir = target_directory_for_images,\n",
        "                        target_class = target_class_of_image)"
      ],
      "metadata": {
        "id": "EG8qx-K6EP4N",
        "colab": {
          "base_uri": "https://localhost:8080/",
          "height": 464
        },
        "outputId": "61bcb98b-86d1-4814-b690-27ba77a1a287"
      },
      "execution_count": null,
      "outputs": [
        {
          "output_type": "stream",
          "name": "stdout",
          "text": [
            "['24.PNG']\n",
            "Image shape: (718, 550, 4)\n"
          ]
        },
        {
          "output_type": "display_data",
          "data": {
            "text/plain": [
              "<Figure size 640x480 with 1 Axes>"
            ],
            "image/png": "[encoded data removed]"
          },
          "metadata": {}
        }
      ]
    },
    {
      "cell_type": "code",
      "source": [
        "img_class1.shape, img_class2.shape, img_class3.shape, img_class4.shape,"
      ],
      "metadata": {
        "id": "KAG1hPhREKW1",
        "colab": {
          "base_uri": "https://localhost:8080/"
        },
        "outputId": "9616444a-f1dd-4311-d9e3-8857707e61aa"
      },
      "execution_count": null,
      "outputs": [
        {
          "output_type": "execute_result",
          "data": {
            "text/plain": [
              "((692, 1177, 4), (250, 250), (250, 250), (718, 550, 4))"
            ]
          },
          "metadata": {},
          "execution_count": 21
        }
      ]
    },
    {
      "cell_type": "markdown",
      "source": [
        "### **Normalizing our data according to the mean dimension of the images present in the training folder**"
      ],
      "metadata": {
        "id": "3HHPF8QnExF4"
      }
    },
    {
      "cell_type": "code",
      "source": [
        "## Setting training, validation and testing directories\n",
        "\n",
        "train_path = '/content/gdrive/MyDrive/Colab Notebooks/Spine_Dataset/train/'\n",
        "val_path = '/content/gdrive/MyDrive/Colab Notebooks/Spine_Dataset/val/'"
      ],
      "metadata": {
        "id": "xhIHAxVzExgz"
      },
      "execution_count": 4,
      "outputs": []
    },
    {
      "cell_type": "code",
      "source": [
        "class_names,class_names[0], type(class_names[0])"
      ],
      "metadata": {
        "id": "IdMgeVv3EBHb",
        "colab": {
          "base_uri": "https://localhost:8080/"
        },
        "outputId": "6713d512-6419-4cfc-ef34-6c9fd189a7ce"
      },
      "execution_count": 5,
      "outputs": [
        {
          "output_type": "execute_result",
          "data": {
            "text/plain": [
              "(array(['filopodia', 'mushroom', 'stubby', 'thin'], dtype='<U9'),\n",
              " 'filopodia',\n",
              " numpy.str_)"
            ]
          },
          "metadata": {},
          "execution_count": 5
        }
      ]
    },
    {
      "cell_type": "markdown",
      "source": [
        "#### **Getting the mean dimension of the images to rescale them**"
      ],
      "metadata": {
        "id": "26Mu8zQoFF-A"
      }
    },
    {
      "cell_type": "code",
      "source": [
        "dim1 = []\n",
        "dim2 = []\n",
        "\n",
        "for image_filename in os.listdir(train_path+class_names[2]):\n",
        "\n",
        "    if(image_filename.split('.')[1] == 'jpg'):\n",
        "      img = mpimg.imread(train_path+class_names[2] +'/'+image_filename)\n",
        "      d1,d2 = img.shape\n",
        "      dim1.append(d1)\n",
        "      dim2.append(d2)\n",
        "\n",
        "\n",
        "np.mean(dim1),np.mean(dim2)"
      ],
      "metadata": {
        "id": "YAHwKN9AFGWC",
        "colab": {
          "base_uri": "https://localhost:8080/"
        },
        "outputId": "4f0209a1-059c-40a0-f08a-1651d68f00f6"
      },
      "execution_count": 6,
      "outputs": [
        {
          "output_type": "execute_result",
          "data": {
            "text/plain": [
              "(250.0, 250.0)"
            ]
          },
          "metadata": {},
          "execution_count": 6
        }
      ]
    },
    {
      "cell_type": "code",
      "source": [
        "# Visualizing the mean dimension for all the images in the train set\n",
        "\n",
        "sns.jointplot(x=dim1, y=dim2)"
      ],
      "metadata": {
        "id": "miPM_ltXFHr-",
        "colab": {
          "base_uri": "https://localhost:8080/",
          "height": 644
        },
        "outputId": "34ae89ca-381a-40df-fd32-43d68bf770f4"
      },
      "execution_count": 7,
      "outputs": [
        {
          "output_type": "execute_result",
          "data": {
            "text/plain": [
              "<seaborn.axisgrid.JointGrid at 0x7cef4ca1d840>"
            ]
          },
          "metadata": {},
          "execution_count": 7
        },
        {
          "output_type": "display_data",
          "data": {
            "text/plain": [
              "<Figure size 600x600 with 3 Axes>"
            ],
            "image/png": "[encoded data removed]"
          },
          "metadata": {}
        }
      ]
    },
    {
      "cell_type": "markdown",
      "source": [
        "## **Augmenting images and compiling the model**"
      ],
      "metadata": {
        "id": "nXYobpCtGyQQ"
      }
    },
    {
      "cell_type": "code",
      "source": [
        "from tensorflow.keras.preprocessing.image import ImageDataGenerator"
      ],
      "metadata": {
        "id": "QR9W4G2gGymR"
      },
      "execution_count": 8,
      "outputs": []
    },
    {
      "cell_type": "markdown",
      "source": [
        "#### ***Changing image dimension to (224,224) for matching EfficientNetB7 input dimesnions***"
      ],
      "metadata": {
        "id": "-mHhd_d6I11m"
      }
    },
    {
      "cell_type": "code",
      "source": [
        "image_size = (224,224)\n",
        "\n",
        "datagen = ImageDataGenerator(\n",
        "    rotation_range=20,\n",
        "    width_shift_range=0.10, # Shift the pic width by a max of 5%\n",
        "    height_shift_range=0.10, # Shift the pic height by a max of 5%\n",
        "    rescale=1/255, # Rescale the image by normalzing it.\n",
        "    shear_range=0.1, # Shear means cutting away part of the image (max 10%)\n",
        "    zoom_range=0.1, # Zoom in by 10% max\n",
        "    horizontal_flip=True, # Allow horizontal flipping\n",
        "    fill_mode='nearest' # Fill in missing pixels with the nearest filled value\n",
        ")\n",
        "\n",
        "train_gen = datagen.flow_from_directory(\n",
        "    train_path,\n",
        "    target_size=image_size,\n",
        "    batch_size=32,\n",
        "    color_mode='rgb',\n",
        "    class_mode='categorical'\n",
        ")\n",
        "\n",
        "validation_gen = datagen.flow_from_directory(\n",
        "    val_path,\n",
        "    target_size=image_size,\n",
        "    batch_size=32,\n",
        "    color_mode='rgb',\n",
        "    class_mode='categorical',\n",
        "    shuffle=False,\n",
        ")"
      ],
      "metadata": {
        "id": "ymBQxh2WG2Ip",
        "colab": {
          "base_uri": "https://localhost:8080/"
        },
        "outputId": "2cdd679b-6b63-4488-da76-fcfaf82d62c1"
      },
      "execution_count": 9,
      "outputs": [
        {
          "output_type": "stream",
          "name": "stdout",
          "text": [
            "Found 443 images belonging to 4 classes.\n",
            "Found 112 images belonging to 4 classes.\n"
          ]
        }
      ]
    },
    {
      "cell_type": "markdown",
      "source": [
        "#### **Labels for the classes (Which class indicates which index)**"
      ],
      "metadata": {
        "id": "q2-KLagqG_5H"
      }
    },
    {
      "cell_type": "code",
      "source": [
        "train_gen.class_indices"
      ],
      "metadata": {
        "id": "IWGGk0cRHAUF",
        "colab": {
          "base_uri": "https://localhost:8080/"
        },
        "outputId": "14a6919c-2375-4550-c337-b3e4c9b3adb3"
      },
      "execution_count": null,
      "outputs": [
        {
          "output_type": "execute_result",
          "data": {
            "text/plain": [
              "{'filopodia': 0, 'mushroom': 1, 'stubby': 2, 'thin': 3}"
            ]
          },
          "metadata": {},
          "execution_count": 28
        }
      ]
    },
    {
      "cell_type": "code",
      "source": [
        "validation_gen.class_indices"
      ],
      "metadata": {
        "id": "0wbbnQJ_HBeH",
        "colab": {
          "base_uri": "https://localhost:8080/"
        },
        "outputId": "38e3e423-6dd1-49ce-e74c-6c5f6bd9100e"
      },
      "execution_count": null,
      "outputs": [
        {
          "output_type": "execute_result",
          "data": {
            "text/plain": [
              "{'filopodia': 0, 'mushroom': 1, 'stubby': 2, 'thin': 3}"
            ]
          },
          "metadata": {},
          "execution_count": 29
        }
      ]
    },
    {
      "cell_type": "markdown",
      "source": [
        "## **Creating base model from pretrained EfficientNetB7**"
      ],
      "metadata": {
        "id": "KCX_ZZqKHgZn"
      }
    },
    {
      "cell_type": "code",
      "source": [
        "from tensorflow.keras.applications import EfficientNetB7"
      ],
      "metadata": {
        "id": "u6A-lrXo7jl_"
      },
      "execution_count": 10,
      "outputs": []
    },
    {
      "cell_type": "markdown",
      "source": [
        "### ***Build the classification model***"
      ],
      "metadata": {
        "id": "WBWHfHfIJY-d"
      }
    },
    {
      "cell_type": "code",
      "source": [
        "from tensorflow.keras import metrics"
      ],
      "metadata": {
        "id": "n-cWXMXvUMPn"
      },
      "execution_count": 11,
      "outputs": []
    },
    {
      "cell_type": "code",
      "source": [
        "## Implementing distributed training with multiple GPUs for faster training\n",
        "\n",
        "mirrored_strategy = tf.distribute.MirroredStrategy()\n",
        "\n",
        "with mirrored_strategy.scope():\n",
        "  base_model = EfficientNetB7(weights='imagenet', include_top=False, input_shape=(224, 224, 3))\n",
        "  base_model.trainable = False  # Freeze the base model\n",
        "  model = tf.keras.Sequential([\n",
        "      base_model,\n",
        "      tf.keras.layers.GlobalAveragePooling2D(),\n",
        "      tf.keras.layers.Dense(1024, activation='relu'),\n",
        "      tf.keras.layers.Dense(4, activation='softmax')  # 4 categories\n",
        "  ])\n",
        "  model.compile(optimizer='adam', loss='categorical_crossentropy', metrics=['accuracy', metrics.Precision(), metrics.Recall()])"
      ],
      "metadata": {
        "id": "6WvL_0E6E2SI",
        "colab": {
          "base_uri": "https://localhost:8080/"
        },
        "outputId": "e111b5f2-a49f-443f-db16-e1f0cc885555"
      },
      "execution_count": 12,
      "outputs": [
        {
          "output_type": "stream",
          "name": "stdout",
          "text": [
            "Downloading data from https://storage.googleapis.com/keras-applications/efficientnetb7_notop.h5\n",
            "258076736/258076736 [==============================] - 2s 0us/step\n"
          ]
        }
      ]
    },
    {
      "cell_type": "code",
      "source": [
        "# Summarizing the Model\n",
        "model.summary()"
      ],
      "metadata": {
        "id": "N266PMQeH9sX",
        "colab": {
          "base_uri": "https://localhost:8080/"
        },
        "outputId": "198f94d8-46da-4067-bdad-1b3f6f08876d"
      },
      "execution_count": 13,
      "outputs": [
        {
          "output_type": "stream",
          "name": "stdout",
          "text": [
            "Model: \"sequential\"\n",
            "_________________________________________________________________\n",
            " Layer (type)                Output Shape              Param #   \n",
            "=================================================================\n",
            " efficientnetb7 (Functional  (None, 7, 7, 2560)        64097687  \n",
            " )                                                               \n",
            "                                                                 \n",
            " global_average_pooling2d (  (None, 2560)              0         \n",
            " GlobalAveragePooling2D)                                         \n",
            "                                                                 \n",
            " dense (Dense)               (None, 1024)              2622464   \n",
            "                                                                 \n",
            " dense_1 (Dense)             (None, 4)                 4100      \n",
            "                                                                 \n",
            "=================================================================\n",
            "Total params: 66724251 (254.53 MB)\n",
            "Trainable params: 2626564 (10.02 MB)\n",
            "Non-trainable params: 64097687 (244.51 MB)\n",
            "_________________________________________________________________\n"
          ]
        }
      ]
    },
    {
      "cell_type": "code",
      "source": [
        "## Fitting the model\n",
        "\n",
        "model_history = model.fit(train_gen, epochs=20, validation_data=validation_gen)"
      ],
      "metadata": {
        "id": "tGm1Z1EbJ6Lv",
        "colab": {
          "base_uri": "https://localhost:8080/"
        },
        "outputId": "91acc3c7-fd34-45d6-ee87-22e9e91828e5"
      },
      "execution_count": 14,
      "outputs": [
        {
          "output_type": "stream",
          "name": "stdout",
          "text": [
            "Epoch 1/20\n",
            "14/14 [==============================] - 115s 6s/step - loss: 1.2749 - accuracy: 0.5395 - precision: 0.5808 - recall: 0.3815 - val_loss: 0.9370 - val_accuracy: 0.6607 - val_precision: 0.7059 - val_recall: 0.5357\n",
            "Epoch 2/20\n",
            "14/14 [==============================] - 12s 866ms/step - loss: 1.0176 - accuracy: 0.5914 - precision: 0.6471 - recall: 0.4718 - val_loss: 0.8945 - val_accuracy: 0.6696 - val_precision: 0.7500 - val_recall: 0.4821\n",
            "Epoch 3/20\n",
            "14/14 [==============================] - 11s 788ms/step - loss: 0.9355 - accuracy: 0.5959 - precision: 0.6581 - recall: 0.4650 - val_loss: 0.7483 - val_accuracy: 0.6607 - val_precision: 0.7079 - val_recall: 0.5625\n",
            "Epoch 4/20\n",
            "14/14 [==============================] - 13s 898ms/step - loss: 0.8185 - accuracy: 0.6275 - precision: 0.7151 - recall: 0.5440 - val_loss: 0.7220 - val_accuracy: 0.7321 - val_precision: 0.8636 - val_recall: 0.5089\n",
            "Epoch 5/20\n",
            "14/14 [==============================] - 12s 854ms/step - loss: 0.7988 - accuracy: 0.6682 - precision: 0.7169 - recall: 0.5372 - val_loss: 0.6551 - val_accuracy: 0.7143 - val_precision: 0.7407 - val_recall: 0.7143\n",
            "Epoch 6/20\n",
            "14/14 [==============================] - 12s 880ms/step - loss: 0.8101 - accuracy: 0.6569 - precision: 0.7151 - recall: 0.5666 - val_loss: 0.6419 - val_accuracy: 0.7321 - val_precision: 0.7308 - val_recall: 0.6786\n",
            "Epoch 7/20\n",
            "14/14 [==============================] - 14s 984ms/step - loss: 0.8157 - accuracy: 0.6479 - precision: 0.6900 - recall: 0.5779 - val_loss: 0.6729 - val_accuracy: 0.7768 - val_precision: 0.8400 - val_recall: 0.5625\n",
            "Epoch 8/20\n",
            "14/14 [==============================] - 14s 999ms/step - loss: 0.8580 - accuracy: 0.6411 - precision: 0.6829 - recall: 0.5688 - val_loss: 0.7676 - val_accuracy: 0.6429 - val_precision: 0.6606 - val_recall: 0.6429\n",
            "Epoch 9/20\n",
            "14/14 [==============================] - 14s 997ms/step - loss: 0.7999 - accuracy: 0.6366 - precision: 0.6711 - recall: 0.5756 - val_loss: 0.7245 - val_accuracy: 0.6964 - val_precision: 0.7059 - val_recall: 0.6429\n",
            "Epoch 10/20\n",
            "14/14 [==============================] - 14s 982ms/step - loss: 0.7811 - accuracy: 0.6817 - precision: 0.7116 - recall: 0.6072 - val_loss: 0.6243 - val_accuracy: 0.7143 - val_precision: 0.7700 - val_recall: 0.6875\n",
            "Epoch 11/20\n",
            "14/14 [==============================] - 14s 993ms/step - loss: 0.7436 - accuracy: 0.6749 - precision: 0.7051 - recall: 0.6208 - val_loss: 0.6877 - val_accuracy: 0.6696 - val_precision: 0.7609 - val_recall: 0.6250\n",
            "Epoch 12/20\n",
            "14/14 [==============================] - 12s 857ms/step - loss: 0.7148 - accuracy: 0.6907 - precision: 0.7178 - recall: 0.6546 - val_loss: 0.6678 - val_accuracy: 0.7232 - val_precision: 0.8118 - val_recall: 0.6161\n",
            "Epoch 13/20\n",
            "14/14 [==============================] - 12s 869ms/step - loss: 0.7271 - accuracy: 0.7133 - precision: 0.7487 - recall: 0.6388 - val_loss: 0.5878 - val_accuracy: 0.7321 - val_precision: 0.7333 - val_recall: 0.6875\n",
            "Epoch 14/20\n",
            "14/14 [==============================] - 12s 876ms/step - loss: 0.6912 - accuracy: 0.7020 - precision: 0.7359 - recall: 0.6479 - val_loss: 0.6140 - val_accuracy: 0.7946 - val_precision: 0.8100 - val_recall: 0.7232\n",
            "Epoch 15/20\n",
            "14/14 [==============================] - 12s 835ms/step - loss: 0.7074 - accuracy: 0.6975 - precision: 0.7363 - recall: 0.6366 - val_loss: 0.5923 - val_accuracy: 0.7411 - val_precision: 0.7547 - val_recall: 0.7143\n",
            "Epoch 16/20\n",
            "14/14 [==============================] - 11s 772ms/step - loss: 0.8177 - accuracy: 0.6749 - precision: 0.6872 - recall: 0.6298 - val_loss: 0.5814 - val_accuracy: 0.7500 - val_precision: 0.7383 - val_recall: 0.7054\n",
            "Epoch 17/20\n",
            "14/14 [==============================] - 12s 858ms/step - loss: 0.6343 - accuracy: 0.7540 - precision: 0.7923 - recall: 0.6975 - val_loss: 0.5392 - val_accuracy: 0.7321 - val_precision: 0.7477 - val_recall: 0.7143\n",
            "Epoch 18/20\n",
            "14/14 [==============================] - 12s 872ms/step - loss: 0.7013 - accuracy: 0.7336 - precision: 0.7438 - recall: 0.6749 - val_loss: 0.6501 - val_accuracy: 0.6964 - val_precision: 0.7156 - val_recall: 0.6964\n",
            "Epoch 19/20\n",
            "14/14 [==============================] - 12s 884ms/step - loss: 0.6944 - accuracy: 0.7178 - precision: 0.7441 - recall: 0.6366 - val_loss: 0.5718 - val_accuracy: 0.7411 - val_precision: 0.8020 - val_recall: 0.7232\n",
            "Epoch 20/20\n",
            "14/14 [==============================] - 12s 874ms/step - loss: 0.6728 - accuracy: 0.7314 - precision: 0.7520 - recall: 0.6501 - val_loss: 0.6446 - val_accuracy: 0.7500 - val_precision: 0.7477 - val_recall: 0.7411\n"
          ]
        }
      ]
    },
    {
      "cell_type": "code",
      "source": [
        "#Plotting loss per iteration\n",
        "\n",
        "plt.plot(model_history.history['loss'],label='loss')\n",
        "plt.plot(model_history.history['val_loss'], label = 'validation_loss')\n",
        "plt.legend()"
      ],
      "metadata": {
        "id": "KxL8NfHmJqpW",
        "colab": {
          "base_uri": "https://localhost:8080/",
          "height": 448
        },
        "outputId": "d4c91c30-ba01-45ed-fad0-29bf66dfe9c5"
      },
      "execution_count": 15,
      "outputs": [
        {
          "output_type": "execute_result",
          "data": {
            "text/plain": [
              "<matplotlib.legend.Legend at 0x7ceea7057b20>"
            ]
          },
          "metadata": {},
          "execution_count": 15
        },
        {
          "output_type": "display_data",
          "data": {
            "text/plain": [
              "<Figure size 640x480 with 1 Axes>"
            ],
            "image/png": "[encoded data removed]"
          },
          "metadata": {}
        }
      ]
    },
    {
      "cell_type": "code",
      "source": [
        "#Plotting accuracy per iteration\n",
        "\n",
        "plt.plot(model_history.history['accuracy'],label='accuracy')\n",
        "plt.plot(model_history.history['val_accuracy'], label = 'validation_accuracy')\n",
        "plt.legend()"
      ],
      "metadata": {
        "id": "icrMTqBJNtkC",
        "colab": {
          "base_uri": "https://localhost:8080/",
          "height": 448
        },
        "outputId": "a939506a-4b4e-4663-c001-8a1240f9faab"
      },
      "execution_count": 16,
      "outputs": [
        {
          "output_type": "execute_result",
          "data": {
            "text/plain": [
              "<matplotlib.legend.Legend at 0x7cee9ae3c070>"
            ]
          },
          "metadata": {},
          "execution_count": 16
        },
        {
          "output_type": "display_data",
          "data": {
            "text/plain": [
              "<Figure size 640x480 with 1 Axes>"
            ],
            "image/png": "[encoded data removed]"
          },
          "metadata": {}
        }
      ]
    },
    {
      "cell_type": "code",
      "source": [
        "## Evaluating our model\n",
        "\n",
        "print(model.evaluate(validation_gen))"
      ],
      "metadata": {
        "id": "cZ-uLXdeNxyO",
        "colab": {
          "base_uri": "https://localhost:8080/"
        },
        "outputId": "958335ca-1ec8-4859-846f-1931731d49b1"
      },
      "execution_count": 17,
      "outputs": [
        {
          "output_type": "stream",
          "name": "stdout",
          "text": [
            "4/4 [==============================] - 3s 690ms/step - loss: 0.6587 - accuracy: 0.7054 - precision: 0.7130 - recall: 0.6875\n",
            "[0.6587279438972473, 0.7053571343421936, 0.7129629850387573, 0.6875]\n"
          ]
        }
      ]
    },
    {
      "cell_type": "code",
      "source": [
        "# Get the evaluation results\n",
        "eval_results = model.evaluate(validation_gen)\n",
        "\n",
        "# Extract the precision and recall values\n",
        "precision = eval_results[2]\n",
        "recall = eval_results[3]\n",
        "\n",
        "# Calculate F1 score\n",
        "f1_score = 2 * (precision * recall) / (precision + recall)\n",
        "\n",
        "print(\"F1 Score: \", f1_score)"
      ],
      "metadata": {
        "colab": {
          "base_uri": "https://localhost:8080/"
        },
        "id": "uFPZobfqgrTM",
        "outputId": "d909eafd-7df9-418e-da8c-e8178fe9072e"
      },
      "execution_count": 18,
      "outputs": [
        {
          "output_type": "stream",
          "name": "stdout",
          "text": [
            "4/4 [==============================] - 2s 432ms/step - loss: 0.6265 - accuracy: 0.7321 - precision: 0.7358 - recall: 0.6964\n",
            "F1 Score:  0.7155963559913652\n"
          ]
        }
      ]
    },
    {
      "cell_type": "markdown",
      "source": [
        "## **Testing and predicting custom images**"
      ],
      "metadata": {
        "id": "siADffQCVXPV"
      }
    },
    {
      "cell_type": "code",
      "source": [
        "from google.colab import files\n",
        "from tensorflow.keras.preprocessing import image"
      ],
      "metadata": {
        "id": "Ieum4kadN1Yn"
      },
      "execution_count": null,
      "outputs": []
    },
    {
      "cell_type": "code",
      "source": [
        "plt.figure(figsize=(10, 10))\n",
        "\n",
        "uploaded=files.upload()"
      ],
      "metadata": {
        "id": "j7pvdEleVZ5z",
        "colab": {
          "base_uri": "https://localhost:8080/",
          "height": 91
        },
        "outputId": "b762109a-930b-4b76-fcca-25a6deabb7c1"
      },
      "execution_count": null,
      "outputs": [
        {
          "output_type": "display_data",
          "data": {
            "text/plain": [
              "<IPython.core.display.HTML object>"
            ],
            "text/html": [
              "\n",
              "     <input type=\"file\" id=\"files-187c5197-df43-451f-9cae-724f613adc70\" name=\"files[]\" multiple disabled\n",
              "        style=\"border:none\" />\n",
              "     <output id=\"result-187c5197-df43-451f-9cae-724f613adc70\">\n",
              "      Upload widget is only available when the cell has been executed in the\n",
              "      current browser session. Please rerun this cell to enable.\n",
              "      </output>\n",
              "      <script>// Copyright 2017 Google LLC\n",
              "//\n",
              "// Licensed under the Apache License, Version 2.0 (the \"License\");\n",
              "// you may not use this file except in compliance with the License.\n",
              "// You may obtain a copy of the License at\n",
              "//\n",
              "//      http://www.apache.org/licenses/LICENSE-2.0\n",
              "//\n",
              "// Unless required by applicable law or agreed to in writing, software\n",
              "// distributed under the License is distributed on an \"AS IS\" BASIS,\n",
              "// WITHOUT WARRANTIES OR CONDITIONS OF ANY KIND, either express or implied.\n",
              "// See the License for the specific language governing permissions and\n",
              "// limitations under the License.\n",
              "\n",
              "/**\n",
              " * @fileoverview Helpers for google.colab Python module.\n",
              " */\n",
              "(function(scope) {\n",
              "function span(text, styleAttributes = {}) {\n",
              "  const element = document.createElement('span');\n",
              "  element.textContent = text;\n",
              "  for (const key of Object.keys(styleAttributes)) {\n",
              "    element.style[key] = styleAttributes[key];\n",
              "  }\n",
              "  return element;\n",
              "}\n",
              "\n",
              "// Max number of bytes which will be uploaded at a time.\n",
              "const MAX_PAYLOAD_SIZE = 100 * 1024;\n",
              "\n",
              "function _uploadFiles(inputId, outputId) {\n",
              "  const steps = uploadFilesStep(inputId, outputId);\n",
              "  const outputElement = document.getElementById(outputId);\n",
              "  // Cache steps on the outputElement to make it available for the next call\n",
              "  // to uploadFilesContinue from Python.\n",
              "  outputElement.steps = steps;\n",
              "\n",
              "  return _uploadFilesContinue(outputId);\n",
              "}\n",
              "\n",
              "// This is roughly an async generator (not supported in the browser yet),\n",
              "// where there are multiple asynchronous steps and the Python side is going\n",
              "// to poll for completion of each step.\n",
              "// This uses a Promise to block the python side on completion of each step,\n",
              "// then passes the result of the previous step as the input to the next step.\n",
              "function _uploadFilesContinue(outputId) {\n",
              "  const outputElement = document.getElementById(outputId);\n",
              "  const steps = outputElement.steps;\n",
              "\n",
              "  const next = steps.next(outputElement.lastPromiseValue);\n",
              "  return Promise.resolve(next.value.promise).then((value) => {\n",
              "    // Cache the last promise value to make it available to the next\n",
              "    // step of the generator.\n",
              "    outputElement.lastPromiseValue = value;\n",
              "    return next.value.response;\n",
              "  });\n",
              "}\n",
              "\n",
              "/**\n",
              " * Generator function which is called between each async step of the upload\n",
              " * process.\n",
              " * @param {string} inputId Element ID of the input file picker element.\n",
              " * @param {string} outputId Element ID of the output display.\n",
              " * @return {!Iterable<!Object>} Iterable of next steps.\n",
              " */\n",
              "function* uploadFilesStep(inputId, outputId) {\n",
              "  const inputElement = document.getElementById(inputId);\n",
              "  inputElement.disabled = false;\n",
              "\n",
              "  const outputElement = document.getElementById(outputId);\n",
              "  outputElement.innerHTML = '';\n",
              "\n",
              "  const pickedPromise = new Promise((resolve) => {\n",
              "    inputElement.addEventListener('change', (e) => {\n",
              "      resolve(e.target.files);\n",
              "    });\n",
              "  });\n",
              "\n",
              "  const cancel = document.createElement('button');\n",
              "  inputElement.parentElement.appendChild(cancel);\n",
              "  cancel.textContent = 'Cancel upload';\n",
              "  const cancelPromise = new Promise((resolve) => {\n",
              "    cancel.onclick = () => {\n",
              "      resolve(null);\n",
              "    };\n",
              "  });\n",
              "\n",
              "  // Wait for the user to pick the files.\n",
              "  const files = yield {\n",
              "    promise: Promise.race([pickedPromise, cancelPromise]),\n",
              "    response: {\n",
              "      action: 'starting',\n",
              "    }\n",
              "  };\n",
              "\n",
              "  cancel.remove();\n",
              "\n",
              "  // Disable the input element since further picks are not allowed.\n",
              "  inputElement.disabled = true;\n",
              "\n",
              "  if (!files) {\n",
              "    return {\n",
              "      response: {\n",
              "        action: 'complete',\n",
              "      }\n",
              "    };\n",
              "  }\n",
              "\n",
              "  for (const file of files) {\n",
              "    const li = document.createElement('li');\n",
              "    li.append(span(file.name, {fontWeight: 'bold'}));\n",
              "    li.append(span(\n",
              "        `(${file.type || 'n/a'}) - ${file.size} bytes, ` +\n",
              "        `last modified: ${\n",
              "            file.lastModifiedDate ? file.lastModifiedDate.toLocaleDateString() :\n",
              "                                    'n/a'} - `));\n",
              "    const percent = span('0% done');\n",
              "    li.appendChild(percent);\n",
              "\n",
              "    outputElement.appendChild(li);\n",
              "\n",
              "    const fileDataPromise = new Promise((resolve) => {\n",
              "      const reader = new FileReader();\n",
              "      reader.onload = (e) => {\n",
              "        resolve(e.target.result);\n",
              "      };\n",
              "      reader.readAsArrayBuffer(file);\n",
              "    });\n",
              "    // Wait for the data to be ready.\n",
              "    let fileData = yield {\n",
              "      promise: fileDataPromise,\n",
              "      response: {\n",
              "        action: 'continue',\n",
              "      }\n",
              "    };\n",
              "\n",
              "    // Use a chunked sending to avoid message size limits. See b/62115660.\n",
              "    let position = 0;\n",
              "    do {\n",
              "      const length = Math.min(fileData.byteLength - position, MAX_PAYLOAD_SIZE);\n",
              "      const chunk = new Uint8Array(fileData, position, length);\n",
              "      position += length;\n",
              "\n",
              "      const base64 = btoa(String.fromCharCode.apply(null, chunk));\n",
              "      yield {\n",
              "        response: {\n",
              "          action: 'append',\n",
              "          file: file.name,\n",
              "          data: base64,\n",
              "        },\n",
              "      };\n",
              "\n",
              "      let percentDone = fileData.byteLength === 0 ?\n",
              "          100 :\n",
              "          Math.round((position / fileData.byteLength) * 100);\n",
              "      percent.textContent = `${percentDone}% done`;\n",
              "\n",
              "    } while (position < fileData.byteLength);\n",
              "  }\n",
              "\n",
              "  // All done.\n",
              "  yield {\n",
              "    response: {\n",
              "      action: 'complete',\n",
              "    }\n",
              "  };\n",
              "}\n",
              "\n",
              "scope.google = scope.google || {};\n",
              "scope.google.colab = scope.google.colab || {};\n",
              "scope.google.colab._files = {\n",
              "  _uploadFiles,\n",
              "  _uploadFilesContinue,\n",
              "};\n",
              "})(self);\n",
              "</script> "
            ]
          },
          "metadata": {}
        },
        {
          "output_type": "stream",
          "name": "stdout",
          "text": [
            "Saving 42.png to 42.png\n"
          ]
        },
        {
          "output_type": "display_data",
          "data": {
            "text/plain": [
              "<Figure size 1000x1000 with 0 Axes>"
            ]
          },
          "metadata": {}
        }
      ]
    },
    {
      "cell_type": "code",
      "source": [
        "i=1\n",
        "\n",
        "for fn in uploaded.keys():\n",
        "\n",
        "  # predicting images\n",
        "\n",
        "  path='/content/gdrive/MyDrive/Colab Notebooks/Spine_Dataset/' + fn\n",
        "  img=tf.keras.utils.load_img(path, color_mode='rgb',target_size=(224, 224))\n",
        "\n",
        "  plt.subplot(1,2,i)\n",
        "\n",
        "  plt.imshow(img,cmap='gray',label=fn)\n",
        "  plt.axis('off')\n",
        "\n",
        "  i+=1\n",
        "\n",
        "  x=image.img_to_array(img)\n",
        "  print(f\"The shape is {x.shape}\")\n",
        "  x=np.expand_dims(x, axis=0)\n",
        "  images = np.vstack([x])\n",
        "\n",
        "  classes = model.predict(images,batch_size=16)\n",
        "  #print(classes)\n",
        "\n",
        "values = classes[0].tolist()\n",
        "ind = values.index(max(values)) + 1\n",
        "if(ind==1):\n",
        "  print('The uploaded image of spine belongs to the class FILOPODIA')\n",
        "elif(ind==2):\n",
        "  print('The uploaded image of spine belongs to the class MUSHROOM')\n",
        "elif(ind==3):\n",
        "  print('The uploaded image of spine belongs to the class STUBBY')\n",
        "elif(ind==4):\n",
        "  print('The uploaded image of spine belongs to the class THIN')"
      ],
      "metadata": {
        "id": "QHHyRresVgu7",
        "colab": {
          "base_uri": "https://localhost:8080/",
          "height": 316
        },
        "outputId": "da5642fe-a4d7-4e9e-aab4-dfd8fa94d0e6"
      },
      "execution_count": null,
      "outputs": [
        {
          "output_type": "stream",
          "name": "stdout",
          "text": [
            "The shape is (224, 224, 3)\n",
            "1/1 [==============================] - 10s 10s/step\n",
            "The uploaded image of spine belongs to the class MUSHROOM\n"
          ]
        },
        {
          "output_type": "display_data",
          "data": {
            "text/plain": [
              "<Figure size 640x480 with 1 Axes>"
            ],
            "image/png": "[encoded data removed]"
          },
          "metadata": {}
        }
      ]
    },
    {
      "cell_type": "code",
      "source": [
        "model.save(filepath=\"/content/gdrive/MyDrive/Colab Notebooks/EfficientNetB7_model/EfficientNetB7_spine.h5\", overwrite=True)\n",
        "print('Model Saved in hdf5 format')"
      ],
      "metadata": {
        "colab": {
          "base_uri": "https://localhost:8080/"
        },
        "id": "ED-yP9PTESI1",
        "outputId": "73c94822-451e-431e-8e84-6656c200e714"
      },
      "execution_count": null,
      "outputs": [
        {
          "output_type": "stream",
          "name": "stderr",
          "text": [
            "/usr/local/lib/python3.10/dist-packages/keras/src/engine/training.py:3103: UserWarning: You are saving your model as an HDF5 file via `model.save()`. This file format is considered legacy. We recommend using instead the native Keras format, e.g. `model.save('my_model.keras')`.\n",
            "  saving_api.save_model(\n"
          ]
        },
        {
          "output_type": "stream",
          "name": "stdout",
          "text": [
            "Model Saved in hdf5 format\n"
          ]
        }
      ]
    }
  ]
}