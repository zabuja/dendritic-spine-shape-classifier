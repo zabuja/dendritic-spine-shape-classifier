{
  "nbformat": 4,
  "nbformat_minor": 0,
  "metadata": {
    "colab": {
      "provenance": [],
      "gpuType": "T4"
    },
    "kernelspec": {
      "name": "python3",
      "display_name": "Python 3"
    },
    "language_info": {
      "name": "python"
    },
    "accelerator": "GPU"
  },
  "cells": [
    {
      "cell_type": "markdown",
      "source": [
        "# **Importing necessary libraries for EDA and building the CNN model for multi-class image classification**"
      ],
      "metadata": {
        "id": "rkxp2aV7Cl1b"
      }
    },
    {
      "cell_type": "code",
      "source": [
        "import os\n",
        "import tensorflow as tf\n",
        "import matplotlib.pyplot as plt\n",
        "import matplotlib.image as mpimg\n",
        "import numpy as np\n",
        "import pandas as pd\n",
        "import seaborn as sns\n",
        "from keras.models import load_model\n",
        "import tensorflow_hub as hub"
      ],
      "metadata": {
        "id": "YgD0K2Q9CmnZ"
      },
      "execution_count": 1,
      "outputs": []
    },
    {
      "cell_type": "code",
      "source": [
        "print(tf.__version__)"
      ],
      "metadata": {
        "colab": {
          "base_uri": "https://localhost:8080/"
        },
        "id": "K12iG_FDCryt",
        "outputId": "4b20693f-a510-46f0-c0b7-559f6bea4eeb"
      },
      "execution_count": null,
      "outputs": [
        {
          "output_type": "stream",
          "name": "stdout",
          "text": [
            "2.15.0\n"
          ]
        }
      ]
    },
    {
      "cell_type": "code",
      "source": [
        "from google.colab import drive\n",
        "drive.mount('/content/gdrive')"
      ],
      "metadata": {
        "id": "xzXYnxAOCw8q",
        "colab": {
          "base_uri": "https://localhost:8080/"
        },
        "outputId": "2716cc94-5538-43d1-a493-f8695a65f290"
      },
      "execution_count": 2,
      "outputs": [
        {
          "output_type": "stream",
          "name": "stdout",
          "text": [
            "Mounted at /content/gdrive\n"
          ]
        }
      ]
    },
    {
      "cell_type": "code",
      "source": [
        "%cd /content/gdrive/MyDrive/Colab Notebooks/Dataset_spines"
      ],
      "metadata": {
        "id": "1J-dbWrGCy7f",
        "colab": {
          "base_uri": "https://localhost:8080/"
        },
        "outputId": "7efa456c-ba46-4a9a-9887-4c6266e31d89"
      },
      "execution_count": null,
      "outputs": [
        {
          "output_type": "stream",
          "name": "stdout",
          "text": [
            "/content/gdrive/MyDrive/Colab Notebooks/Dataset_spines\n"
          ]
        }
      ]
    },
    {
      "cell_type": "code",
      "source": [
        "!ls"
      ],
      "metadata": {
        "id": "LScclghKDAMe",
        "colab": {
          "base_uri": "https://localhost:8080/"
        },
        "outputId": "2ac01c00-fabf-4277-e2ff-f4a0a6b7a25a"
      },
      "execution_count": null,
      "outputs": [
        {
          "output_type": "stream",
          "name": "stdout",
          "text": [
            "filopodia  mushroom  stubby  thin\n"
          ]
        }
      ]
    },
    {
      "cell_type": "code",
      "source": [
        "np.random.seed(101)"
      ],
      "metadata": {
        "id": "suqj-h3UDBx-"
      },
      "execution_count": null,
      "outputs": []
    },
    {
      "cell_type": "markdown",
      "source": [
        "## **Working with Validation and training data**"
      ],
      "metadata": {
        "id": "wDlWQae6DYJA"
      }
    },
    {
      "cell_type": "code",
      "source": [
        "%cd '/content/gdrive/MyDrive/Colab Notebooks/Spine_Dataset'"
      ],
      "metadata": {
        "id": "gp8cAtTEDQMR",
        "colab": {
          "base_uri": "https://localhost:8080/"
        },
        "outputId": "adef38d5-7baf-43d2-935c-7dfcace4fc81"
      },
      "execution_count": 3,
      "outputs": [
        {
          "output_type": "stream",
          "name": "stdout",
          "text": [
            "/content/gdrive/MyDrive/Colab Notebooks/Spine_Dataset\n"
          ]
        }
      ]
    },
    {
      "cell_type": "code",
      "source": [
        "!pwd"
      ],
      "metadata": {
        "id": "qruk1bHNDeQ6",
        "colab": {
          "base_uri": "https://localhost:8080/"
        },
        "outputId": "150255d7-0bc0-48c8-d4f2-892eb8cec03c"
      },
      "execution_count": null,
      "outputs": [
        {
          "output_type": "stream",
          "name": "stdout",
          "text": [
            "/content/gdrive/MyDrive/Colab Notebooks/Spine_Dataset\n"
          ]
        }
      ]
    },
    {
      "cell_type": "code",
      "source": [
        "!ls"
      ],
      "metadata": {
        "id": "MCBgpYf7DgqF",
        "colab": {
          "base_uri": "https://localhost:8080/"
        },
        "outputId": "957c242e-816a-4be4-d67f-6e54d394c623"
      },
      "execution_count": null,
      "outputs": [
        {
          "output_type": "stream",
          "name": "stdout",
          "text": [
            "15.PNG\t97.png\ttrain  val\n"
          ]
        }
      ]
    },
    {
      "cell_type": "markdown",
      "source": [
        "### **Exploring the no. of directories, no. of classes and no. of images per class**"
      ],
      "metadata": {
        "id": "e63ChoBmDry6"
      }
    },
    {
      "cell_type": "code",
      "source": [
        "for dirpath, dirnames, filenames in os.walk('/content/gdrive/MyDrive/Colab Notebooks/Spine_Dataset'):\n",
        "  print(f'There are {len(dirnames)} directories and {len(filenames)} images in {len(dirpath)}.')"
      ],
      "metadata": {
        "id": "deNZP7z3DjlP",
        "colab": {
          "base_uri": "https://localhost:8080/"
        },
        "outputId": "3b5bbb0f-b358-453d-a008-dbb3b23e06b3"
      },
      "execution_count": null,
      "outputs": [
        {
          "output_type": "stream",
          "name": "stdout",
          "text": [
            "There are 2 directories and 2 images in 53.\n",
            "There are 4 directories and 0 images in 59.\n",
            "There are 0 directories and 90 images in 66.\n",
            "There are 0 directories and 40 images in 69.\n",
            "There are 0 directories and 229 images in 68.\n",
            "There are 0 directories and 84 images in 64.\n",
            "There are 4 directories and 0 images in 57.\n",
            "There are 0 directories and 23 images in 64.\n",
            "There are 0 directories and 10 images in 67.\n",
            "There are 0 directories and 58 images in 66.\n",
            "There are 0 directories and 21 images in 62.\n"
          ]
        }
      ]
    },
    {
      "cell_type": "markdown",
      "source": [
        "### **Getting the class names programatically**"
      ],
      "metadata": {
        "id": "R-3l1tQbD90w"
      }
    },
    {
      "cell_type": "code",
      "source": [
        "import pathlib\n",
        "data_dir = pathlib.Path('/content/gdrive/MyDrive/Colab Notebooks/Spine_Dataset/train')\n",
        "\n",
        "\n",
        "#Create a list of class names from the subdirectory\n",
        "class_names = np.array(sorted([item.name for item in data_dir.glob('*')]))\n",
        "print(class_names)"
      ],
      "metadata": {
        "id": "4q6KHulWD3Oy",
        "colab": {
          "base_uri": "https://localhost:8080/"
        },
        "outputId": "0307400f-a642-4ab5-c115-0855dc5c544b"
      },
      "execution_count": 4,
      "outputs": [
        {
          "output_type": "stream",
          "name": "stdout",
          "text": [
            "['filopodia' 'mushroom' 'stubby' 'thin']\n"
          ]
        }
      ]
    },
    {
      "cell_type": "markdown",
      "source": [
        "## **Visualizing the Images**"
      ],
      "metadata": {
        "id": "eGvKFr2OEESp"
      }
    },
    {
      "cell_type": "code",
      "source": [
        "## Using helper function to view random images\n",
        "\n",
        "import random\n",
        "\n",
        "def view_random_image(target_dir, target_class):\n",
        "\n",
        "  #Setting up the target directory(we'll view images from here)\n",
        "  target_folder = target_dir + target_class\n",
        "\n",
        "  # Getting a random image path\n",
        "  random_image = random.sample(os.listdir(target_folder), 1)\n",
        "  print(random_image)\n",
        "\n",
        "  # Reading image and displaying using matplotlib\n",
        "  img = mpimg.imread(target_folder + \"/\" + random_image[0])\n",
        "  plt.imshow(img, cmap='gray')\n",
        "  plt.title(target_class)\n",
        "  plt.axis('off')\n",
        "\n",
        "  print(f'Image shape: {img.shape}') # Showing the size of image\n",
        "\n",
        "  return img"
      ],
      "metadata": {
        "id": "f2RKyBpUEEtx"
      },
      "execution_count": 5,
      "outputs": []
    },
    {
      "cell_type": "code",
      "source": [
        "# Viewing random Filopodia spine image\n",
        "\n",
        "target_directory_for_images = '/content/gdrive/MyDrive/Colab Notebooks/Spine_Dataset/train/'\n",
        "target_class_of_image = 'filopodia'\n",
        "\n",
        "img_class1 = view_random_image(target_dir = target_directory_for_images,\n",
        "                        target_class = target_class_of_image)"
      ],
      "metadata": {
        "id": "1yrB40bREGix",
        "colab": {
          "base_uri": "https://localhost:8080/",
          "height": 464
        },
        "outputId": "ea4449ce-bc53-484c-b860-7e8ac3817853"
      },
      "execution_count": null,
      "outputs": [
        {
          "output_type": "stream",
          "name": "stdout",
          "text": [
            "['filopodiaimage013.png']\n",
            "Image shape: (285, 295, 3)\n"
          ]
        },
        {
          "output_type": "display_data",
          "data": {
            "text/plain": [
              "<Figure size 640x480 with 1 Axes>"
            ],
            "image/png": "[encoded data removed]"
          },
          "metadata": {}
        }
      ]
    },
    {
      "cell_type": "code",
      "source": [
        "# Viewing random Mushroom spine image\n",
        "\n",
        "target_directory_for_images = '/content/gdrive/MyDrive/Colab Notebooks/Spine_Dataset/train/'\n",
        "target_class_of_image = 'mushroom'\n",
        "\n",
        "img_class2 = view_random_image(target_dir = target_directory_for_images,\n",
        "                        target_class = target_class_of_image)"
      ],
      "metadata": {
        "id": "CrJDi7zwETur",
        "colab": {
          "base_uri": "https://localhost:8080/",
          "height": 464
        },
        "outputId": "8238bb18-e945-468d-f937-265044fe0cec"
      },
      "execution_count": null,
      "outputs": [
        {
          "output_type": "stream",
          "name": "stdout",
          "text": [
            "['243.png']\n",
            "Image shape: (250, 250)\n"
          ]
        },
        {
          "output_type": "display_data",
          "data": {
            "text/plain": [
              "<Figure size 640x480 with 1 Axes>"
            ],
            "image/png": "[encoded data removed]"
          },
          "metadata": {}
        }
      ]
    },
    {
      "cell_type": "code",
      "source": [
        "# Viewing random Stubby spine image\n",
        "\n",
        "target_directory_for_images = '/content/gdrive/MyDrive/Colab Notebooks/Spine_Dataset/train/'\n",
        "target_class_of_image = 'stubby'\n",
        "\n",
        "img_class3 = view_random_image(target_dir = target_directory_for_images,\n",
        "                        target_class = target_class_of_image)"
      ],
      "metadata": {
        "id": "-74TLUukER-b",
        "colab": {
          "base_uri": "https://localhost:8080/",
          "height": 464
        },
        "outputId": "96094a90-ad75-49c6-da6e-cafef3725d9a"
      },
      "execution_count": null,
      "outputs": [
        {
          "output_type": "stream",
          "name": "stdout",
          "text": [
            "['131.png']\n",
            "Image shape: (250, 250)\n"
          ]
        },
        {
          "output_type": "display_data",
          "data": {
            "text/plain": [
              "<Figure size 640x480 with 1 Axes>"
            ],
            "image/png": "[encoded data removed]"
          },
          "metadata": {}
        }
      ]
    },
    {
      "cell_type": "code",
      "source": [
        "# Viewing random Thin spine image\n",
        "\n",
        "target_directory_for_images = '/content/gdrive/MyDrive/Colab Notebooks/Spine_Dataset/train/'\n",
        "target_class_of_image = 'thin'\n",
        "\n",
        "img_class4 = view_random_image(target_dir = target_directory_for_images,\n",
        "                        target_class = target_class_of_image)"
      ],
      "metadata": {
        "id": "EG8qx-K6EP4N",
        "colab": {
          "base_uri": "https://localhost:8080/",
          "height": 464
        },
        "outputId": "5d678c93-e7fd-4288-f929-d782f7164319"
      },
      "execution_count": null,
      "outputs": [
        {
          "output_type": "stream",
          "name": "stdout",
          "text": [
            "['408.png']\n",
            "Image shape: (250, 250)\n"
          ]
        },
        {
          "output_type": "display_data",
          "data": {
            "text/plain": [
              "<Figure size 640x480 with 1 Axes>"
            ],
            "image/png": "[encoded data removed]"
          },
          "metadata": {}
        }
      ]
    },
    {
      "cell_type": "code",
      "source": [
        "img_class1.shape, img_class2.shape, img_class3.shape, img_class4.shape,"
      ],
      "metadata": {
        "id": "KAG1hPhREKW1",
        "colab": {
          "base_uri": "https://localhost:8080/"
        },
        "outputId": "01f437e1-49af-4ecf-b4b6-8309e050cf42"
      },
      "execution_count": null,
      "outputs": [
        {
          "output_type": "execute_result",
          "data": {
            "text/plain": [
              "((285, 295, 3), (250, 250), (250, 250), (250, 250))"
            ]
          },
          "metadata": {},
          "execution_count": 17
        }
      ]
    },
    {
      "cell_type": "markdown",
      "source": [
        "### **Normalizing our data according to the mean dimension of the images present in the training folder**"
      ],
      "metadata": {
        "id": "3HHPF8QnExF4"
      }
    },
    {
      "cell_type": "code",
      "source": [
        "## Setting training, validation and testing directories\n",
        "\n",
        "train_path = '/content/gdrive/MyDrive/Colab Notebooks/Spine_Dataset/train/'\n",
        "val_path = '/content/gdrive/MyDrive/Colab Notebooks/Spine_Dataset/val/'"
      ],
      "metadata": {
        "id": "xhIHAxVzExgz"
      },
      "execution_count": 6,
      "outputs": []
    },
    {
      "cell_type": "code",
      "source": [
        "class_names,class_names[0], type(class_names[0])"
      ],
      "metadata": {
        "id": "IdMgeVv3EBHb",
        "colab": {
          "base_uri": "https://localhost:8080/"
        },
        "outputId": "550fbd89-a8d1-454d-913d-041ded053d2e"
      },
      "execution_count": 7,
      "outputs": [
        {
          "output_type": "execute_result",
          "data": {
            "text/plain": [
              "(array(['filopodia', 'mushroom', 'stubby', 'thin'], dtype='<U9'),\n",
              " 'filopodia',\n",
              " numpy.str_)"
            ]
          },
          "metadata": {},
          "execution_count": 7
        }
      ]
    },
    {
      "cell_type": "markdown",
      "source": [
        "#### **Getting the mean dimension of the images to rescale them**"
      ],
      "metadata": {
        "id": "26Mu8zQoFF-A"
      }
    },
    {
      "cell_type": "code",
      "source": [
        "dim1 = []\n",
        "dim2 = []\n",
        "\n",
        "for image_filename in os.listdir(train_path+class_names[2]):\n",
        "\n",
        "    if(image_filename.split('.')[1] == 'jpg'):\n",
        "      img = mpimg.imread(train_path+class_names[2] +'/'+image_filename)\n",
        "      d1,d2 = img.shape\n",
        "      dim1.append(d1)\n",
        "      dim2.append(d2)\n",
        "\n",
        "\n",
        "np.mean(dim1),np.mean(dim2)\n",
        "\n",
        "\n",
        "np.mean(dim1),np.mean(dim2)"
      ],
      "metadata": {
        "id": "YAHwKN9AFGWC",
        "colab": {
          "base_uri": "https://localhost:8080/"
        },
        "outputId": "930b4bd0-2eda-421e-daac-739c1e6ebc83"
      },
      "execution_count": 8,
      "outputs": [
        {
          "output_type": "execute_result",
          "data": {
            "text/plain": [
              "(250.0, 250.0)"
            ]
          },
          "metadata": {},
          "execution_count": 8
        }
      ]
    },
    {
      "cell_type": "code",
      "source": [
        "# Visualizing the mean dimension for all the images in the train set\n",
        "\n",
        "sns.jointplot(x=dim1, y=dim2)"
      ],
      "metadata": {
        "id": "miPM_ltXFHr-",
        "colab": {
          "base_uri": "https://localhost:8080/",
          "height": 644
        },
        "outputId": "27c21c09-ade6-4d7a-8b79-1b48d3b7aa3f"
      },
      "execution_count": 9,
      "outputs": [
        {
          "output_type": "execute_result",
          "data": {
            "text/plain": [
              "<seaborn.axisgrid.JointGrid at 0x7b54bf1cf490>"
            ]
          },
          "metadata": {},
          "execution_count": 9
        },
        {
          "output_type": "display_data",
          "data": {
            "text/plain": [
              "<Figure size 600x600 with 3 Axes>"
            ],
            "image/png": "[encoded data removed]"
          },
          "metadata": {}
        }
      ]
    },
    {
      "cell_type": "markdown",
      "source": [
        "## **Augmenting images and compiling the model**"
      ],
      "metadata": {
        "id": "nXYobpCtGyQQ"
      }
    },
    {
      "cell_type": "code",
      "source": [
        "from tensorflow.keras.preprocessing.image import ImageDataGenerator"
      ],
      "metadata": {
        "id": "QR9W4G2gGymR"
      },
      "execution_count": 10,
      "outputs": []
    },
    {
      "cell_type": "markdown",
      "source": [
        "#### ***Changing image dimension to (331,331) for matching NasNetlarge input dimesnions***"
      ],
      "metadata": {
        "id": "-mHhd_d6I11m"
      }
    },
    {
      "cell_type": "code",
      "source": [
        "image_size = (331,331)\n",
        "\n",
        "datagen = ImageDataGenerator(\n",
        "    rotation_range=20,\n",
        "    width_shift_range=0.10, # Shift the pic width by a max of 5%\n",
        "    height_shift_range=0.10, # Shift the pic height by a max of 5%\n",
        "    rescale=1/255, # Rescale the image by normalzing it.\n",
        "    shear_range=0.1, # Shear means cutting away part of the image (max 10%)\n",
        "    zoom_range=0.1, # Zoom in by 10% max\n",
        "    horizontal_flip=True, # Allow horizontal flipping\n",
        "    fill_mode='nearest' # Fill in missing pixels with the nearest filled value\n",
        ")\n",
        "\n",
        "train_gen = datagen.flow_from_directory(\n",
        "    train_path,\n",
        "    target_size=image_size,\n",
        "    batch_size=32,\n",
        "    color_mode='rgb',\n",
        "    class_mode='categorical'\n",
        ")\n",
        "\n",
        "validation_gen = datagen.flow_from_directory(\n",
        "    val_path,\n",
        "    target_size=image_size,\n",
        "    batch_size=32,\n",
        "    color_mode='rgb',\n",
        "    class_mode='categorical',\n",
        "    shuffle=False,\n",
        ")"
      ],
      "metadata": {
        "id": "ymBQxh2WG2Ip",
        "colab": {
          "base_uri": "https://localhost:8080/"
        },
        "outputId": "6a1a9a7c-0bf8-41fb-8191-3f7d05df38da"
      },
      "execution_count": 11,
      "outputs": [
        {
          "output_type": "stream",
          "name": "stdout",
          "text": [
            "Found 443 images belonging to 4 classes.\n",
            "Found 112 images belonging to 4 classes.\n"
          ]
        }
      ]
    },
    {
      "cell_type": "markdown",
      "source": [
        "#### **Labels for the classes (Which class indicates which index)**"
      ],
      "metadata": {
        "id": "q2-KLagqG_5H"
      }
    },
    {
      "cell_type": "code",
      "source": [
        "train_gen.class_indices"
      ],
      "metadata": {
        "id": "IWGGk0cRHAUF",
        "colab": {
          "base_uri": "https://localhost:8080/"
        },
        "outputId": "a1344a63-74f2-49e1-b9b9-7340cdf65b2f"
      },
      "execution_count": null,
      "outputs": [
        {
          "output_type": "execute_result",
          "data": {
            "text/plain": [
              "{'filopodia': 0, 'mushroom': 1, 'stubby': 2, 'thin': 3}"
            ]
          },
          "metadata": {},
          "execution_count": 24
        }
      ]
    },
    {
      "cell_type": "code",
      "source": [
        "validation_gen.class_indices"
      ],
      "metadata": {
        "id": "0wbbnQJ_HBeH",
        "colab": {
          "base_uri": "https://localhost:8080/"
        },
        "outputId": "1d7212b6-3fef-45a8-cac9-8a4111913c74"
      },
      "execution_count": null,
      "outputs": [
        {
          "output_type": "execute_result",
          "data": {
            "text/plain": [
              "{'filopodia': 0, 'mushroom': 1, 'stubby': 2, 'thin': 3}"
            ]
          },
          "metadata": {},
          "execution_count": 25
        }
      ]
    },
    {
      "cell_type": "markdown",
      "source": [
        "## **Creating base model from pretrained NasNetLarge**"
      ],
      "metadata": {
        "id": "KCX_ZZqKHgZn"
      }
    },
    {
      "cell_type": "code",
      "source": [
        "from tensorflow.keras.applications import NASNetLarge"
      ],
      "metadata": {
        "id": "u6A-lrXo7jl_"
      },
      "execution_count": 12,
      "outputs": []
    },
    {
      "cell_type": "markdown",
      "source": [
        "### ***Build the classification model***"
      ],
      "metadata": {
        "id": "WBWHfHfIJY-d"
      }
    },
    {
      "cell_type": "code",
      "source": [
        "from tensorflow.keras import metrics"
      ],
      "metadata": {
        "id": "OJV_DE_dUKaO"
      },
      "execution_count": 13,
      "outputs": []
    },
    {
      "cell_type": "code",
      "source": [
        "## Implementing distributed training with multiple GPUs for faster training\n",
        "\n",
        "mirrored_strategy = tf.distribute.MirroredStrategy()\n",
        "\n",
        "with mirrored_strategy.scope():\n",
        "  base_model = NASNetLarge(weights='imagenet', include_top=False, input_shape=(331, 331, 3))\n",
        "  base_model.trainable = False  # Freeze the base model\n",
        "  model = tf.keras.Sequential([\n",
        "      base_model,\n",
        "      tf.keras.layers.GlobalAveragePooling2D(),\n",
        "      tf.keras.layers.Dense(1024, activation='relu'),\n",
        "      tf.keras.layers.Dense(4, activation='softmax')  # 4 categories\n",
        "  ])\n",
        "  model.compile(optimizer='adam', loss='categorical_crossentropy', metrics=['accuracy', metrics.Precision(), metrics.Recall()])"
      ],
      "metadata": {
        "id": "6WvL_0E6E2SI",
        "colab": {
          "base_uri": "https://localhost:8080/"
        },
        "outputId": "f05f1081-60cb-4094-85c7-2ec2b39c7045"
      },
      "execution_count": 14,
      "outputs": [
        {
          "output_type": "stream",
          "name": "stdout",
          "text": [
            "Downloading data from https://storage.googleapis.com/tensorflow/keras-applications/nasnet/NASNet-large-no-top.h5\n",
            "343610240/343610240 [==============================] - 3s 0us/step\n"
          ]
        }
      ]
    },
    {
      "cell_type": "code",
      "source": [
        "# Summarizing the Model\n",
        "model.summary()"
      ],
      "metadata": {
        "id": "N266PMQeH9sX",
        "colab": {
          "base_uri": "https://localhost:8080/"
        },
        "outputId": "c738e892-ee01-4f7e-9d8c-db392d7684e7"
      },
      "execution_count": 15,
      "outputs": [
        {
          "output_type": "stream",
          "name": "stdout",
          "text": [
            "Model: \"sequential\"\n",
            "_________________________________________________________________\n",
            " Layer (type)                Output Shape              Param #   \n",
            "=================================================================\n",
            " NASNet (Functional)         (None, 11, 11, 4032)      84916818  \n",
            "                                                                 \n",
            " global_average_pooling2d (  (None, 4032)              0         \n",
            " GlobalAveragePooling2D)                                         \n",
            "                                                                 \n",
            " dense (Dense)               (None, 1024)              4129792   \n",
            "                                                                 \n",
            " dense_1 (Dense)             (None, 4)                 4100      \n",
            "                                                                 \n",
            "=================================================================\n",
            "Total params: 89050710 (339.70 MB)\n",
            "Trainable params: 4133892 (15.77 MB)\n",
            "Non-trainable params: 84916818 (323.93 MB)\n",
            "_________________________________________________________________\n"
          ]
        }
      ]
    },
    {
      "cell_type": "code",
      "source": [
        "## Fitting the model\n",
        "\n",
        "model_history = model.fit(train_gen, epochs=20, validation_data=validation_gen)"
      ],
      "metadata": {
        "id": "tGm1Z1EbJ6Lv",
        "colab": {
          "base_uri": "https://localhost:8080/"
        },
        "outputId": "dade32f6-37b1-445a-8bfe-6e6469ad0b13"
      },
      "execution_count": 16,
      "outputs": [
        {
          "output_type": "stream",
          "name": "stdout",
          "text": [
            "Epoch 1/20\n",
            "14/14 [==============================] - 223s 14s/step - loss: 0.7995 - accuracy: 0.6998 - precision: 0.7564 - recall: 0.6659 - val_loss: 0.3715 - val_accuracy: 0.8839 - val_precision: 0.8839 - val_recall: 0.8839\n",
            "Epoch 2/20\n",
            "14/14 [==============================] - 25s 2s/step - loss: 0.3692 - accuracy: 0.8691 - precision: 0.8761 - recall: 0.8623 - val_loss: 0.2587 - val_accuracy: 0.9018 - val_precision: 0.9018 - val_recall: 0.9018\n",
            "Epoch 3/20\n",
            "14/14 [==============================] - 24s 2s/step - loss: 0.3064 - accuracy: 0.8916 - precision: 0.8966 - recall: 0.8804 - val_loss: 0.2227 - val_accuracy: 0.9107 - val_precision: 0.9099 - val_recall: 0.9018\n",
            "Epoch 4/20\n",
            "14/14 [==============================] - 29s 2s/step - loss: 0.2510 - accuracy: 0.9210 - precision: 0.9314 - recall: 0.9187 - val_loss: 0.1856 - val_accuracy: 0.9375 - val_precision: 0.9375 - val_recall: 0.9375\n",
            "Epoch 5/20\n",
            "14/14 [==============================] - 25s 2s/step - loss: 0.1965 - accuracy: 0.9300 - precision: 0.9300 - recall: 0.9300 - val_loss: 0.1701 - val_accuracy: 0.9196 - val_precision: 0.9196 - val_recall: 0.9196\n",
            "Epoch 6/20\n",
            "14/14 [==============================] - 29s 2s/step - loss: 0.1889 - accuracy: 0.9142 - precision: 0.9161 - recall: 0.9120 - val_loss: 0.1615 - val_accuracy: 0.9554 - val_precision: 0.9554 - val_recall: 0.9554\n",
            "Epoch 7/20\n",
            "14/14 [==============================] - 24s 2s/step - loss: 0.1728 - accuracy: 0.9413 - precision: 0.9413 - recall: 0.9413 - val_loss: 0.1366 - val_accuracy: 0.9464 - val_precision: 0.9464 - val_recall: 0.9464\n",
            "Epoch 8/20\n",
            "14/14 [==============================] - 24s 2s/step - loss: 0.1988 - accuracy: 0.9300 - precision: 0.9300 - recall: 0.9300 - val_loss: 0.1620 - val_accuracy: 0.9375 - val_precision: 0.9375 - val_recall: 0.9375\n",
            "Epoch 9/20\n",
            "14/14 [==============================] - 25s 2s/step - loss: 0.1489 - accuracy: 0.9436 - precision: 0.9456 - recall: 0.9413 - val_loss: 0.1865 - val_accuracy: 0.9107 - val_precision: 0.9107 - val_recall: 0.9107\n",
            "Epoch 10/20\n",
            "14/14 [==============================] - 25s 2s/step - loss: 0.1558 - accuracy: 0.9368 - precision: 0.9386 - recall: 0.9323 - val_loss: 0.1089 - val_accuracy: 0.9643 - val_precision: 0.9643 - val_recall: 0.9643\n",
            "Epoch 11/20\n",
            "14/14 [==============================] - 24s 2s/step - loss: 0.1304 - accuracy: 0.9549 - precision: 0.9570 - recall: 0.9549 - val_loss: 0.1528 - val_accuracy: 0.9286 - val_precision: 0.9279 - val_recall: 0.9196\n",
            "Epoch 12/20\n",
            "14/14 [==============================] - 25s 2s/step - loss: 0.1455 - accuracy: 0.9413 - precision: 0.9413 - recall: 0.9413 - val_loss: 0.2026 - val_accuracy: 0.8929 - val_precision: 0.8929 - val_recall: 0.8929\n",
            "Epoch 13/20\n",
            "14/14 [==============================] - 25s 2s/step - loss: 0.1466 - accuracy: 0.9436 - precision: 0.9436 - recall: 0.9436 - val_loss: 0.2253 - val_accuracy: 0.9018 - val_precision: 0.9018 - val_recall: 0.9018\n",
            "Epoch 14/20\n",
            "14/14 [==============================] - 24s 2s/step - loss: 0.1635 - accuracy: 0.9413 - precision: 0.9413 - recall: 0.9413 - val_loss: 0.1717 - val_accuracy: 0.9375 - val_precision: 0.9375 - val_recall: 0.9375\n",
            "Epoch 15/20\n",
            "14/14 [==============================] - 24s 2s/step - loss: 0.1160 - accuracy: 0.9639 - precision: 0.9639 - recall: 0.9639 - val_loss: 0.1290 - val_accuracy: 0.9554 - val_precision: 0.9554 - val_recall: 0.9554\n",
            "Epoch 16/20\n",
            "14/14 [==============================] - 25s 2s/step - loss: 0.1005 - accuracy: 0.9616 - precision: 0.9616 - recall: 0.9616 - val_loss: 0.2384 - val_accuracy: 0.9107 - val_precision: 0.9189 - val_recall: 0.9107\n",
            "Epoch 17/20\n",
            "14/14 [==============================] - 29s 2s/step - loss: 0.1139 - accuracy: 0.9549 - precision: 0.9570 - recall: 0.9549 - val_loss: 0.2135 - val_accuracy: 0.9107 - val_precision: 0.9107 - val_recall: 0.9107\n",
            "Epoch 18/20\n",
            "14/14 [==============================] - 24s 2s/step - loss: 0.1205 - accuracy: 0.9458 - precision: 0.9457 - recall: 0.9436 - val_loss: 0.1602 - val_accuracy: 0.9286 - val_precision: 0.9286 - val_recall: 0.9286\n",
            "Epoch 19/20\n",
            "14/14 [==============================] - 23s 2s/step - loss: 0.1068 - accuracy: 0.9549 - precision: 0.9549 - recall: 0.9549 - val_loss: 0.1436 - val_accuracy: 0.9286 - val_precision: 0.9358 - val_recall: 0.9107\n",
            "Epoch 20/20\n",
            "14/14 [==============================] - 27s 2s/step - loss: 0.1320 - accuracy: 0.9436 - precision: 0.9457 - recall: 0.9436 - val_loss: 0.1805 - val_accuracy: 0.9375 - val_precision: 0.9375 - val_recall: 0.9375\n"
          ]
        }
      ]
    },
    {
      "cell_type": "code",
      "source": [
        "#Plotting loss per iteration\n",
        "\n",
        "plt.plot(model_history.history['loss'],label='loss')\n",
        "plt.plot(model_history.history['val_loss'], label = 'validation_loss')\n",
        "plt.legend()"
      ],
      "metadata": {
        "id": "KxL8NfHmJqpW",
        "colab": {
          "base_uri": "https://localhost:8080/",
          "height": 448
        },
        "outputId": "3e92e61e-5715-4d03-dc35-e978d8fb7cce"
      },
      "execution_count": 17,
      "outputs": [
        {
          "output_type": "execute_result",
          "data": {
            "text/plain": [
              "<matplotlib.legend.Legend at 0x7b54152e7f10>"
            ]
          },
          "metadata": {},
          "execution_count": 17
        },
        {
          "output_type": "display_data",
          "data": {
            "text/plain": [
              "<Figure size 640x480 with 1 Axes>"
            ],
            "image/png": "[encoded data removed]"
          },
          "metadata": {}
        }
      ]
    },
    {
      "cell_type": "code",
      "source": [
        "#Plotting accuracy per iteration\n",
        "\n",
        "plt.plot(model_history.history['accuracy'],label='accuracy')\n",
        "plt.plot(model_history.history['val_accuracy'], label = 'validation_accuracy')\n",
        "plt.legend()"
      ],
      "metadata": {
        "id": "icrMTqBJNtkC",
        "colab": {
          "base_uri": "https://localhost:8080/",
          "height": 448
        },
        "outputId": "f5eb875e-2fce-4102-9552-543de406d080"
      },
      "execution_count": 18,
      "outputs": [
        {
          "output_type": "execute_result",
          "data": {
            "text/plain": [
              "<matplotlib.legend.Legend at 0x7b5414851900>"
            ]
          },
          "metadata": {},
          "execution_count": 18
        },
        {
          "output_type": "display_data",
          "data": {
            "text/plain": [
              "<Figure size 640x480 with 1 Axes>"
            ],
            "image/png": "[encoded data removed]"
          },
          "metadata": {}
        }
      ]
    },
    {
      "cell_type": "code",
      "source": [
        "# Get the evaluation results\n",
        "eval_results = model.evaluate(validation_gen)\n",
        "\n",
        "# Extract the precision and recall values\n",
        "precision = eval_results[2]\n",
        "recall = eval_results[3]\n",
        "\n",
        "# Calculate F1 score\n",
        "f1_score = 2 * (precision * recall) / (precision + recall)\n",
        "\n",
        "print(\"F1 Score: \", f1_score)"
      ],
      "metadata": {
        "colab": {
          "base_uri": "https://localhost:8080/"
        },
        "id": "FQRd7QWAc8Vn",
        "outputId": "823cb578-b4a6-4bf1-a107-807d6a4b5ad4"
      },
      "execution_count": 20,
      "outputs": [
        {
          "output_type": "stream",
          "name": "stdout",
          "text": [
            "4/4 [==============================] - 6s 943ms/step - loss: 0.1586 - accuracy: 0.9375 - precision: 0.9375 - recall: 0.9375\n",
            "F1 Score:  0.9375\n"
          ]
        }
      ]
    },
    {
      "cell_type": "markdown",
      "source": [
        "## **Testing and predicting custom images**"
      ],
      "metadata": {
        "id": "siADffQCVXPV"
      }
    },
    {
      "cell_type": "code",
      "source": [
        "from google.colab import files\n",
        "from tensorflow.keras.preprocessing import image"
      ],
      "metadata": {
        "id": "Ieum4kadN1Yn"
      },
      "execution_count": null,
      "outputs": []
    },
    {
      "cell_type": "code",
      "source": [
        "plt.figure(figsize=(10, 10))\n",
        "\n",
        "uploaded=files.upload()"
      ],
      "metadata": {
        "id": "j7pvdEleVZ5z",
        "colab": {
          "base_uri": "https://localhost:8080/",
          "height": 91
        },
        "outputId": "f027f688-48f4-4914-8bc4-9374413e44c1"
      },
      "execution_count": null,
      "outputs": [
        {
          "output_type": "display_data",
          "data": {
            "text/plain": [
              "<IPython.core.display.HTML object>"
            ],
            "text/html": [
              "\n",
              "     <input type=\"file\" id=\"files-11db8dc6-4336-4d35-a559-66d91814b396\" name=\"files[]\" multiple disabled\n",
              "        style=\"border:none\" />\n",
              "     <output id=\"result-11db8dc6-4336-4d35-a559-66d91814b396\">\n",
              "      Upload widget is only available when the cell has been executed in the\n",
              "      current browser session. Please rerun this cell to enable.\n",
              "      </output>\n",
              "      <script>// Copyright 2017 Google LLC\n",
              "//\n",
              "// Licensed under the Apache License, Version 2.0 (the \"License\");\n",
              "// you may not use this file except in compliance with the License.\n",
              "// You may obtain a copy of the License at\n",
              "//\n",
              "//      http://www.apache.org/licenses/LICENSE-2.0\n",
              "//\n",
              "// Unless required by applicable law or agreed to in writing, software\n",
              "// distributed under the License is distributed on an \"AS IS\" BASIS,\n",
              "// WITHOUT WARRANTIES OR CONDITIONS OF ANY KIND, either express or implied.\n",
              "// See the License for the specific language governing permissions and\n",
              "// limitations under the License.\n",
              "\n",
              "/**\n",
              " * @fileoverview Helpers for google.colab Python module.\n",
              " */\n",
              "(function(scope) {\n",
              "function span(text, styleAttributes = {}) {\n",
              "  const element = document.createElement('span');\n",
              "  element.textContent = text;\n",
              "  for (const key of Object.keys(styleAttributes)) {\n",
              "    element.style[key] = styleAttributes[key];\n",
              "  }\n",
              "  return element;\n",
              "}\n",
              "\n",
              "// Max number of bytes which will be uploaded at a time.\n",
              "const MAX_PAYLOAD_SIZE = 100 * 1024;\n",
              "\n",
              "function _uploadFiles(inputId, outputId) {\n",
              "  const steps = uploadFilesStep(inputId, outputId);\n",
              "  const outputElement = document.getElementById(outputId);\n",
              "  // Cache steps on the outputElement to make it available for the next call\n",
              "  // to uploadFilesContinue from Python.\n",
              "  outputElement.steps = steps;\n",
              "\n",
              "  return _uploadFilesContinue(outputId);\n",
              "}\n",
              "\n",
              "// This is roughly an async generator (not supported in the browser yet),\n",
              "// where there are multiple asynchronous steps and the Python side is going\n",
              "// to poll for completion of each step.\n",
              "// This uses a Promise to block the python side on completion of each step,\n",
              "// then passes the result of the previous step as the input to the next step.\n",
              "function _uploadFilesContinue(outputId) {\n",
              "  const outputElement = document.getElementById(outputId);\n",
              "  const steps = outputElement.steps;\n",
              "\n",
              "  const next = steps.next(outputElement.lastPromiseValue);\n",
              "  return Promise.resolve(next.value.promise).then((value) => {\n",
              "    // Cache the last promise value to make it available to the next\n",
              "    // step of the generator.\n",
              "    outputElement.lastPromiseValue = value;\n",
              "    return next.value.response;\n",
              "  });\n",
              "}\n",
              "\n",
              "/**\n",
              " * Generator function which is called between each async step of the upload\n",
              " * process.\n",
              " * @param {string} inputId Element ID of the input file picker element.\n",
              " * @param {string} outputId Element ID of the output display.\n",
              " * @return {!Iterable<!Object>} Iterable of next steps.\n",
              " */\n",
              "function* uploadFilesStep(inputId, outputId) {\n",
              "  const inputElement = document.getElementById(inputId);\n",
              "  inputElement.disabled = false;\n",
              "\n",
              "  const outputElement = document.getElementById(outputId);\n",
              "  outputElement.innerHTML = '';\n",
              "\n",
              "  const pickedPromise = new Promise((resolve) => {\n",
              "    inputElement.addEventListener('change', (e) => {\n",
              "      resolve(e.target.files);\n",
              "    });\n",
              "  });\n",
              "\n",
              "  const cancel = document.createElement('button');\n",
              "  inputElement.parentElement.appendChild(cancel);\n",
              "  cancel.textContent = 'Cancel upload';\n",
              "  const cancelPromise = new Promise((resolve) => {\n",
              "    cancel.onclick = () => {\n",
              "      resolve(null);\n",
              "    };\n",
              "  });\n",
              "\n",
              "  // Wait for the user to pick the files.\n",
              "  const files = yield {\n",
              "    promise: Promise.race([pickedPromise, cancelPromise]),\n",
              "    response: {\n",
              "      action: 'starting',\n",
              "    }\n",
              "  };\n",
              "\n",
              "  cancel.remove();\n",
              "\n",
              "  // Disable the input element since further picks are not allowed.\n",
              "  inputElement.disabled = true;\n",
              "\n",
              "  if (!files) {\n",
              "    return {\n",
              "      response: {\n",
              "        action: 'complete',\n",
              "      }\n",
              "    };\n",
              "  }\n",
              "\n",
              "  for (const file of files) {\n",
              "    const li = document.createElement('li');\n",
              "    li.append(span(file.name, {fontWeight: 'bold'}));\n",
              "    li.append(span(\n",
              "        `(${file.type || 'n/a'}) - ${file.size} bytes, ` +\n",
              "        `last modified: ${\n",
              "            file.lastModifiedDate ? file.lastModifiedDate.toLocaleDateString() :\n",
              "                                    'n/a'} - `));\n",
              "    const percent = span('0% done');\n",
              "    li.appendChild(percent);\n",
              "\n",
              "    outputElement.appendChild(li);\n",
              "\n",
              "    const fileDataPromise = new Promise((resolve) => {\n",
              "      const reader = new FileReader();\n",
              "      reader.onload = (e) => {\n",
              "        resolve(e.target.result);\n",
              "      };\n",
              "      reader.readAsArrayBuffer(file);\n",
              "    });\n",
              "    // Wait for the data to be ready.\n",
              "    let fileData = yield {\n",
              "      promise: fileDataPromise,\n",
              "      response: {\n",
              "        action: 'continue',\n",
              "      }\n",
              "    };\n",
              "\n",
              "    // Use a chunked sending to avoid message size limits. See b/62115660.\n",
              "    let position = 0;\n",
              "    do {\n",
              "      const length = Math.min(fileData.byteLength - position, MAX_PAYLOAD_SIZE);\n",
              "      const chunk = new Uint8Array(fileData, position, length);\n",
              "      position += length;\n",
              "\n",
              "      const base64 = btoa(String.fromCharCode.apply(null, chunk));\n",
              "      yield {\n",
              "        response: {\n",
              "          action: 'append',\n",
              "          file: file.name,\n",
              "          data: base64,\n",
              "        },\n",
              "      };\n",
              "\n",
              "      let percentDone = fileData.byteLength === 0 ?\n",
              "          100 :\n",
              "          Math.round((position / fileData.byteLength) * 100);\n",
              "      percent.textContent = `${percentDone}% done`;\n",
              "\n",
              "    } while (position < fileData.byteLength);\n",
              "  }\n",
              "\n",
              "  // All done.\n",
              "  yield {\n",
              "    response: {\n",
              "      action: 'complete',\n",
              "    }\n",
              "  };\n",
              "}\n",
              "\n",
              "scope.google = scope.google || {};\n",
              "scope.google.colab = scope.google.colab || {};\n",
              "scope.google.colab._files = {\n",
              "  _uploadFiles,\n",
              "  _uploadFilesContinue,\n",
              "};\n",
              "})(self);\n",
              "</script> "
            ]
          },
          "metadata": {}
        },
        {
          "output_type": "stream",
          "name": "stdout",
          "text": [
            "Saving 29.png to 29.png\n"
          ]
        },
        {
          "output_type": "display_data",
          "data": {
            "text/plain": [
              "<Figure size 1000x1000 with 0 Axes>"
            ]
          },
          "metadata": {}
        }
      ]
    },
    {
      "cell_type": "code",
      "source": [
        "i=1\n",
        "\n",
        "for fn in uploaded.keys():\n",
        "\n",
        "  # predicting images\n",
        "\n",
        "  path='/content/gdrive/MyDrive/Colab Notebooks/Spine_Dataset/' + fn\n",
        "  img=tf.keras.utils.load_img(path, color_mode='rgb',target_size=(331, 331))\n",
        "\n",
        "  plt.subplot(1,2,i)\n",
        "\n",
        "  plt.imshow(img,cmap='gray',label=fn)\n",
        "  plt.axis('off')\n",
        "\n",
        "  i+=1\n",
        "\n",
        "  x=image.img_to_array(img)\n",
        "  print(f\"The shape is {x.shape}\")\n",
        "  x=np.expand_dims(x, axis=0)\n",
        "  images = np.vstack([x])\n",
        "\n",
        "  classes = model.predict(images,batch_size=16)\n",
        "  #print(classes)\n",
        "\n",
        "values = classes[0].tolist()\n",
        "ind = values.index(max(values)) + 1\n",
        "if(ind==1):\n",
        "  print('The uploaded image of spine belongs to the class FILOPODIA')\n",
        "elif(ind==2):\n",
        "  print('The uploaded image of spine belongs to the class MUSHROOM')\n",
        "elif(ind==3):\n",
        "  print('The uploaded image of spine belongs to the class STUBBY')\n",
        "elif(ind==4):\n",
        "  print('The uploaded image of spine belongs to the class THIN')"
      ],
      "metadata": {
        "id": "QHHyRresVgu7",
        "colab": {
          "base_uri": "https://localhost:8080/",
          "height": 316
        },
        "outputId": "83870fe3-2f22-4654-e8b7-3614104a02f1"
      },
      "execution_count": null,
      "outputs": [
        {
          "output_type": "stream",
          "name": "stdout",
          "text": [
            "The shape is (331, 331, 3)\n",
            "1/1 [==============================] - 8s 8s/step\n",
            "The uploaded image of spine belongs to the class THIN\n"
          ]
        },
        {
          "output_type": "display_data",
          "data": {
            "text/plain": [
              "<Figure size 640x480 with 1 Axes>"
            ],
            "image/png": "[encoded data removed]"
          },
          "metadata": {}
        }
      ]
    },
    {
      "cell_type": "code",
      "source": [
        "model.save(filepath=\"/content/gdrive/MyDrive/Colab Notebooks/NasNetLarge_model/NasNetLarge_spine.h5\", overwrite=True)\n",
        "print('Model Saved in hdf5 format')"
      ],
      "metadata": {
        "colab": {
          "base_uri": "https://localhost:8080/"
        },
        "id": "ED-yP9PTESI1",
        "outputId": "d2fc16f1-95dd-4dc7-9228-f6b97ca7c6e2"
      },
      "execution_count": null,
      "outputs": [
        {
          "output_type": "stream",
          "name": "stderr",
          "text": [
            "/usr/local/lib/python3.10/dist-packages/keras/src/engine/training.py:3103: UserWarning: You are saving your model as an HDF5 file via `model.save()`. This file format is considered legacy. We recommend using instead the native Keras format, e.g. `model.save('my_model.keras')`.\n",
            "  saving_api.save_model(\n"
          ]
        },
        {
          "output_type": "stream",
          "name": "stdout",
          "text": [
            "Model Saved in hdf5 format\n"
          ]
        }
      ]
    }
  ]
}