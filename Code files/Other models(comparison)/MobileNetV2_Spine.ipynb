{
  "nbformat": 4,
  "nbformat_minor": 0,
  "metadata": {
    "colab": {
      "provenance": [],
      "gpuType": "T4"
    },
    "kernelspec": {
      "name": "python3",
      "display_name": "Python 3"
    },
    "language_info": {
      "name": "python"
    },
    "accelerator": "GPU"
  },
  "cells": [
    {
      "cell_type": "markdown",
      "source": [
        "# **Importing necessary libraries for EDA and building the CNN model for multi-class image classification**"
      ],
      "metadata": {
        "id": "rkxp2aV7Cl1b"
      }
    },
    {
      "cell_type": "code",
      "source": [
        "import os\n",
        "import tensorflow as tf\n",
        "import matplotlib.pyplot as plt\n",
        "import matplotlib.image as mpimg\n",
        "import numpy as np\n",
        "import pandas as pd\n",
        "import seaborn as sns\n",
        "from keras.models import load_model\n",
        "import tensorflow_hub as hub"
      ],
      "metadata": {
        "id": "YgD0K2Q9CmnZ"
      },
      "execution_count": 1,
      "outputs": []
    },
    {
      "cell_type": "code",
      "source": [
        "print(tf.__version__)"
      ],
      "metadata": {
        "colab": {
          "base_uri": "https://localhost:8080/"
        },
        "id": "K12iG_FDCryt",
        "outputId": "ca318f9f-25c6-4e61-ef9a-f4ae23379b69"
      },
      "execution_count": null,
      "outputs": [
        {
          "output_type": "stream",
          "name": "stdout",
          "text": [
            "2.15.0\n"
          ]
        }
      ]
    },
    {
      "cell_type": "code",
      "source": [
        "from google.colab import drive\n",
        "drive.mount('/content/gdrive')"
      ],
      "metadata": {
        "colab": {
          "base_uri": "https://localhost:8080/"
        },
        "id": "xzXYnxAOCw8q",
        "outputId": "d01b46a3-7110-4ffc-8f38-9a1ba3f6e002"
      },
      "execution_count": 2,
      "outputs": [
        {
          "output_type": "stream",
          "name": "stdout",
          "text": [
            "Mounted at /content/gdrive\n"
          ]
        }
      ]
    },
    {
      "cell_type": "code",
      "source": [
        "%cd /content/gdrive/MyDrive/Colab Notebooks/Dataset_spines"
      ],
      "metadata": {
        "colab": {
          "base_uri": "https://localhost:8080/"
        },
        "id": "1J-dbWrGCy7f",
        "outputId": "61f57ec7-e079-4b03-bd6e-88855b82c8ec"
      },
      "execution_count": 3,
      "outputs": [
        {
          "output_type": "stream",
          "name": "stdout",
          "text": [
            "/content/gdrive/MyDrive/Colab Notebooks/Dataset_spines\n"
          ]
        }
      ]
    },
    {
      "cell_type": "code",
      "source": [
        "!ls"
      ],
      "metadata": {
        "colab": {
          "base_uri": "https://localhost:8080/"
        },
        "id": "LScclghKDAMe",
        "outputId": "41515be2-bf8f-4edf-a3b4-f622cea28cf3"
      },
      "execution_count": null,
      "outputs": [
        {
          "output_type": "stream",
          "name": "stdout",
          "text": [
            "filopodia  mushroom  stubby  thin\n"
          ]
        }
      ]
    },
    {
      "cell_type": "code",
      "source": [
        "np.random.seed(101)"
      ],
      "metadata": {
        "id": "suqj-h3UDBx-"
      },
      "execution_count": null,
      "outputs": []
    },
    {
      "cell_type": "markdown",
      "source": [
        "## **Working with Validation and training data**"
      ],
      "metadata": {
        "id": "wDlWQae6DYJA"
      }
    },
    {
      "cell_type": "code",
      "source": [
        "%cd '/content/gdrive/MyDrive/Colab Notebooks/Spine_Dataset'"
      ],
      "metadata": {
        "colab": {
          "base_uri": "https://localhost:8080/"
        },
        "id": "gp8cAtTEDQMR",
        "outputId": "d3ad8db8-cb50-4939-e664-519c81baf96d"
      },
      "execution_count": 4,
      "outputs": [
        {
          "output_type": "stream",
          "name": "stdout",
          "text": [
            "/content/gdrive/MyDrive/Colab Notebooks/Spine_Dataset\n"
          ]
        }
      ]
    },
    {
      "cell_type": "code",
      "source": [
        "!pwd"
      ],
      "metadata": {
        "colab": {
          "base_uri": "https://localhost:8080/"
        },
        "id": "qruk1bHNDeQ6",
        "outputId": "c38271a8-1d1d-4496-f505-3b110bdcf93e"
      },
      "execution_count": null,
      "outputs": [
        {
          "output_type": "stream",
          "name": "stdout",
          "text": [
            "/content/gdrive/MyDrive/Colab Notebooks/Spine_Dataset\n"
          ]
        }
      ]
    },
    {
      "cell_type": "code",
      "source": [
        "!ls"
      ],
      "metadata": {
        "colab": {
          "base_uri": "https://localhost:8080/"
        },
        "id": "MCBgpYf7DgqF",
        "outputId": "0e47b52d-4282-41b1-a91b-d38a49a3904d"
      },
      "execution_count": null,
      "outputs": [
        {
          "output_type": "stream",
          "name": "stdout",
          "text": [
            " filopodiaimage003.png\t filopodiaimage039.png\t'Mushroom 1.jpg'\t\t       train\n",
            " filopodiaimage014.png\t'Mushroom 1 (1).jpg'\t'Mushroom 5.jpg'\t\t       val\n",
            " filopodiaimage024.png\t'Mushroom 131.jpg'\t Spine_Categorizer_InceptionV3.keras\n"
          ]
        }
      ]
    },
    {
      "cell_type": "markdown",
      "source": [
        "### **Exploring the no. of directories, no. of classes and no. of images per class**"
      ],
      "metadata": {
        "id": "e63ChoBmDry6"
      }
    },
    {
      "cell_type": "code",
      "source": [
        "for dirpath, dirnames, filenames in os.walk('/content/gdrive/MyDrive/Colab Notebooks/Spine_Dataset'):\n",
        "  print(f'There are {len(dirnames)} directories and {len(filenames)} images in {len(dirpath)}.')"
      ],
      "metadata": {
        "colab": {
          "base_uri": "https://localhost:8080/"
        },
        "id": "deNZP7z3DjlP",
        "outputId": "fb094cce-7625-463d-ae3d-8c6b7a02f961"
      },
      "execution_count": null,
      "outputs": [
        {
          "output_type": "stream",
          "name": "stdout",
          "text": [
            "There are 2 directories and 9 images in 53.\n",
            "There are 4 directories and 0 images in 59.\n",
            "There are 0 directories and 229 images in 68.\n",
            "There are 0 directories and 84 images in 64.\n",
            "There are 0 directories and 90 images in 66.\n",
            "There are 0 directories and 40 images in 69.\n",
            "There are 4 directories and 0 images in 57.\n",
            "There are 0 directories and 58 images in 66.\n",
            "There are 0 directories and 21 images in 62.\n",
            "There are 0 directories and 23 images in 64.\n",
            "There are 0 directories and 10 images in 67.\n"
          ]
        }
      ]
    },
    {
      "cell_type": "markdown",
      "source": [
        "### **Getting the class names programatically**"
      ],
      "metadata": {
        "id": "R-3l1tQbD90w"
      }
    },
    {
      "cell_type": "code",
      "source": [
        "import pathlib\n",
        "data_dir = pathlib.Path('/content/gdrive/MyDrive/Colab Notebooks/Spine_Dataset/train')\n",
        "\n",
        "\n",
        "#Create a list of class names from the subdirectory\n",
        "class_names = np.array(sorted([item.name for item in data_dir.glob('*')]))\n",
        "print(class_names)"
      ],
      "metadata": {
        "colab": {
          "base_uri": "https://localhost:8080/"
        },
        "id": "4q6KHulWD3Oy",
        "outputId": "8a1e5918-19ce-444b-e52d-e833f9b61455"
      },
      "execution_count": 10,
      "outputs": [
        {
          "output_type": "stream",
          "name": "stdout",
          "text": [
            "['filopodia' 'mushroom' 'stubby' 'thin']\n"
          ]
        }
      ]
    },
    {
      "cell_type": "markdown",
      "source": [
        "## **Visualizing the Images**"
      ],
      "metadata": {
        "id": "eGvKFr2OEESp"
      }
    },
    {
      "cell_type": "code",
      "source": [
        "## Using helper function to view random images\n",
        "\n",
        "import random\n",
        "\n",
        "def view_random_image(target_dir, target_class):\n",
        "\n",
        "  #Setting up the target directory(we'll view images from here)\n",
        "  target_folder = target_dir + target_class\n",
        "\n",
        "  # Getting a random image path\n",
        "  random_image = random.sample(os.listdir(target_folder), 1)\n",
        "  print(random_image)\n",
        "\n",
        "  # Reading image and displaying using matplotlib\n",
        "  img = mpimg.imread(target_folder + \"/\" + random_image[0])\n",
        "  plt.imshow(img, cmap='gray')\n",
        "  plt.title(target_class)\n",
        "  plt.axis('off')\n",
        "\n",
        "  print(f'Image shape: {img.shape}') # Showing the size of image\n",
        "\n",
        "  return img"
      ],
      "metadata": {
        "id": "f2RKyBpUEEtx"
      },
      "execution_count": 5,
      "outputs": []
    },
    {
      "cell_type": "code",
      "source": [
        "# Viewing random Filopodia spine image\n",
        "\n",
        "target_directory_for_images = '/content/gdrive/MyDrive/Colab Notebooks/Spine_Dataset/train/'\n",
        "target_class_of_image = 'filopodia'\n",
        "\n",
        "img_class1 = view_random_image(target_dir = target_directory_for_images,\n",
        "                        target_class = target_class_of_image)"
      ],
      "metadata": {
        "colab": {
          "base_uri": "https://localhost:8080/",
          "height": 464
        },
        "id": "1yrB40bREGix",
        "outputId": "8d422dbd-5872-4f29-c201-60c9cd001bb5"
      },
      "execution_count": 6,
      "outputs": [
        {
          "output_type": "stream",
          "name": "stdout",
          "text": [
            "['filopodiaimage005.png']\n",
            "Image shape: (285, 295, 3)\n"
          ]
        },
        {
          "output_type": "display_data",
          "data": {
            "text/plain": [
              "<Figure size 640x480 with 1 Axes>"
            ],
            "image/png": "[encoded data removed]"
          },
          "metadata": {}
        }
      ]
    },
    {
      "cell_type": "code",
      "source": [
        "# Viewing random Mushroom spine image\n",
        "\n",
        "target_directory_for_images = '/content/gdrive/MyDrive/Colab Notebooks/Spine_Dataset/train/'\n",
        "target_class_of_image = 'mushroom'\n",
        "\n",
        "img_class2 = view_random_image(target_dir = target_directory_for_images,\n",
        "                        target_class = target_class_of_image)"
      ],
      "metadata": {
        "colab": {
          "base_uri": "https://localhost:8080/",
          "height": 464
        },
        "id": "CrJDi7zwETur",
        "outputId": "31eebdb1-11c4-40b0-a3ad-2de81a568e70"
      },
      "execution_count": null,
      "outputs": [
        {
          "output_type": "stream",
          "name": "stdout",
          "text": [
            "['Mushroom 89.jpg']\n",
            "Image shape: (250, 250)\n"
          ]
        },
        {
          "output_type": "display_data",
          "data": {
            "text/plain": [
              "<Figure size 640x480 with 1 Axes>"
            ],
            "image/png": "[encoded data removed]"
          },
          "metadata": {}
        }
      ]
    },
    {
      "cell_type": "code",
      "source": [
        "# Viewing random Stubby spine image\n",
        "\n",
        "target_directory_for_images = '/content/gdrive/MyDrive/Colab Notebooks/Spine_Dataset/train/'\n",
        "target_class_of_image = 'stubby'\n",
        "\n",
        "img_class3 = view_random_image(target_dir = target_directory_for_images,\n",
        "                        target_class = target_class_of_image)"
      ],
      "metadata": {
        "colab": {
          "base_uri": "https://localhost:8080/",
          "height": 464
        },
        "id": "-74TLUukER-b",
        "outputId": "776105fa-538b-4cb6-c118-1e9c89ea876c"
      },
      "execution_count": null,
      "outputs": [
        {
          "output_type": "stream",
          "name": "stdout",
          "text": [
            "['Stubby 65.jpg']\n",
            "Image shape: (250, 250)\n"
          ]
        },
        {
          "output_type": "display_data",
          "data": {
            "text/plain": [
              "<Figure size 640x480 with 1 Axes>"
            ],
            "image/png": "[encoded data removed]"
          },
          "metadata": {}
        }
      ]
    },
    {
      "cell_type": "code",
      "source": [
        "# Viewing random Thin spine image\n",
        "\n",
        "target_directory_for_images = '/content/gdrive/MyDrive/Colab Notebooks/Spine_Dataset/train/'\n",
        "target_class_of_image = 'thin'\n",
        "\n",
        "img_class4 = view_random_image(target_dir = target_directory_for_images,\n",
        "                        target_class = target_class_of_image)"
      ],
      "metadata": {
        "colab": {
          "base_uri": "https://localhost:8080/",
          "height": 464
        },
        "id": "EG8qx-K6EP4N",
        "outputId": "8e5cc30d-626f-4ed3-9595-26123ba5e45f"
      },
      "execution_count": null,
      "outputs": [
        {
          "output_type": "stream",
          "name": "stdout",
          "text": [
            "['Thin 97.jpg']\n",
            "Image shape: (250, 250)\n"
          ]
        },
        {
          "output_type": "display_data",
          "data": {
            "text/plain": [
              "<Figure size 640x480 with 1 Axes>"
            ],
            "image/png": "[encoded data removed]"
          },
          "metadata": {}
        }
      ]
    },
    {
      "cell_type": "code",
      "source": [
        "img_class1.shape, img_class2.shape, img_class3.shape, img_class4.shape,"
      ],
      "metadata": {
        "colab": {
          "base_uri": "https://localhost:8080/"
        },
        "id": "KAG1hPhREKW1",
        "outputId": "447a9da3-ca66-47ab-a2dc-ce10aaeb0a6f"
      },
      "execution_count": null,
      "outputs": [
        {
          "output_type": "execute_result",
          "data": {
            "text/plain": [
              "((285, 295, 3), (250, 250), (250, 250), (250, 250))"
            ]
          },
          "metadata": {},
          "execution_count": 19
        }
      ]
    },
    {
      "cell_type": "markdown",
      "source": [
        "### **Normalizing our data according to the mean dimension of the images present in the training folder**"
      ],
      "metadata": {
        "id": "3HHPF8QnExF4"
      }
    },
    {
      "cell_type": "code",
      "source": [
        "## Setting training, validation and testing directories\n",
        "\n",
        "train_path = '/content/gdrive/MyDrive/Colab Notebooks/Spine_Dataset/train/'\n",
        "val_path = '/content/gdrive/MyDrive/Colab Notebooks/Spine_Dataset/val/'"
      ],
      "metadata": {
        "id": "xhIHAxVzExgz"
      },
      "execution_count": 7,
      "outputs": []
    },
    {
      "cell_type": "code",
      "source": [
        "class_names,class_names[0], type(class_names[0])"
      ],
      "metadata": {
        "colab": {
          "base_uri": "https://localhost:8080/"
        },
        "id": "IdMgeVv3EBHb",
        "outputId": "944f7379-84a2-4e10-c391-e2b7e49e9c32"
      },
      "execution_count": 11,
      "outputs": [
        {
          "output_type": "execute_result",
          "data": {
            "text/plain": [
              "(array(['filopodia', 'mushroom', 'stubby', 'thin'], dtype='<U9'),\n",
              " 'filopodia',\n",
              " numpy.str_)"
            ]
          },
          "metadata": {},
          "execution_count": 11
        }
      ]
    },
    {
      "cell_type": "markdown",
      "source": [
        "#### **Getting the mean dimension of the images to rescale them**"
      ],
      "metadata": {
        "id": "26Mu8zQoFF-A"
      }
    },
    {
      "cell_type": "code",
      "source": [
        "dim1 = []\n",
        "dim2 = []\n",
        "\n",
        "for image_filename in os.listdir(train_path+class_names[2]):\n",
        "\n",
        "    if(image_filename.split('.')[1] == 'jpg'):\n",
        "      img = mpimg.imread(train_path+class_names[2] +'/'+image_filename)\n",
        "      d1,d2 = img.shape\n",
        "      dim1.append(d1)\n",
        "      dim2.append(d2)\n",
        "\n",
        "\n",
        "np.mean(dim1),np.mean(dim2)"
      ],
      "metadata": {
        "colab": {
          "base_uri": "https://localhost:8080/"
        },
        "id": "YAHwKN9AFGWC",
        "outputId": "c2312814-1b61-45ae-adf9-2d225183e103"
      },
      "execution_count": 12,
      "outputs": [
        {
          "output_type": "execute_result",
          "data": {
            "text/plain": [
              "(250.0, 250.0)"
            ]
          },
          "metadata": {},
          "execution_count": 12
        }
      ]
    },
    {
      "cell_type": "code",
      "source": [
        "# Visualizing the mean dimension for all the images in the train set\n",
        "\n",
        "sns.jointplot(x=dim1, y=dim2)"
      ],
      "metadata": {
        "colab": {
          "base_uri": "https://localhost:8080/",
          "height": 644
        },
        "id": "miPM_ltXFHr-",
        "outputId": "1ea2d590-d666-417b-efd5-b3fc7f0de447"
      },
      "execution_count": 13,
      "outputs": [
        {
          "output_type": "execute_result",
          "data": {
            "text/plain": [
              "<seaborn.axisgrid.JointGrid at 0x7af7f34a6080>"
            ]
          },
          "metadata": {},
          "execution_count": 13
        },
        {
          "output_type": "display_data",
          "data": {
            "text/plain": [
              "<Figure size 600x600 with 3 Axes>"
            ],
            "image/png": "[encoded data removed]"
          },
          "metadata": {}
        }
      ]
    },
    {
      "cell_type": "markdown",
      "source": [
        "## **Augmenting images and compiling the model**"
      ],
      "metadata": {
        "id": "nXYobpCtGyQQ"
      }
    },
    {
      "cell_type": "code",
      "source": [
        "from tensorflow.keras.preprocessing.image import ImageDataGenerator"
      ],
      "metadata": {
        "id": "QR9W4G2gGymR"
      },
      "execution_count": 14,
      "outputs": []
    },
    {
      "cell_type": "markdown",
      "source": [
        "#### ***Changing image dimension to (224,224) for matching MobileNetV2 expected input dimesnions***"
      ],
      "metadata": {
        "id": "-mHhd_d6I11m"
      }
    },
    {
      "cell_type": "code",
      "source": [
        "image_size = (224,224)\n",
        "\n",
        "datagen = ImageDataGenerator(\n",
        "    rotation_range=20,\n",
        "    width_shift_range=0.10, # Shift the pic width by a max of 5%\n",
        "    height_shift_range=0.10, # Shift the pic height by a max of 5%\n",
        "    rescale=1/255, # Rescale the image by normalzing it.\n",
        "    shear_range=0.1, # Shear means cutting away part of the image (max 10%)\n",
        "    zoom_range=0.1, # Zoom in by 10% max\n",
        "    horizontal_flip=True, # Allow horizontal flipping\n",
        "    fill_mode='nearest' # Fill in missing pixels with the nearest filled value\n",
        ")\n",
        "\n",
        "train_gen = datagen.flow_from_directory(\n",
        "    train_path,\n",
        "    target_size=image_size,\n",
        "    batch_size=32,\n",
        "    color_mode='rgb',\n",
        "    class_mode='categorical'\n",
        ")\n",
        "\n",
        "validation_gen = datagen.flow_from_directory(\n",
        "    val_path,\n",
        "    target_size=image_size,\n",
        "    batch_size=32,\n",
        "    color_mode='rgb',\n",
        "    class_mode='categorical',\n",
        "    shuffle=False,\n",
        ")"
      ],
      "metadata": {
        "colab": {
          "base_uri": "https://localhost:8080/"
        },
        "id": "ymBQxh2WG2Ip",
        "outputId": "d5244134-5393-4983-bf44-70c3a2414a7e"
      },
      "execution_count": 15,
      "outputs": [
        {
          "output_type": "stream",
          "name": "stdout",
          "text": [
            "Found 443 images belonging to 4 classes.\n",
            "Found 112 images belonging to 4 classes.\n"
          ]
        }
      ]
    },
    {
      "cell_type": "markdown",
      "source": [
        "#### **Labels for the classes (Which class indicates which index)**"
      ],
      "metadata": {
        "id": "q2-KLagqG_5H"
      }
    },
    {
      "cell_type": "code",
      "source": [
        "train_gen.class_indices"
      ],
      "metadata": {
        "colab": {
          "base_uri": "https://localhost:8080/"
        },
        "id": "IWGGk0cRHAUF",
        "outputId": "16905b36-a529-4b51-fbde-49ce25af5043"
      },
      "execution_count": 16,
      "outputs": [
        {
          "output_type": "execute_result",
          "data": {
            "text/plain": [
              "{'filopodia': 0, 'mushroom': 1, 'stubby': 2, 'thin': 3}"
            ]
          },
          "metadata": {},
          "execution_count": 16
        }
      ]
    },
    {
      "cell_type": "code",
      "source": [
        "validation_gen.class_indices"
      ],
      "metadata": {
        "colab": {
          "base_uri": "https://localhost:8080/"
        },
        "id": "0wbbnQJ_HBeH",
        "outputId": "d01f7415-0a94-4eb1-b4f4-b278ea401c3e"
      },
      "execution_count": 17,
      "outputs": [
        {
          "output_type": "execute_result",
          "data": {
            "text/plain": [
              "{'filopodia': 0, 'mushroom': 1, 'stubby': 2, 'thin': 3}"
            ]
          },
          "metadata": {},
          "execution_count": 17
        }
      ]
    },
    {
      "cell_type": "markdown",
      "source": [
        "## **Creating base model from pretrained MobileNetV2 instance using TFHub**"
      ],
      "metadata": {
        "id": "KCX_ZZqKHgZn"
      }
    },
    {
      "cell_type": "code",
      "source": [
        "mobilenet_v2 =\"https://tfhub.dev/google/tf2-preview/mobilenet_v2/classification/4\""
      ],
      "metadata": {
        "id": "eHGJb53THqMy"
      },
      "execution_count": 18,
      "outputs": []
    },
    {
      "cell_type": "markdown",
      "source": [
        "### ***Build the classification model***"
      ],
      "metadata": {
        "id": "WBWHfHfIJY-d"
      }
    },
    {
      "cell_type": "code",
      "source": [
        "from tensorflow.keras import metrics"
      ],
      "metadata": {
        "id": "qAiJ8cMCQh1_"
      },
      "execution_count": 20,
      "outputs": []
    },
    {
      "cell_type": "code",
      "source": [
        "## Implementing distributed training with multiple GPUs for faster training\n",
        "\n",
        "mirrored_strategy = tf.distribute.MirroredStrategy()\n",
        "\n",
        "with mirrored_strategy.scope():\n",
        "  base_model = hub.KerasLayer(mobilenet_v2, input_shape=(224, 224, 3))\n",
        "  model = tf.keras.Sequential([\n",
        "      base_model,\n",
        "      tf.keras.layers.Dense(1024, activation='relu'),\n",
        "      tf.keras.layers.Dense(4, activation='softmax')  # 4 categories\n",
        "  ])\n",
        "  model.compile(optimizer='adam', loss='categorical_crossentropy', metrics=['accuracy', metrics.Precision(), metrics.Recall()])"
      ],
      "metadata": {
        "id": "6WvL_0E6E2SI"
      },
      "execution_count": 21,
      "outputs": []
    },
    {
      "cell_type": "code",
      "source": [
        "# Summarizing the Model\n",
        "model.summary()"
      ],
      "metadata": {
        "id": "N266PMQeH9sX",
        "colab": {
          "base_uri": "https://localhost:8080/"
        },
        "outputId": "26e74d5b-9edd-4871-eda4-0d304ba40de2"
      },
      "execution_count": 22,
      "outputs": [
        {
          "output_type": "stream",
          "name": "stdout",
          "text": [
            "Model: \"sequential_1\"\n",
            "_________________________________________________________________\n",
            " Layer (type)                Output Shape              Param #   \n",
            "=================================================================\n",
            " keras_layer_1 (KerasLayer)  (None, 1001)              3540265   \n",
            "                                                                 \n",
            " dense_2 (Dense)             (None, 1024)              1026048   \n",
            "                                                                 \n",
            " dense_3 (Dense)             (None, 4)                 4100      \n",
            "                                                                 \n",
            "=================================================================\n",
            "Total params: 4570413 (17.43 MB)\n",
            "Trainable params: 1030148 (3.93 MB)\n",
            "Non-trainable params: 3540265 (13.51 MB)\n",
            "_________________________________________________________________\n"
          ]
        }
      ]
    },
    {
      "cell_type": "code",
      "source": [
        "## Fitting the model\n",
        "\n",
        "model_history = model.fit(train_gen, epochs=20, validation_data=validation_gen)"
      ],
      "metadata": {
        "colab": {
          "base_uri": "https://localhost:8080/"
        },
        "id": "tGm1Z1EbJ6Lv",
        "outputId": "29df64d1-deab-4be9-f0f5-7b793ed73f0d"
      },
      "execution_count": 23,
      "outputs": [
        {
          "output_type": "stream",
          "name": "stdout",
          "text": [
            "Epoch 1/20\n",
            "14/14 [==============================] - 101s 7s/step - loss: 1.1468 - accuracy: 0.7540 - precision: 0.7791 - recall: 0.7404 - val_loss: 0.5116 - val_accuracy: 0.8571 - val_precision: 0.8571 - val_recall: 0.8571\n",
            "Epoch 2/20\n",
            "14/14 [==============================] - 8s 582ms/step - loss: 0.4873 - accuracy: 0.8781 - precision: 0.8798 - recall: 0.8758 - val_loss: 0.4122 - val_accuracy: 0.9107 - val_precision: 0.9107 - val_recall: 0.9107\n",
            "Epoch 3/20\n",
            "14/14 [==============================] - 8s 589ms/step - loss: 0.3907 - accuracy: 0.9029 - precision: 0.9029 - recall: 0.9029 - val_loss: 0.2751 - val_accuracy: 0.9286 - val_precision: 0.9369 - val_recall: 0.9286\n",
            "Epoch 4/20\n",
            "14/14 [==============================] - 9s 692ms/step - loss: 0.3044 - accuracy: 0.9074 - precision: 0.9074 - recall: 0.9074 - val_loss: 0.2876 - val_accuracy: 0.8929 - val_precision: 0.8929 - val_recall: 0.8929\n",
            "Epoch 5/20\n",
            "14/14 [==============================] - 9s 662ms/step - loss: 0.2356 - accuracy: 0.9052 - precision: 0.9070 - recall: 0.9029 - val_loss: 0.2920 - val_accuracy: 0.9196 - val_precision: 0.9196 - val_recall: 0.9196\n",
            "Epoch 6/20\n",
            "14/14 [==============================] - 8s 611ms/step - loss: 0.2359 - accuracy: 0.9097 - precision: 0.9097 - recall: 0.9097 - val_loss: 0.3238 - val_accuracy: 0.9018 - val_precision: 0.9018 - val_recall: 0.9018\n",
            "Epoch 7/20\n",
            "14/14 [==============================] - 9s 689ms/step - loss: 0.2594 - accuracy: 0.9052 - precision: 0.9072 - recall: 0.9052 - val_loss: 0.2346 - val_accuracy: 0.9107 - val_precision: 0.9189 - val_recall: 0.9107\n",
            "Epoch 8/20\n",
            "14/14 [==============================] - 9s 660ms/step - loss: 0.2037 - accuracy: 0.9142 - precision: 0.9142 - recall: 0.9142 - val_loss: 0.2296 - val_accuracy: 0.9375 - val_precision: 0.9375 - val_recall: 0.9375\n",
            "Epoch 9/20\n",
            "14/14 [==============================] - 8s 573ms/step - loss: 0.2002 - accuracy: 0.9323 - precision: 0.9321 - recall: 0.9300 - val_loss: 0.2252 - val_accuracy: 0.9107 - val_precision: 0.9107 - val_recall: 0.9107\n",
            "Epoch 10/20\n",
            "14/14 [==============================] - 10s 694ms/step - loss: 0.1789 - accuracy: 0.9300 - precision: 0.9342 - recall: 0.9300 - val_loss: 0.1049 - val_accuracy: 0.9643 - val_precision: 0.9643 - val_recall: 0.9643\n",
            "Epoch 11/20\n",
            "14/14 [==============================] - 9s 656ms/step - loss: 0.1541 - accuracy: 0.9323 - precision: 0.9320 - recall: 0.9278 - val_loss: 0.1525 - val_accuracy: 0.9464 - val_precision: 0.9464 - val_recall: 0.9464\n",
            "Epoch 12/20\n",
            "14/14 [==============================] - 9s 608ms/step - loss: 0.1326 - accuracy: 0.9503 - precision: 0.9503 - recall: 0.9503 - val_loss: 0.1651 - val_accuracy: 0.9375 - val_precision: 0.9369 - val_recall: 0.9286\n",
            "Epoch 13/20\n",
            "14/14 [==============================] - 9s 689ms/step - loss: 0.1534 - accuracy: 0.9391 - precision: 0.9389 - recall: 0.9368 - val_loss: 0.1535 - val_accuracy: 0.9464 - val_precision: 0.9464 - val_recall: 0.9464\n",
            "Epoch 14/20\n",
            "14/14 [==============================] - 8s 593ms/step - loss: 0.1533 - accuracy: 0.9436 - precision: 0.9436 - recall: 0.9436 - val_loss: 0.2775 - val_accuracy: 0.9107 - val_precision: 0.9189 - val_recall: 0.9107\n",
            "Epoch 15/20\n",
            "14/14 [==============================] - 8s 572ms/step - loss: 0.1524 - accuracy: 0.9368 - precision: 0.9368 - recall: 0.9368 - val_loss: 0.2346 - val_accuracy: 0.9107 - val_precision: 0.9107 - val_recall: 0.9107\n",
            "Epoch 16/20\n",
            "14/14 [==============================] - 10s 761ms/step - loss: 0.1170 - accuracy: 0.9594 - precision: 0.9594 - recall: 0.9594 - val_loss: 0.1488 - val_accuracy: 0.9554 - val_precision: 0.9554 - val_recall: 0.9554\n",
            "Epoch 17/20\n",
            "14/14 [==============================] - 12s 886ms/step - loss: 0.1330 - accuracy: 0.9481 - precision: 0.9480 - recall: 0.9458 - val_loss: 0.2181 - val_accuracy: 0.9196 - val_precision: 0.9196 - val_recall: 0.9196\n",
            "Epoch 18/20\n",
            "14/14 [==============================] - 9s 655ms/step - loss: 0.1453 - accuracy: 0.9300 - precision: 0.9300 - recall: 0.9300 - val_loss: 0.2283 - val_accuracy: 0.9018 - val_precision: 0.9018 - val_recall: 0.9018\n",
            "Epoch 19/20\n",
            "14/14 [==============================] - 8s 583ms/step - loss: 0.1461 - accuracy: 0.9503 - precision: 0.9503 - recall: 0.9503 - val_loss: 0.2339 - val_accuracy: 0.9196 - val_precision: 0.9196 - val_recall: 0.9196\n",
            "Epoch 20/20\n",
            "14/14 [==============================] - 9s 688ms/step - loss: 0.1399 - accuracy: 0.9503 - precision: 0.9503 - recall: 0.9503 - val_loss: 0.2075 - val_accuracy: 0.9196 - val_precision: 0.9273 - val_recall: 0.9107\n"
          ]
        }
      ]
    },
    {
      "cell_type": "code",
      "source": [
        "#Plotting loss per iteration\n",
        "\n",
        "plt.plot(model_history.history['loss'],label='loss')\n",
        "plt.plot(model_history.history['val_loss'], label = 'validation_loss')\n",
        "plt.legend()"
      ],
      "metadata": {
        "colab": {
          "base_uri": "https://localhost:8080/",
          "height": 448
        },
        "id": "KxL8NfHmJqpW",
        "outputId": "613982f9-4d81-4cee-d879-22395c9eb473"
      },
      "execution_count": 24,
      "outputs": [
        {
          "output_type": "execute_result",
          "data": {
            "text/plain": [
              "<matplotlib.legend.Legend at 0x7af7e824da80>"
            ]
          },
          "metadata": {},
          "execution_count": 24
        },
        {
          "output_type": "display_data",
          "data": {
            "text/plain": [
              "<Figure size 640x480 with 1 Axes>"
            ],
            "image/png": "[encoded data removed]"
          },
          "metadata": {}
        }
      ]
    },
    {
      "cell_type": "code",
      "source": [
        "#Plotting accuracy per iteration\n",
        "\n",
        "plt.plot(model_history.history['accuracy'],label='accuracy')\n",
        "plt.plot(model_history.history['val_accuracy'], label = 'validation_accuracy')\n",
        "plt.legend()"
      ],
      "metadata": {
        "colab": {
          "base_uri": "https://localhost:8080/",
          "height": 448
        },
        "id": "icrMTqBJNtkC",
        "outputId": "9fc453ce-85a8-4e6b-e584-1762b6d26bf5"
      },
      "execution_count": 25,
      "outputs": [
        {
          "output_type": "execute_result",
          "data": {
            "text/plain": [
              "<matplotlib.legend.Legend at 0x7af7e83a9a80>"
            ]
          },
          "metadata": {},
          "execution_count": 25
        },
        {
          "output_type": "display_data",
          "data": {
            "text/plain": [
              "<Figure size 640x480 with 1 Axes>"
            ],
            "image/png": "[encoded data removed]"
          },
          "metadata": {}
        }
      ]
    },
    {
      "cell_type": "code",
      "source": [
        "## Evaluating our model\n",
        "\n",
        "print(model.evaluate(validation_gen))"
      ],
      "metadata": {
        "colab": {
          "base_uri": "https://localhost:8080/"
        },
        "id": "cZ-uLXdeNxyO",
        "outputId": "a1d3f5e8-1ccc-421e-8bf7-8dae16c62d3e"
      },
      "execution_count": 26,
      "outputs": [
        {
          "output_type": "stream",
          "name": "stdout",
          "text": [
            "4/4 [==============================] - 2s 358ms/step - loss: 0.1981 - accuracy: 0.9286 - precision: 0.9286 - recall: 0.9286\n",
            "[0.19813503324985504, 0.9285714030265808, 0.9285714030265808, 0.9285714030265808]\n"
          ]
        }
      ]
    },
    {
      "cell_type": "code",
      "source": [
        "# Get the evaluation results\n",
        "eval_results = model.evaluate(validation_gen)\n",
        "\n",
        "# Extract the precision and recall values\n",
        "precision = eval_results[2]\n",
        "recall = eval_results[3]\n",
        "\n",
        "# Calculate F1 score\n",
        "f1_score = 2 * (precision * recall) / (precision + recall)\n",
        "\n",
        "print(\"F1 Score: \", f1_score)\n"
      ],
      "metadata": {
        "colab": {
          "base_uri": "https://localhost:8080/"
        },
        "id": "SmfFPmgMSX9h",
        "outputId": "409f038b-c931-484c-a2b6-75b1f70075ff"
      },
      "execution_count": 27,
      "outputs": [
        {
          "output_type": "stream",
          "name": "stdout",
          "text": [
            "4/4 [==============================] - 2s 455ms/step - loss: 0.1959 - accuracy: 0.9286 - precision: 0.9286 - recall: 0.9286\n",
            "F1 Score:  0.9285714030265808\n"
          ]
        }
      ]
    },
    {
      "cell_type": "markdown",
      "source": [
        "## **Testing and predicting custom images**"
      ],
      "metadata": {
        "id": "siADffQCVXPV"
      }
    },
    {
      "cell_type": "code",
      "source": [
        "from google.colab import files\n",
        "from tensorflow.keras.preprocessing import image"
      ],
      "metadata": {
        "id": "Ieum4kadN1Yn"
      },
      "execution_count": null,
      "outputs": []
    },
    {
      "cell_type": "code",
      "source": [
        "plt.figure(figsize=(10, 10))\n",
        "\n",
        "uploaded=files.upload()"
      ],
      "metadata": {
        "colab": {
          "base_uri": "https://localhost:8080/",
          "height": 91
        },
        "id": "j7pvdEleVZ5z",
        "outputId": "88698de4-54de-4787-d3e2-7fdec437f0fb"
      },
      "execution_count": null,
      "outputs": [
        {
          "output_type": "display_data",
          "data": {
            "text/plain": [
              "<IPython.core.display.HTML object>"
            ],
            "text/html": [
              "\n",
              "     <input type=\"file\" id=\"files-dce8fe13-8390-4477-abba-5acf239cf275\" name=\"files[]\" multiple disabled\n",
              "        style=\"border:none\" />\n",
              "     <output id=\"result-dce8fe13-8390-4477-abba-5acf239cf275\">\n",
              "      Upload widget is only available when the cell has been executed in the\n",
              "      current browser session. Please rerun this cell to enable.\n",
              "      </output>\n",
              "      <script>// Copyright 2017 Google LLC\n",
              "//\n",
              "// Licensed under the Apache License, Version 2.0 (the \"License\");\n",
              "// you may not use this file except in compliance with the License.\n",
              "// You may obtain a copy of the License at\n",
              "//\n",
              "//      http://www.apache.org/licenses/LICENSE-2.0\n",
              "//\n",
              "// Unless required by applicable law or agreed to in writing, software\n",
              "// distributed under the License is distributed on an \"AS IS\" BASIS,\n",
              "// WITHOUT WARRANTIES OR CONDITIONS OF ANY KIND, either express or implied.\n",
              "// See the License for the specific language governing permissions and\n",
              "// limitations under the License.\n",
              "\n",
              "/**\n",
              " * @fileoverview Helpers for google.colab Python module.\n",
              " */\n",
              "(function(scope) {\n",
              "function span(text, styleAttributes = {}) {\n",
              "  const element = document.createElement('span');\n",
              "  element.textContent = text;\n",
              "  for (const key of Object.keys(styleAttributes)) {\n",
              "    element.style[key] = styleAttributes[key];\n",
              "  }\n",
              "  return element;\n",
              "}\n",
              "\n",
              "// Max number of bytes which will be uploaded at a time.\n",
              "const MAX_PAYLOAD_SIZE = 100 * 1024;\n",
              "\n",
              "function _uploadFiles(inputId, outputId) {\n",
              "  const steps = uploadFilesStep(inputId, outputId);\n",
              "  const outputElement = document.getElementById(outputId);\n",
              "  // Cache steps on the outputElement to make it available for the next call\n",
              "  // to uploadFilesContinue from Python.\n",
              "  outputElement.steps = steps;\n",
              "\n",
              "  return _uploadFilesContinue(outputId);\n",
              "}\n",
              "\n",
              "// This is roughly an async generator (not supported in the browser yet),\n",
              "// where there are multiple asynchronous steps and the Python side is going\n",
              "// to poll for completion of each step.\n",
              "// This uses a Promise to block the python side on completion of each step,\n",
              "// then passes the result of the previous step as the input to the next step.\n",
              "function _uploadFilesContinue(outputId) {\n",
              "  const outputElement = document.getElementById(outputId);\n",
              "  const steps = outputElement.steps;\n",
              "\n",
              "  const next = steps.next(outputElement.lastPromiseValue);\n",
              "  return Promise.resolve(next.value.promise).then((value) => {\n",
              "    // Cache the last promise value to make it available to the next\n",
              "    // step of the generator.\n",
              "    outputElement.lastPromiseValue = value;\n",
              "    return next.value.response;\n",
              "  });\n",
              "}\n",
              "\n",
              "/**\n",
              " * Generator function which is called between each async step of the upload\n",
              " * process.\n",
              " * @param {string} inputId Element ID of the input file picker element.\n",
              " * @param {string} outputId Element ID of the output display.\n",
              " * @return {!Iterable<!Object>} Iterable of next steps.\n",
              " */\n",
              "function* uploadFilesStep(inputId, outputId) {\n",
              "  const inputElement = document.getElementById(inputId);\n",
              "  inputElement.disabled = false;\n",
              "\n",
              "  const outputElement = document.getElementById(outputId);\n",
              "  outputElement.innerHTML = '';\n",
              "\n",
              "  const pickedPromise = new Promise((resolve) => {\n",
              "    inputElement.addEventListener('change', (e) => {\n",
              "      resolve(e.target.files);\n",
              "    });\n",
              "  });\n",
              "\n",
              "  const cancel = document.createElement('button');\n",
              "  inputElement.parentElement.appendChild(cancel);\n",
              "  cancel.textContent = 'Cancel upload';\n",
              "  const cancelPromise = new Promise((resolve) => {\n",
              "    cancel.onclick = () => {\n",
              "      resolve(null);\n",
              "    };\n",
              "  });\n",
              "\n",
              "  // Wait for the user to pick the files.\n",
              "  const files = yield {\n",
              "    promise: Promise.race([pickedPromise, cancelPromise]),\n",
              "    response: {\n",
              "      action: 'starting',\n",
              "    }\n",
              "  };\n",
              "\n",
              "  cancel.remove();\n",
              "\n",
              "  // Disable the input element since further picks are not allowed.\n",
              "  inputElement.disabled = true;\n",
              "\n",
              "  if (!files) {\n",
              "    return {\n",
              "      response: {\n",
              "        action: 'complete',\n",
              "      }\n",
              "    };\n",
              "  }\n",
              "\n",
              "  for (const file of files) {\n",
              "    const li = document.createElement('li');\n",
              "    li.append(span(file.name, {fontWeight: 'bold'}));\n",
              "    li.append(span(\n",
              "        `(${file.type || 'n/a'}) - ${file.size} bytes, ` +\n",
              "        `last modified: ${\n",
              "            file.lastModifiedDate ? file.lastModifiedDate.toLocaleDateString() :\n",
              "                                    'n/a'} - `));\n",
              "    const percent = span('0% done');\n",
              "    li.appendChild(percent);\n",
              "\n",
              "    outputElement.appendChild(li);\n",
              "\n",
              "    const fileDataPromise = new Promise((resolve) => {\n",
              "      const reader = new FileReader();\n",
              "      reader.onload = (e) => {\n",
              "        resolve(e.target.result);\n",
              "      };\n",
              "      reader.readAsArrayBuffer(file);\n",
              "    });\n",
              "    // Wait for the data to be ready.\n",
              "    let fileData = yield {\n",
              "      promise: fileDataPromise,\n",
              "      response: {\n",
              "        action: 'continue',\n",
              "      }\n",
              "    };\n",
              "\n",
              "    // Use a chunked sending to avoid message size limits. See b/62115660.\n",
              "    let position = 0;\n",
              "    do {\n",
              "      const length = Math.min(fileData.byteLength - position, MAX_PAYLOAD_SIZE);\n",
              "      const chunk = new Uint8Array(fileData, position, length);\n",
              "      position += length;\n",
              "\n",
              "      const base64 = btoa(String.fromCharCode.apply(null, chunk));\n",
              "      yield {\n",
              "        response: {\n",
              "          action: 'append',\n",
              "          file: file.name,\n",
              "          data: base64,\n",
              "        },\n",
              "      };\n",
              "\n",
              "      let percentDone = fileData.byteLength === 0 ?\n",
              "          100 :\n",
              "          Math.round((position / fileData.byteLength) * 100);\n",
              "      percent.textContent = `${percentDone}% done`;\n",
              "\n",
              "    } while (position < fileData.byteLength);\n",
              "  }\n",
              "\n",
              "  // All done.\n",
              "  yield {\n",
              "    response: {\n",
              "      action: 'complete',\n",
              "    }\n",
              "  };\n",
              "}\n",
              "\n",
              "scope.google = scope.google || {};\n",
              "scope.google.colab = scope.google.colab || {};\n",
              "scope.google.colab._files = {\n",
              "  _uploadFiles,\n",
              "  _uploadFilesContinue,\n",
              "};\n",
              "})(self);\n",
              "</script> "
            ]
          },
          "metadata": {}
        },
        {
          "output_type": "stream",
          "name": "stdout",
          "text": [
            "Saving Thin 8.jpg to Thin 8.jpg\n"
          ]
        },
        {
          "output_type": "display_data",
          "data": {
            "text/plain": [
              "<Figure size 1000x1000 with 0 Axes>"
            ]
          },
          "metadata": {}
        }
      ]
    },
    {
      "cell_type": "code",
      "source": [
        "i=1\n",
        "\n",
        "for fn in uploaded.keys():\n",
        "\n",
        "  # predicting images\n",
        "\n",
        "  path='/content/gdrive/MyDrive/Colab Notebooks/Spine_Dataset/' + fn\n",
        "  img=tf.keras.utils.load_img(path, color_mode='rgb',target_size=(224, 224))\n",
        "\n",
        "  plt.subplot(1,2,i)\n",
        "\n",
        "  plt.imshow(img,cmap='gray',label=fn)\n",
        "  plt.axis('off')\n",
        "\n",
        "  i+=1\n",
        "\n",
        "  x=image.img_to_array(img)\n",
        "  print(f\"The shape is {x.shape}\")\n",
        "  x=np.expand_dims(x, axis=0)\n",
        "  images = np.vstack([x])\n",
        "\n",
        "  classes = model.predict(images,batch_size=16)\n",
        "  #print(classes)\n",
        "\n",
        "values = classes[0].tolist()\n",
        "ind = values.index(max(values)) + 1\n",
        "if(ind==1):\n",
        "  print('The uploaded image of spine belongs to the class FILOPODIA')\n",
        "elif(ind==2):\n",
        "  print('The uploaded image of spine belongs to the class MUSHROOM')\n",
        "elif(ind==3):\n",
        "  print('The uploaded image of spine belongs to the class STUBBY')\n",
        "elif(ind==4):\n",
        "  print('The uploaded image of spine belongs to the class THIN')"
      ],
      "metadata": {
        "colab": {
          "base_uri": "https://localhost:8080/",
          "height": 317
        },
        "outputId": "4a952376-7a75-42bb-a054-f2fc13894c6e",
        "id": "i_sO68DWRrAX"
      },
      "execution_count": null,
      "outputs": [
        {
          "output_type": "stream",
          "name": "stdout",
          "text": [
            "The shape is (224, 224, 3)\n",
            "1/1 [==============================] - 1s 1s/step\n",
            "The uploaded image of spine belongs to the class THIN\n"
          ]
        },
        {
          "output_type": "display_data",
          "data": {
            "text/plain": [
              "<Figure size 640x480 with 1 Axes>"
            ],
            "image/png": "[encoded data removed]"
          },
          "metadata": {}
        }
      ]
    },
    {
      "cell_type": "code",
      "source": [
        "model.save(filepath=\"/content/gdrive/MyDrive/Colab Notebooks/Spine_Dataset/MobileNet_spine_categorizer.h5\", overwrite=True, save_format=\"h5\")\n",
        "print('Model Saved')"
      ],
      "metadata": {
        "colab": {
          "base_uri": "https://localhost:8080/"
        },
        "id": "5fVpLQAoUdNr",
        "outputId": "9936a1e9-19b9-473d-925a-80ffff0376c0"
      },
      "execution_count": null,
      "outputs": [
        {
          "output_type": "stream",
          "name": "stderr",
          "text": [
            "/usr/local/lib/python3.10/dist-packages/keras/src/engine/training.py:3103: UserWarning: You are saving your model as an HDF5 file via `model.save()`. This file format is considered legacy. We recommend using instead the native Keras format, e.g. `model.save('my_model.keras')`.\n",
            "  saving_api.save_model(\n"
          ]
        },
        {
          "output_type": "stream",
          "name": "stdout",
          "text": [
            "Model Saved\n"
          ]
        }
      ]
    },
    {
      "cell_type": "code",
      "source": [
        "model.save(filepath=\"/content/gdrive/MyDrive/Colab Notebooks/Spine_Dataset/MobileNet_spine_categorizer.keras\", overwrite=True, save_format=\"keras\")\n",
        "print('Model Saved')"
      ],
      "metadata": {
        "colab": {
          "base_uri": "https://localhost:8080/"
        },
        "id": "_-XaiakmV6fu",
        "outputId": "0d8d0e33-28d2-4ffa-c190-a858f888def9"
      },
      "execution_count": null,
      "outputs": [
        {
          "output_type": "stream",
          "name": "stdout",
          "text": [
            "Model Saved\n"
          ]
        }
      ]
    }
  ]
}