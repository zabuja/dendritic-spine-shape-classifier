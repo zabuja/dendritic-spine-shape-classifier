{
  "nbformat": 4,
  "nbformat_minor": 0,
  "metadata": {
    "colab": {
      "provenance": [],
      "gpuType": "T4"
    },
    "kernelspec": {
      "name": "python3",
      "display_name": "Python 3"
    },
    "language_info": {
      "name": "python"
    },
    "accelerator": "GPU"
  },
  "cells": [
    {
      "cell_type": "markdown",
      "source": [
        "# **Importing necessary libraries for EDA and building the CNN model for multi-class image classification**"
      ],
      "metadata": {
        "id": "rkxp2aV7Cl1b"
      }
    },
    {
      "cell_type": "code",
      "source": [
        "import os\n",
        "import tensorflow as tf\n",
        "import matplotlib.pyplot as plt\n",
        "import matplotlib.image as mpimg\n",
        "import numpy as np\n",
        "import pandas as pd\n",
        "import seaborn as sns\n",
        "from keras.models import load_model\n",
        "import tensorflow_hub as hub"
      ],
      "metadata": {
        "id": "YgD0K2Q9CmnZ"
      },
      "execution_count": 1,
      "outputs": []
    },
    {
      "cell_type": "code",
      "source": [
        "print(tf.__version__)"
      ],
      "metadata": {
        "colab": {
          "base_uri": "https://localhost:8080/"
        },
        "id": "K12iG_FDCryt",
        "outputId": "03ea3ada-704f-41ad-f4ee-373fbc032683"
      },
      "execution_count": null,
      "outputs": [
        {
          "output_type": "stream",
          "name": "stdout",
          "text": [
            "2.15.0\n"
          ]
        }
      ]
    },
    {
      "cell_type": "code",
      "source": [
        "from google.colab import drive\n",
        "drive.mount('/content/gdrive')"
      ],
      "metadata": {
        "id": "xzXYnxAOCw8q",
        "colab": {
          "base_uri": "https://localhost:8080/"
        },
        "outputId": "05407cb6-8490-4cca-b070-470a1f3edadb"
      },
      "execution_count": 2,
      "outputs": [
        {
          "output_type": "stream",
          "name": "stdout",
          "text": [
            "Mounted at /content/gdrive\n"
          ]
        }
      ]
    },
    {
      "cell_type": "code",
      "source": [
        "%cd /content/gdrive/MyDrive/Colab Notebooks/Dataset_spines"
      ],
      "metadata": {
        "id": "1J-dbWrGCy7f",
        "colab": {
          "base_uri": "https://localhost:8080/"
        },
        "outputId": "6a43d985-9e8e-43b4-c7ab-322a6cbea8f3"
      },
      "execution_count": null,
      "outputs": [
        {
          "output_type": "stream",
          "name": "stdout",
          "text": [
            "/content/gdrive/MyDrive/Colab Notebooks/Dataset_spines\n"
          ]
        }
      ]
    },
    {
      "cell_type": "code",
      "source": [
        "!ls"
      ],
      "metadata": {
        "id": "LScclghKDAMe",
        "colab": {
          "base_uri": "https://localhost:8080/"
        },
        "outputId": "504984cd-7559-44b1-8b97-0872463ab841"
      },
      "execution_count": null,
      "outputs": [
        {
          "output_type": "stream",
          "name": "stdout",
          "text": [
            "filopodia  mushroom  stubby  thin\n"
          ]
        }
      ]
    },
    {
      "cell_type": "code",
      "source": [
        "np.random.seed(101)"
      ],
      "metadata": {
        "id": "suqj-h3UDBx-"
      },
      "execution_count": null,
      "outputs": []
    },
    {
      "cell_type": "markdown",
      "source": [
        "## **Working with Validation and training data**"
      ],
      "metadata": {
        "id": "wDlWQae6DYJA"
      }
    },
    {
      "cell_type": "code",
      "source": [
        "%cd '/content/gdrive/MyDrive/Colab Notebooks/Spine_Dataset'"
      ],
      "metadata": {
        "id": "gp8cAtTEDQMR",
        "colab": {
          "base_uri": "https://localhost:8080/"
        },
        "outputId": "e0d89290-0098-424b-cc61-6f780adbe7a9"
      },
      "execution_count": null,
      "outputs": [
        {
          "output_type": "stream",
          "name": "stdout",
          "text": [
            "/content/gdrive/MyDrive/Colab Notebooks/Spine_Dataset\n"
          ]
        }
      ]
    },
    {
      "cell_type": "code",
      "source": [
        "!pwd"
      ],
      "metadata": {
        "id": "qruk1bHNDeQ6",
        "colab": {
          "base_uri": "https://localhost:8080/"
        },
        "outputId": "661e4dce-e80c-48d3-824f-638a562417c4"
      },
      "execution_count": null,
      "outputs": [
        {
          "output_type": "stream",
          "name": "stdout",
          "text": [
            "/content/gdrive/MyDrive/Colab Notebooks/Spine_Dataset\n"
          ]
        }
      ]
    },
    {
      "cell_type": "code",
      "source": [
        "!ls"
      ],
      "metadata": {
        "id": "MCBgpYf7DgqF",
        "colab": {
          "base_uri": "https://localhost:8080/"
        },
        "outputId": "a1d43bee-2d0a-4f5c-8941-2662f61f5066"
      },
      "execution_count": null,
      "outputs": [
        {
          "output_type": "stream",
          "name": "stdout",
          "text": [
            "15.PNG\ttrain  val\n"
          ]
        }
      ]
    },
    {
      "cell_type": "markdown",
      "source": [
        "### **Exploring the no. of directories, no. of classes and no. of images per class**"
      ],
      "metadata": {
        "id": "e63ChoBmDry6"
      }
    },
    {
      "cell_type": "code",
      "source": [
        "for dirpath, dirnames, filenames in os.walk('/content/gdrive/MyDrive/Colab Notebooks/Spine_Dataset'):\n",
        "  print(f'There are {len(dirnames)} directories and {len(filenames)} images in {len(dirpath)}.')"
      ],
      "metadata": {
        "id": "deNZP7z3DjlP",
        "colab": {
          "base_uri": "https://localhost:8080/"
        },
        "outputId": "9fe2c320-ffe3-4343-b8f1-b73bc08eb7b4"
      },
      "execution_count": null,
      "outputs": [
        {
          "output_type": "stream",
          "name": "stdout",
          "text": [
            "There are 2 directories and 0 images in 53.\n",
            "There are 4 directories and 0 images in 59.\n",
            "There are 0 directories and 90 images in 66.\n",
            "There are 0 directories and 40 images in 69.\n",
            "There are 0 directories and 229 images in 68.\n",
            "There are 0 directories and 84 images in 64.\n",
            "There are 4 directories and 0 images in 57.\n",
            "There are 0 directories and 23 images in 64.\n",
            "There are 0 directories and 10 images in 67.\n",
            "There are 0 directories and 58 images in 66.\n",
            "There are 0 directories and 21 images in 62.\n"
          ]
        }
      ]
    },
    {
      "cell_type": "markdown",
      "source": [
        "### **Getting the class names programatically**"
      ],
      "metadata": {
        "id": "R-3l1tQbD90w"
      }
    },
    {
      "cell_type": "code",
      "source": [
        "import pathlib\n",
        "data_dir = pathlib.Path('/content/gdrive/MyDrive/Colab Notebooks/Spine_Dataset/train')\n",
        "\n",
        "\n",
        "#Create a list of class names from the subdirectory\n",
        "class_names = np.array(sorted([item.name for item in data_dir.glob('*')]))\n",
        "print(class_names)"
      ],
      "metadata": {
        "id": "4q6KHulWD3Oy",
        "colab": {
          "base_uri": "https://localhost:8080/"
        },
        "outputId": "1893bc5d-a0e9-45e7-a86b-c722c0709e6e"
      },
      "execution_count": 3,
      "outputs": [
        {
          "output_type": "stream",
          "name": "stdout",
          "text": [
            "['filopodia' 'mushroom' 'stubby' 'thin']\n"
          ]
        }
      ]
    },
    {
      "cell_type": "markdown",
      "source": [
        "## **Visualizing the Images**"
      ],
      "metadata": {
        "id": "eGvKFr2OEESp"
      }
    },
    {
      "cell_type": "code",
      "source": [
        "## Using helper function to view random images\n",
        "\n",
        "import random\n",
        "\n",
        "def view_random_image(target_dir, target_class):\n",
        "\n",
        "  #Setting up the target directory(we'll view images from here)\n",
        "  target_folder = target_dir + target_class\n",
        "\n",
        "  # Getting a random image path\n",
        "  random_image = random.sample(os.listdir(target_folder), 1)\n",
        "  print(random_image)\n",
        "\n",
        "  # Reading image and displaying using matplotlib\n",
        "  img = mpimg.imread(target_folder + \"/\" + random_image[0])\n",
        "  plt.imshow(img, cmap='gray')\n",
        "  plt.title(target_class)\n",
        "  plt.axis('off')\n",
        "\n",
        "  print(f'Image shape: {img.shape}') # Showing the size of image\n",
        "\n",
        "  return img"
      ],
      "metadata": {
        "id": "f2RKyBpUEEtx"
      },
      "execution_count": 4,
      "outputs": []
    },
    {
      "cell_type": "code",
      "source": [
        "# Viewing random Filopodia spine image\n",
        "\n",
        "target_directory_for_images = '/content/gdrive/MyDrive/Colab Notebooks/Spine_Dataset/train/'\n",
        "target_class_of_image = 'filopodia'\n",
        "\n",
        "img_class1 = view_random_image(target_dir = target_directory_for_images,\n",
        "                        target_class = target_class_of_image)"
      ],
      "metadata": {
        "id": "1yrB40bREGix",
        "colab": {
          "base_uri": "https://localhost:8080/",
          "height": 386
        },
        "outputId": "49949381-c963-4bca-9fdc-d8dd536e7e46"
      },
      "execution_count": 5,
      "outputs": [
        {
          "output_type": "stream",
          "name": "stdout",
          "text": [
            "['filopodiaimage021.png']\n",
            "Image shape: (692, 1177, 4)\n"
          ]
        },
        {
          "output_type": "display_data",
          "data": {
            "text/plain": [
              "<Figure size 640x480 with 1 Axes>"
            ],
            "image/png": "[encoded data removed]"
          },
          "metadata": {}
        }
      ]
    },
    {
      "cell_type": "code",
      "source": [
        "# Viewing random Mushroom spine image\n",
        "\n",
        "target_directory_for_images = '/content/gdrive/MyDrive/Colab Notebooks/Spine_Dataset/train/'\n",
        "target_class_of_image = 'mushroom'\n",
        "\n",
        "img_class2 = view_random_image(target_dir = target_directory_for_images,\n",
        "                        target_class = target_class_of_image)"
      ],
      "metadata": {
        "id": "CrJDi7zwETur",
        "colab": {
          "base_uri": "https://localhost:8080/",
          "height": 464
        },
        "outputId": "a0c22570-760f-49d3-8f7b-65f810b2e14b"
      },
      "execution_count": null,
      "outputs": [
        {
          "output_type": "stream",
          "name": "stdout",
          "text": [
            "['106.png']\n",
            "Image shape: (250, 250)\n"
          ]
        },
        {
          "output_type": "display_data",
          "data": {
            "text/plain": [
              "<Figure size 640x480 with 1 Axes>"
            ],
            "image/png": "[encoded data removed]"
          },
          "metadata": {}
        }
      ]
    },
    {
      "cell_type": "code",
      "source": [
        "# Viewing random Stubby spine image\n",
        "\n",
        "target_directory_for_images = '/content/gdrive/MyDrive/Colab Notebooks/Spine_Dataset/train/'\n",
        "target_class_of_image = 'stubby'\n",
        "\n",
        "img_class3 = view_random_image(target_dir = target_directory_for_images,\n",
        "                        target_class = target_class_of_image)"
      ],
      "metadata": {
        "id": "-74TLUukER-b",
        "colab": {
          "base_uri": "https://localhost:8080/",
          "height": 464
        },
        "outputId": "fd1c2572-b71d-49b7-dc3f-c6cdd0b02343"
      },
      "execution_count": null,
      "outputs": [
        {
          "output_type": "stream",
          "name": "stdout",
          "text": [
            "['326.png']\n",
            "Image shape: (250, 250)\n"
          ]
        },
        {
          "output_type": "display_data",
          "data": {
            "text/plain": [
              "<Figure size 640x480 with 1 Axes>"
            ],
            "image/png": "[encoded data removed]"
          },
          "metadata": {}
        }
      ]
    },
    {
      "cell_type": "code",
      "source": [
        "# Viewing random Thin spine image\n",
        "\n",
        "target_directory_for_images = '/content/gdrive/MyDrive/Colab Notebooks/Spine_Dataset/train/'\n",
        "target_class_of_image = 'thin'\n",
        "\n",
        "img_class4 = view_random_image(target_dir = target_directory_for_images,\n",
        "                        target_class = target_class_of_image)"
      ],
      "metadata": {
        "id": "EG8qx-K6EP4N",
        "colab": {
          "base_uri": "https://localhost:8080/",
          "height": 464
        },
        "outputId": "0748082e-935f-4e31-f5ef-dc943cda1a1e"
      },
      "execution_count": null,
      "outputs": [
        {
          "output_type": "stream",
          "name": "stdout",
          "text": [
            "['426.png']\n",
            "Image shape: (250, 250)\n"
          ]
        },
        {
          "output_type": "display_data",
          "data": {
            "text/plain": [
              "<Figure size 640x480 with 1 Axes>"
            ],
            "image/png": "[encoded data removed]"
          },
          "metadata": {}
        }
      ]
    },
    {
      "cell_type": "code",
      "source": [
        "img_class1.shape, img_class2.shape, img_class3.shape, img_class4.shape,"
      ],
      "metadata": {
        "id": "KAG1hPhREKW1",
        "colab": {
          "base_uri": "https://localhost:8080/"
        },
        "outputId": "8f96d537-da48-44e9-cd22-5f0d48790df2"
      },
      "execution_count": null,
      "outputs": [
        {
          "output_type": "execute_result",
          "data": {
            "text/plain": [
              "((692, 1177, 4), (250, 250), (250, 250), (250, 250))"
            ]
          },
          "metadata": {},
          "execution_count": 22
        }
      ]
    },
    {
      "cell_type": "markdown",
      "source": [
        "### **Normalizing our data according to the mean dimension of the images present in the training folder**"
      ],
      "metadata": {
        "id": "3HHPF8QnExF4"
      }
    },
    {
      "cell_type": "code",
      "source": [
        "## Setting training, validation and testing directories\n",
        "\n",
        "train_path = '/content/gdrive/MyDrive/Colab Notebooks/Spine_Dataset/train/'\n",
        "val_path = '/content/gdrive/MyDrive/Colab Notebooks/Spine_Dataset/val/'"
      ],
      "metadata": {
        "id": "xhIHAxVzExgz"
      },
      "execution_count": 6,
      "outputs": []
    },
    {
      "cell_type": "code",
      "source": [
        "class_names,class_names[0], type(class_names[0])"
      ],
      "metadata": {
        "id": "IdMgeVv3EBHb",
        "colab": {
          "base_uri": "https://localhost:8080/"
        },
        "outputId": "79d09434-af19-4912-fda9-fe2b04bf9c83"
      },
      "execution_count": 7,
      "outputs": [
        {
          "output_type": "execute_result",
          "data": {
            "text/plain": [
              "(array(['filopodia', 'mushroom', 'stubby', 'thin'], dtype='<U9'),\n",
              " 'filopodia',\n",
              " numpy.str_)"
            ]
          },
          "metadata": {},
          "execution_count": 7
        }
      ]
    },
    {
      "cell_type": "markdown",
      "source": [
        "#### **Getting the mean dimension of the images to rescale them**"
      ],
      "metadata": {
        "id": "26Mu8zQoFF-A"
      }
    },
    {
      "cell_type": "code",
      "source": [
        "dim1 = []\n",
        "dim2 = []\n",
        "\n",
        "for image_filename in os.listdir(train_path+class_names[2]):\n",
        "\n",
        "    if(image_filename.split('.')[1] == 'jpg'):\n",
        "      img = mpimg.imread(train_path+class_names[2] +'/'+image_filename)\n",
        "      d1,d2 = img.shape\n",
        "      dim1.append(d1)\n",
        "      dim2.append(d2)\n",
        "\n",
        "\n",
        "np.mean(dim1),np.mean(dim2)"
      ],
      "metadata": {
        "id": "YAHwKN9AFGWC",
        "colab": {
          "base_uri": "https://localhost:8080/"
        },
        "outputId": "f43b1677-8ba2-4b59-f61a-52b5abdad0b7"
      },
      "execution_count": 10,
      "outputs": [
        {
          "output_type": "execute_result",
          "data": {
            "text/plain": [
              "(250.0, 250.0)"
            ]
          },
          "metadata": {},
          "execution_count": 10
        }
      ]
    },
    {
      "cell_type": "code",
      "source": [
        "# Visualizing the mean dimension for all the images in the train set\n",
        "\n",
        "sns.jointplot(x=dim1, y=dim2)"
      ],
      "metadata": {
        "id": "miPM_ltXFHr-",
        "colab": {
          "base_uri": "https://localhost:8080/",
          "height": 644
        },
        "outputId": "12aba5b3-b49b-432d-b304-58d4887d17d0"
      },
      "execution_count": 11,
      "outputs": [
        {
          "output_type": "execute_result",
          "data": {
            "text/plain": [
              "<seaborn.axisgrid.JointGrid at 0x7f0db6b1ebf0>"
            ]
          },
          "metadata": {},
          "execution_count": 11
        },
        {
          "output_type": "display_data",
          "data": {
            "text/plain": [
              "<Figure size 600x600 with 3 Axes>"
            ],
            "image/png": "[encoded data removed]"
          },
          "metadata": {}
        }
      ]
    },
    {
      "cell_type": "markdown",
      "source": [
        "## **Augmenting images and compiling the model**"
      ],
      "metadata": {
        "id": "nXYobpCtGyQQ"
      }
    },
    {
      "cell_type": "code",
      "source": [
        "from tensorflow.keras.preprocessing.image import ImageDataGenerator"
      ],
      "metadata": {
        "id": "QR9W4G2gGymR"
      },
      "execution_count": 12,
      "outputs": []
    },
    {
      "cell_type": "markdown",
      "source": [
        "#### ***Changing image dimension to (224,224) for matching ResNet-152 input dimesnions***"
      ],
      "metadata": {
        "id": "-mHhd_d6I11m"
      }
    },
    {
      "cell_type": "code",
      "source": [
        "image_size = (224,224)\n",
        "\n",
        "datagen = ImageDataGenerator(\n",
        "    rotation_range=20,\n",
        "    width_shift_range=0.10, # Shift the pic width by a max of 5%\n",
        "    height_shift_range=0.10, # Shift the pic height by a max of 5%\n",
        "    rescale=1/255, # Rescale the image by normalzing it.\n",
        "    shear_range=0.1, # Shear means cutting away part of the image (max 10%)\n",
        "    zoom_range=0.1, # Zoom in by 10% max\n",
        "    horizontal_flip=True, # Allow horizontal flipping\n",
        "    fill_mode='nearest' # Fill in missing pixels with the nearest filled value\n",
        ")\n",
        "\n",
        "train_gen = datagen.flow_from_directory(\n",
        "    train_path,\n",
        "    target_size=image_size,\n",
        "    batch_size=32,\n",
        "    color_mode='rgb',\n",
        "    class_mode='categorical'\n",
        ")\n",
        "\n",
        "validation_gen = datagen.flow_from_directory(\n",
        "    val_path,\n",
        "    target_size=image_size,\n",
        "    batch_size=32,\n",
        "    color_mode='rgb',\n",
        "    class_mode='categorical',\n",
        "    shuffle=False,\n",
        ")"
      ],
      "metadata": {
        "id": "ymBQxh2WG2Ip",
        "colab": {
          "base_uri": "https://localhost:8080/"
        },
        "outputId": "5b14810b-f7ab-4cf8-8570-604393253def"
      },
      "execution_count": 13,
      "outputs": [
        {
          "output_type": "stream",
          "name": "stdout",
          "text": [
            "Found 443 images belonging to 4 classes.\n",
            "Found 112 images belonging to 4 classes.\n"
          ]
        }
      ]
    },
    {
      "cell_type": "markdown",
      "source": [
        "#### **Labels for the classes (Which class indicates which index)**"
      ],
      "metadata": {
        "id": "q2-KLagqG_5H"
      }
    },
    {
      "cell_type": "code",
      "source": [
        "train_gen.class_indices"
      ],
      "metadata": {
        "id": "IWGGk0cRHAUF",
        "colab": {
          "base_uri": "https://localhost:8080/"
        },
        "outputId": "261a2968-1417-4a1a-8fa5-3e934cde4cd7"
      },
      "execution_count": 14,
      "outputs": [
        {
          "output_type": "execute_result",
          "data": {
            "text/plain": [
              "{'filopodia': 0, 'mushroom': 1, 'stubby': 2, 'thin': 3}"
            ]
          },
          "metadata": {},
          "execution_count": 14
        }
      ]
    },
    {
      "cell_type": "code",
      "source": [
        "validation_gen.class_indices"
      ],
      "metadata": {
        "id": "0wbbnQJ_HBeH",
        "colab": {
          "base_uri": "https://localhost:8080/"
        },
        "outputId": "51d58ced-b819-4c64-89b8-0b79d791a543"
      },
      "execution_count": 15,
      "outputs": [
        {
          "output_type": "execute_result",
          "data": {
            "text/plain": [
              "{'filopodia': 0, 'mushroom': 1, 'stubby': 2, 'thin': 3}"
            ]
          },
          "metadata": {},
          "execution_count": 15
        }
      ]
    },
    {
      "cell_type": "markdown",
      "source": [
        "## **Creating base model from pretrained ResNet-152**"
      ],
      "metadata": {
        "id": "KCX_ZZqKHgZn"
      }
    },
    {
      "cell_type": "code",
      "source": [
        "from tensorflow.keras.applications import ResNet152"
      ],
      "metadata": {
        "id": "u6A-lrXo7jl_"
      },
      "execution_count": 16,
      "outputs": []
    },
    {
      "cell_type": "markdown",
      "source": [
        "### ***Build the classification model***"
      ],
      "metadata": {
        "id": "WBWHfHfIJY-d"
      }
    },
    {
      "cell_type": "code",
      "source": [
        "from tensorflow.keras import metrics"
      ],
      "metadata": {
        "id": "EVR6o1iHUGK7"
      },
      "execution_count": 19,
      "outputs": []
    },
    {
      "cell_type": "code",
      "source": [
        "## Implementing distributed training with multiple GPUs for faster training\n",
        "\n",
        "mirrored_strategy = tf.distribute.MirroredStrategy()\n",
        "\n",
        "with mirrored_strategy.scope():\n",
        "  base_model = ResNet152(weights='imagenet', include_top=False, input_shape=(224, 224, 3))\n",
        "  base_model.trainable = False  # Freeze the base model\n",
        "  model = tf.keras.Sequential([\n",
        "      base_model,\n",
        "      tf.keras.layers.GlobalAveragePooling2D(),\n",
        "      tf.keras.layers.Dense(1024, activation='relu'),\n",
        "      tf.keras.layers.Dense(4, activation='softmax')  # 4 categories\n",
        "  ])\n",
        "  model.compile(optimizer='adam', loss='categorical_crossentropy', metrics=['accuracy', metrics.Precision(), metrics.Recall()])"
      ],
      "metadata": {
        "id": "6WvL_0E6E2SI"
      },
      "execution_count": 20,
      "outputs": []
    },
    {
      "cell_type": "code",
      "source": [
        "# Summarizing the Model\n",
        "model.summary()"
      ],
      "metadata": {
        "id": "N266PMQeH9sX",
        "colab": {
          "base_uri": "https://localhost:8080/"
        },
        "outputId": "a785fedd-adc3-4f09-d2bd-bc7d50f4aa07"
      },
      "execution_count": 21,
      "outputs": [
        {
          "output_type": "stream",
          "name": "stdout",
          "text": [
            "Model: \"sequential_1\"\n",
            "_________________________________________________________________\n",
            " Layer (type)                Output Shape              Param #   \n",
            "=================================================================\n",
            " resnet152 (Functional)      (None, 7, 7, 2048)        58370944  \n",
            "                                                                 \n",
            " global_average_pooling2d_1  (None, 2048)              0         \n",
            "  (GlobalAveragePooling2D)                                       \n",
            "                                                                 \n",
            " dense_2 (Dense)             (None, 1024)              2098176   \n",
            "                                                                 \n",
            " dense_3 (Dense)             (None, 4)                 4100      \n",
            "                                                                 \n",
            "=================================================================\n",
            "Total params: 60473220 (230.69 MB)\n",
            "Trainable params: 2102276 (8.02 MB)\n",
            "Non-trainable params: 58370944 (222.67 MB)\n",
            "_________________________________________________________________\n"
          ]
        }
      ]
    },
    {
      "cell_type": "code",
      "source": [
        "## Fitting the model\n",
        "\n",
        "model_history = model.fit(train_gen, epochs=20, validation_data=validation_gen)"
      ],
      "metadata": {
        "id": "tGm1Z1EbJ6Lv",
        "colab": {
          "base_uri": "https://localhost:8080/"
        },
        "outputId": "e2e37084-9d8a-4a31-d9ab-4fddae20b9a6"
      },
      "execution_count": 22,
      "outputs": [
        {
          "output_type": "stream",
          "name": "stdout",
          "text": [
            "Epoch 1/20\n",
            "14/14 [==============================] - 312s 21s/step - loss: 1.0952 - accuracy: 0.5801 - precision: 0.6278 - recall: 0.4379 - val_loss: 0.8078 - val_accuracy: 0.7589 - val_precision: 0.8095 - val_recall: 0.4554\n",
            "Epoch 2/20\n",
            "14/14 [==============================] - 11s 798ms/step - loss: 0.7018 - accuracy: 0.7201 - precision: 0.7465 - recall: 0.6050 - val_loss: 0.5568 - val_accuracy: 0.7143 - val_precision: 0.7477 - val_recall: 0.7143\n",
            "Epoch 3/20\n",
            "14/14 [==============================] - 11s 812ms/step - loss: 0.5874 - accuracy: 0.7562 - precision: 0.7900 - recall: 0.7133 - val_loss: 0.4773 - val_accuracy: 0.7857 - val_precision: 0.8333 - val_recall: 0.7589\n",
            "Epoch 4/20\n",
            "14/14 [==============================] - 11s 772ms/step - loss: 0.5271 - accuracy: 0.7901 - precision: 0.8155 - recall: 0.7585 - val_loss: 0.4591 - val_accuracy: 0.8214 - val_precision: 0.8173 - val_recall: 0.7589\n",
            "Epoch 5/20\n",
            "14/14 [==============================] - 11s 823ms/step - loss: 0.4917 - accuracy: 0.7810 - precision: 0.7976 - recall: 0.7562 - val_loss: 0.4560 - val_accuracy: 0.8304 - val_precision: 0.8571 - val_recall: 0.8036\n",
            "Epoch 6/20\n",
            "14/14 [==============================] - 11s 816ms/step - loss: 0.4815 - accuracy: 0.8081 - precision: 0.8212 - recall: 0.7878 - val_loss: 0.4064 - val_accuracy: 0.8304 - val_precision: 0.8440 - val_recall: 0.8214\n",
            "Epoch 7/20\n",
            "14/14 [==============================] - 11s 773ms/step - loss: 0.4274 - accuracy: 0.8397 - precision: 0.8545 - recall: 0.8352 - val_loss: 0.4196 - val_accuracy: 0.7857 - val_precision: 0.7944 - val_recall: 0.7589\n",
            "Epoch 8/20\n",
            "14/14 [==============================] - 11s 786ms/step - loss: 0.4118 - accuracy: 0.8465 - precision: 0.8502 - recall: 0.8330 - val_loss: 0.4165 - val_accuracy: 0.8214 - val_precision: 0.8257 - val_recall: 0.8036\n",
            "Epoch 9/20\n",
            "14/14 [==============================] - 11s 779ms/step - loss: 0.4474 - accuracy: 0.8194 - precision: 0.8306 - recall: 0.8081 - val_loss: 0.3356 - val_accuracy: 0.8661 - val_precision: 0.8899 - val_recall: 0.8661\n",
            "Epoch 10/20\n",
            "14/14 [==============================] - 13s 933ms/step - loss: 0.4729 - accuracy: 0.7968 - precision: 0.8137 - recall: 0.7788 - val_loss: 0.4257 - val_accuracy: 0.8125 - val_precision: 0.8241 - val_recall: 0.7946\n",
            "Epoch 11/20\n",
            "14/14 [==============================] - 13s 925ms/step - loss: 0.4569 - accuracy: 0.8217 - precision: 0.8265 - recall: 0.8172 - val_loss: 0.3495 - val_accuracy: 0.8929 - val_precision: 0.9000 - val_recall: 0.8839\n",
            "Epoch 12/20\n",
            "14/14 [==============================] - 10s 729ms/step - loss: 0.3897 - accuracy: 0.8578 - precision: 0.8647 - recall: 0.8510 - val_loss: 0.3757 - val_accuracy: 0.8750 - val_precision: 0.8818 - val_recall: 0.8661\n",
            "Epoch 13/20\n",
            "14/14 [==============================] - 11s 795ms/step - loss: 0.4021 - accuracy: 0.8623 - precision: 0.8829 - recall: 0.8510 - val_loss: 0.3825 - val_accuracy: 0.8571 - val_precision: 0.8636 - val_recall: 0.8482\n",
            "Epoch 14/20\n",
            "14/14 [==============================] - 11s 819ms/step - loss: 0.3939 - accuracy: 0.8465 - precision: 0.8571 - recall: 0.8397 - val_loss: 0.3692 - val_accuracy: 0.8750 - val_precision: 0.8868 - val_recall: 0.8393\n",
            "Epoch 15/20\n",
            "14/14 [==============================] - 13s 938ms/step - loss: 0.3629 - accuracy: 0.8488 - precision: 0.8568 - recall: 0.8375 - val_loss: 0.4830 - val_accuracy: 0.7857 - val_precision: 0.7830 - val_recall: 0.7411\n",
            "Epoch 16/20\n",
            "14/14 [==============================] - 11s 747ms/step - loss: 0.4520 - accuracy: 0.8194 - precision: 0.8223 - recall: 0.8149 - val_loss: 0.3983 - val_accuracy: 0.8393 - val_precision: 0.8393 - val_recall: 0.8393\n",
            "Epoch 17/20\n",
            "14/14 [==============================] - 11s 773ms/step - loss: 0.4045 - accuracy: 0.8465 - precision: 0.8545 - recall: 0.8352 - val_loss: 0.3967 - val_accuracy: 0.8571 - val_precision: 0.8624 - val_recall: 0.8393\n",
            "Epoch 18/20\n",
            "14/14 [==============================] - 11s 815ms/step - loss: 0.4102 - accuracy: 0.8555 - precision: 0.8581 - recall: 0.8330 - val_loss: 0.4143 - val_accuracy: 0.8125 - val_precision: 0.8198 - val_recall: 0.8125\n",
            "Epoch 19/20\n",
            "14/14 [==============================] - 11s 779ms/step - loss: 0.3810 - accuracy: 0.8465 - precision: 0.8568 - recall: 0.8375 - val_loss: 0.4270 - val_accuracy: 0.7857 - val_precision: 0.7909 - val_recall: 0.7768\n",
            "Epoch 20/20\n",
            "14/14 [==============================] - 10s 682ms/step - loss: 0.4139 - accuracy: 0.8352 - precision: 0.8495 - recall: 0.8284 - val_loss: 0.3787 - val_accuracy: 0.8214 - val_precision: 0.8257 - val_recall: 0.8036\n"
          ]
        }
      ]
    },
    {
      "cell_type": "code",
      "source": [
        "#Plotting loss per iteration\n",
        "\n",
        "plt.plot(model_history.history['loss'],label='loss')\n",
        "plt.plot(model_history.history['val_loss'], label = 'validation_loss')\n",
        "plt.legend()"
      ],
      "metadata": {
        "id": "KxL8NfHmJqpW",
        "colab": {
          "base_uri": "https://localhost:8080/",
          "height": 448
        },
        "outputId": "4f87edc2-ac8a-4ee3-d9fa-15bce347c64b"
      },
      "execution_count": 23,
      "outputs": [
        {
          "output_type": "execute_result",
          "data": {
            "text/plain": [
              "<matplotlib.legend.Legend at 0x7f0db00a96c0>"
            ]
          },
          "metadata": {},
          "execution_count": 23
        },
        {
          "output_type": "display_data",
          "data": {
            "text/plain": [
              "<Figure size 640x480 with 1 Axes>"
            ],
            "image/png": "[encoded data removed]"
          },
          "metadata": {}
        }
      ]
    },
    {
      "cell_type": "code",
      "source": [
        "#Plotting accuracy per iteration\n",
        "\n",
        "plt.plot(model_history.history['accuracy'],label='accuracy')\n",
        "plt.plot(model_history.history['val_accuracy'], label = 'validation_accuracy')\n",
        "plt.legend()"
      ],
      "metadata": {
        "id": "icrMTqBJNtkC",
        "colab": {
          "base_uri": "https://localhost:8080/",
          "height": 448
        },
        "outputId": "2f43a5d5-03f4-47fa-b4c8-fe56738ccd29"
      },
      "execution_count": 24,
      "outputs": [
        {
          "output_type": "execute_result",
          "data": {
            "text/plain": [
              "<matplotlib.legend.Legend at 0x7f0cc453ffd0>"
            ]
          },
          "metadata": {},
          "execution_count": 24
        },
        {
          "output_type": "display_data",
          "data": {
            "text/plain": [
              "<Figure size 640x480 with 1 Axes>"
            ],
            "image/png": "[encoded data removed]"
          },
          "metadata": {}
        }
      ]
    },
    {
      "cell_type": "code",
      "source": [
        "## Evaluating our model\n",
        "\n",
        "print(model.evaluate(validation_gen))"
      ],
      "metadata": {
        "id": "cZ-uLXdeNxyO",
        "colab": {
          "base_uri": "https://localhost:8080/"
        },
        "outputId": "5cce8d91-ddab-4104-e2fb-10fe6dd16946"
      },
      "execution_count": 25,
      "outputs": [
        {
          "output_type": "stream",
          "name": "stdout",
          "text": [
            "4/4 [==============================] - 3s 455ms/step - loss: 0.3362 - accuracy: 0.8482 - precision: 0.8532 - recall: 0.8304\n",
            "[0.3362121284008026, 0.8482142686843872, 0.853210985660553, 0.8303571343421936]\n"
          ]
        }
      ]
    },
    {
      "cell_type": "code",
      "source": [
        "# Get the evaluation results\n",
        "eval_results = model.evaluate(validation_gen)\n",
        "\n",
        "# Extract the precision and recall values\n",
        "precision = eval_results[2]\n",
        "recall = eval_results[3]\n",
        "\n",
        "# Calculate F1 score\n",
        "f1_score = 2 * (precision * recall) / (precision + recall)\n",
        "\n",
        "print(\"F1 Score: \", f1_score)"
      ],
      "metadata": {
        "colab": {
          "base_uri": "https://localhost:8080/"
        },
        "id": "0j3QJCHcXatF",
        "outputId": "10237d23-000d-48f5-c079-3140c1af36d8"
      },
      "execution_count": 26,
      "outputs": [
        {
          "output_type": "stream",
          "name": "stdout",
          "text": [
            "4/4 [==============================] - 2s 391ms/step - loss: 0.3733 - accuracy: 0.8571 - precision: 0.8636 - recall: 0.8482\n",
            "F1 Score:  0.8558558525082042\n"
          ]
        }
      ]
    },
    {
      "cell_type": "markdown",
      "source": [
        "## **Testing and predicting custom images**"
      ],
      "metadata": {
        "id": "siADffQCVXPV"
      }
    },
    {
      "cell_type": "code",
      "source": [
        "from google.colab import files\n",
        "from tensorflow.keras.preprocessing import image"
      ],
      "metadata": {
        "id": "Ieum4kadN1Yn"
      },
      "execution_count": null,
      "outputs": []
    },
    {
      "cell_type": "code",
      "source": [
        "plt.figure(figsize=(10, 10))\n",
        "\n",
        "uploaded=files.upload()"
      ],
      "metadata": {
        "id": "j7pvdEleVZ5z",
        "colab": {
          "base_uri": "https://localhost:8080/",
          "height": 91
        },
        "outputId": "ba5b6dc8-6a63-4aca-ec01-a311d9cdd077"
      },
      "execution_count": null,
      "outputs": [
        {
          "output_type": "display_data",
          "data": {
            "text/plain": [
              "<IPython.core.display.HTML object>"
            ],
            "text/html": [
              "\n",
              "     <input type=\"file\" id=\"files-c4200ffa-91a0-4072-9738-05e0528def85\" name=\"files[]\" multiple disabled\n",
              "        style=\"border:none\" />\n",
              "     <output id=\"result-c4200ffa-91a0-4072-9738-05e0528def85\">\n",
              "      Upload widget is only available when the cell has been executed in the\n",
              "      current browser session. Please rerun this cell to enable.\n",
              "      </output>\n",
              "      <script>// Copyright 2017 Google LLC\n",
              "//\n",
              "// Licensed under the Apache License, Version 2.0 (the \"License\");\n",
              "// you may not use this file except in compliance with the License.\n",
              "// You may obtain a copy of the License at\n",
              "//\n",
              "//      http://www.apache.org/licenses/LICENSE-2.0\n",
              "//\n",
              "// Unless required by applicable law or agreed to in writing, software\n",
              "// distributed under the License is distributed on an \"AS IS\" BASIS,\n",
              "// WITHOUT WARRANTIES OR CONDITIONS OF ANY KIND, either express or implied.\n",
              "// See the License for the specific language governing permissions and\n",
              "// limitations under the License.\n",
              "\n",
              "/**\n",
              " * @fileoverview Helpers for google.colab Python module.\n",
              " */\n",
              "(function(scope) {\n",
              "function span(text, styleAttributes = {}) {\n",
              "  const element = document.createElement('span');\n",
              "  element.textContent = text;\n",
              "  for (const key of Object.keys(styleAttributes)) {\n",
              "    element.style[key] = styleAttributes[key];\n",
              "  }\n",
              "  return element;\n",
              "}\n",
              "\n",
              "// Max number of bytes which will be uploaded at a time.\n",
              "const MAX_PAYLOAD_SIZE = 100 * 1024;\n",
              "\n",
              "function _uploadFiles(inputId, outputId) {\n",
              "  const steps = uploadFilesStep(inputId, outputId);\n",
              "  const outputElement = document.getElementById(outputId);\n",
              "  // Cache steps on the outputElement to make it available for the next call\n",
              "  // to uploadFilesContinue from Python.\n",
              "  outputElement.steps = steps;\n",
              "\n",
              "  return _uploadFilesContinue(outputId);\n",
              "}\n",
              "\n",
              "// This is roughly an async generator (not supported in the browser yet),\n",
              "// where there are multiple asynchronous steps and the Python side is going\n",
              "// to poll for completion of each step.\n",
              "// This uses a Promise to block the python side on completion of each step,\n",
              "// then passes the result of the previous step as the input to the next step.\n",
              "function _uploadFilesContinue(outputId) {\n",
              "  const outputElement = document.getElementById(outputId);\n",
              "  const steps = outputElement.steps;\n",
              "\n",
              "  const next = steps.next(outputElement.lastPromiseValue);\n",
              "  return Promise.resolve(next.value.promise).then((value) => {\n",
              "    // Cache the last promise value to make it available to the next\n",
              "    // step of the generator.\n",
              "    outputElement.lastPromiseValue = value;\n",
              "    return next.value.response;\n",
              "  });\n",
              "}\n",
              "\n",
              "/**\n",
              " * Generator function which is called between each async step of the upload\n",
              " * process.\n",
              " * @param {string} inputId Element ID of the input file picker element.\n",
              " * @param {string} outputId Element ID of the output display.\n",
              " * @return {!Iterable<!Object>} Iterable of next steps.\n",
              " */\n",
              "function* uploadFilesStep(inputId, outputId) {\n",
              "  const inputElement = document.getElementById(inputId);\n",
              "  inputElement.disabled = false;\n",
              "\n",
              "  const outputElement = document.getElementById(outputId);\n",
              "  outputElement.innerHTML = '';\n",
              "\n",
              "  const pickedPromise = new Promise((resolve) => {\n",
              "    inputElement.addEventListener('change', (e) => {\n",
              "      resolve(e.target.files);\n",
              "    });\n",
              "  });\n",
              "\n",
              "  const cancel = document.createElement('button');\n",
              "  inputElement.parentElement.appendChild(cancel);\n",
              "  cancel.textContent = 'Cancel upload';\n",
              "  const cancelPromise = new Promise((resolve) => {\n",
              "    cancel.onclick = () => {\n",
              "      resolve(null);\n",
              "    };\n",
              "  });\n",
              "\n",
              "  // Wait for the user to pick the files.\n",
              "  const files = yield {\n",
              "    promise: Promise.race([pickedPromise, cancelPromise]),\n",
              "    response: {\n",
              "      action: 'starting',\n",
              "    }\n",
              "  };\n",
              "\n",
              "  cancel.remove();\n",
              "\n",
              "  // Disable the input element since further picks are not allowed.\n",
              "  inputElement.disabled = true;\n",
              "\n",
              "  if (!files) {\n",
              "    return {\n",
              "      response: {\n",
              "        action: 'complete',\n",
              "      }\n",
              "    };\n",
              "  }\n",
              "\n",
              "  for (const file of files) {\n",
              "    const li = document.createElement('li');\n",
              "    li.append(span(file.name, {fontWeight: 'bold'}));\n",
              "    li.append(span(\n",
              "        `(${file.type || 'n/a'}) - ${file.size} bytes, ` +\n",
              "        `last modified: ${\n",
              "            file.lastModifiedDate ? file.lastModifiedDate.toLocaleDateString() :\n",
              "                                    'n/a'} - `));\n",
              "    const percent = span('0% done');\n",
              "    li.appendChild(percent);\n",
              "\n",
              "    outputElement.appendChild(li);\n",
              "\n",
              "    const fileDataPromise = new Promise((resolve) => {\n",
              "      const reader = new FileReader();\n",
              "      reader.onload = (e) => {\n",
              "        resolve(e.target.result);\n",
              "      };\n",
              "      reader.readAsArrayBuffer(file);\n",
              "    });\n",
              "    // Wait for the data to be ready.\n",
              "    let fileData = yield {\n",
              "      promise: fileDataPromise,\n",
              "      response: {\n",
              "        action: 'continue',\n",
              "      }\n",
              "    };\n",
              "\n",
              "    // Use a chunked sending to avoid message size limits. See b/62115660.\n",
              "    let position = 0;\n",
              "    do {\n",
              "      const length = Math.min(fileData.byteLength - position, MAX_PAYLOAD_SIZE);\n",
              "      const chunk = new Uint8Array(fileData, position, length);\n",
              "      position += length;\n",
              "\n",
              "      const base64 = btoa(String.fromCharCode.apply(null, chunk));\n",
              "      yield {\n",
              "        response: {\n",
              "          action: 'append',\n",
              "          file: file.name,\n",
              "          data: base64,\n",
              "        },\n",
              "      };\n",
              "\n",
              "      let percentDone = fileData.byteLength === 0 ?\n",
              "          100 :\n",
              "          Math.round((position / fileData.byteLength) * 100);\n",
              "      percent.textContent = `${percentDone}% done`;\n",
              "\n",
              "    } while (position < fileData.byteLength);\n",
              "  }\n",
              "\n",
              "  // All done.\n",
              "  yield {\n",
              "    response: {\n",
              "      action: 'complete',\n",
              "    }\n",
              "  };\n",
              "}\n",
              "\n",
              "scope.google = scope.google || {};\n",
              "scope.google.colab = scope.google.colab || {};\n",
              "scope.google.colab._files = {\n",
              "  _uploadFiles,\n",
              "  _uploadFilesContinue,\n",
              "};\n",
              "})(self);\n",
              "</script> "
            ]
          },
          "metadata": {}
        },
        {
          "output_type": "stream",
          "name": "stdout",
          "text": [
            "Saving 49.png to 49.png\n"
          ]
        },
        {
          "output_type": "display_data",
          "data": {
            "text/plain": [
              "<Figure size 1000x1000 with 0 Axes>"
            ]
          },
          "metadata": {}
        }
      ]
    },
    {
      "cell_type": "code",
      "source": [
        "i=1\n",
        "\n",
        "for fn in uploaded.keys():\n",
        "\n",
        "  # predicting images\n",
        "\n",
        "  path='/content/gdrive/MyDrive/Colab Notebooks/Spine_Dataset/' + fn\n",
        "  img=tf.keras.utils.load_img(path, color_mode='rgb',target_size=(224, 224))\n",
        "\n",
        "  plt.subplot(1,2,i)\n",
        "\n",
        "  plt.imshow(img,cmap='gray',label=fn)\n",
        "  plt.axis('off')\n",
        "\n",
        "  i+=1\n",
        "\n",
        "  x=image.img_to_array(img)\n",
        "  print(f\"The shape is {x.shape}\")\n",
        "  x=np.expand_dims(x, axis=0)\n",
        "  images = np.vstack([x])\n",
        "\n",
        "  classes = model.predict(images,batch_size=16)\n",
        "  #print(classes)\n",
        "\n",
        "values = classes[0].tolist()\n",
        "ind = values.index(max(values)) + 1\n",
        "if(ind==1):\n",
        "  print('The uploaded image of spine belongs to the class FILOPODIA')\n",
        "elif(ind==2):\n",
        "  print('The uploaded image of spine belongs to the class MUSHROOM')\n",
        "elif(ind==3):\n",
        "  print('The uploaded image of spine belongs to the class STUBBY')\n",
        "elif(ind==4):\n",
        "  print('The uploaded image of spine belongs to the class THIN')"
      ],
      "metadata": {
        "id": "QHHyRresVgu7",
        "colab": {
          "base_uri": "https://localhost:8080/",
          "height": 316
        },
        "outputId": "3fcadbdf-f0be-4451-b42f-cd8fa329f586"
      },
      "execution_count": null,
      "outputs": [
        {
          "output_type": "stream",
          "name": "stdout",
          "text": [
            "The shape is (224, 224, 3)\n",
            "1/1 [==============================] - 6s 6s/step\n",
            "The uploaded image of spine belongs to the class THIN\n"
          ]
        },
        {
          "output_type": "display_data",
          "data": {
            "text/plain": [
              "<Figure size 640x480 with 1 Axes>"
            ],
            "image/png": "[encoded data removed]"
          },
          "metadata": {}
        }
      ]
    },
    {
      "cell_type": "code",
      "source": [
        "model.save(filepath=\"/content/gdrive/MyDrive/Colab Notebooks/ResNet-152_model/ResNet152_spine.h5\", overwrite=True)\n",
        "print('Model Saved in hdf5 format')"
      ],
      "metadata": {
        "colab": {
          "base_uri": "https://localhost:8080/"
        },
        "id": "ED-yP9PTESI1",
        "outputId": "16fc3b19-6552-4411-fb6f-12dfa5bf678d"
      },
      "execution_count": null,
      "outputs": [
        {
          "output_type": "stream",
          "name": "stderr",
          "text": [
            "/usr/local/lib/python3.10/dist-packages/keras/src/engine/training.py:3103: UserWarning: You are saving your model as an HDF5 file via `model.save()`. This file format is considered legacy. We recommend using instead the native Keras format, e.g. `model.save('my_model.keras')`.\n",
            "  saving_api.save_model(\n"
          ]
        },
        {
          "output_type": "stream",
          "name": "stdout",
          "text": [
            "Model Saved in hdf5 format\n"
          ]
        }
      ]
    }
  ]
}