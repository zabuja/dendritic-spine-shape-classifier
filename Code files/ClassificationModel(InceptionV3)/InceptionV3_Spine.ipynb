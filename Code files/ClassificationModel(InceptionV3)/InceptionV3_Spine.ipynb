{
  "nbformat": 4,
  "nbformat_minor": 0,
  "metadata": {
    "colab": {
      "provenance": [],
      "gpuType": "T4"
    },
    "kernelspec": {
      "name": "python3",
      "display_name": "Python 3"
    },
    "language_info": {
      "name": "python"
    },
    "accelerator": "GPU"
  },
  "cells": [
    {
      "cell_type": "markdown",
      "source": [
        "# **Importing necessary libraries for EDA and building the CNN model for multi-class image classification**"
      ],
      "metadata": {
        "id": "fY6xUzyCOoSx"
      }
    },
    {
      "cell_type": "code",
      "source": [
        "import os\n",
        "import tensorflow as tf\n",
        "import matplotlib.pyplot as plt\n",
        "import matplotlib.image as mpimg\n",
        "import numpy as np\n",
        "import pandas as pd\n",
        "import seaborn as sns\n",
        "from keras.models import load_model\n",
        "import tensorflow_hub as hub"
      ],
      "metadata": {
        "id": "lH5aCmcoOV8T"
      },
      "execution_count": 1,
      "outputs": []
    },
    {
      "cell_type": "code",
      "source": [
        "print(tf.__version__)"
      ],
      "metadata": {
        "colab": {
          "base_uri": "https://localhost:8080/"
        },
        "id": "AIpfd3H9OqQw",
        "outputId": "1aedd383-34f9-4819-b84f-73fade28ea8c"
      },
      "execution_count": 2,
      "outputs": [
        {
          "output_type": "stream",
          "name": "stdout",
          "text": [
            "2.15.0\n"
          ]
        }
      ]
    },
    {
      "cell_type": "code",
      "source": [
        "from google.colab import drive\n",
        "drive.mount('/content/gdrive')"
      ],
      "metadata": {
        "colab": {
          "base_uri": "https://localhost:8080/"
        },
        "id": "8ii5j8ixOsjI",
        "outputId": "3d7930e0-25f8-483b-c92c-e89fda96b532"
      },
      "execution_count": 3,
      "outputs": [
        {
          "output_type": "stream",
          "name": "stdout",
          "text": [
            "Mounted at /content/gdrive\n"
          ]
        }
      ]
    },
    {
      "cell_type": "code",
      "source": [
        "%cd /content/gdrive/MyDrive/Colab Notebooks/Dataset_spines"
      ],
      "metadata": {
        "colab": {
          "base_uri": "https://localhost:8080/"
        },
        "id": "0FXd1oEuOuAT",
        "outputId": "0165e918-2376-4040-e15d-c0f02fb9016c"
      },
      "execution_count": 4,
      "outputs": [
        {
          "output_type": "stream",
          "name": "stdout",
          "text": [
            "/content/gdrive/MyDrive/Colab Notebooks/Dataset_spines\n"
          ]
        }
      ]
    },
    {
      "cell_type": "code",
      "source": [
        "!ls"
      ],
      "metadata": {
        "colab": {
          "base_uri": "https://localhost:8080/"
        },
        "id": "RaCVkqrGO0Nb",
        "outputId": "644e1f92-9776-4321-c8f1-81e9edd1dede"
      },
      "execution_count": 5,
      "outputs": [
        {
          "output_type": "stream",
          "name": "stdout",
          "text": [
            "filopodia  mushroom  stubby  thin\n"
          ]
        }
      ]
    },
    {
      "cell_type": "code",
      "source": [
        "np.random.seed(101)"
      ],
      "metadata": {
        "id": "WUfc78fBO2C1"
      },
      "execution_count": 6,
      "outputs": []
    },
    {
      "cell_type": "markdown",
      "source": [
        "## **Working with Validation and training data**"
      ],
      "metadata": {
        "id": "gSzg3qPzO49R"
      }
    },
    {
      "cell_type": "code",
      "source": [
        "%cd '/content/gdrive/MyDrive/Colab Notebooks/Spine_Dataset'"
      ],
      "metadata": {
        "colab": {
          "base_uri": "https://localhost:8080/"
        },
        "id": "UAorfFaAO5RQ",
        "outputId": "6b578484-f9c7-433f-9940-892d5aabe5f5"
      },
      "execution_count": 7,
      "outputs": [
        {
          "output_type": "stream",
          "name": "stdout",
          "text": [
            "/content/gdrive/MyDrive/Colab Notebooks/Spine_Dataset\n"
          ]
        }
      ]
    },
    {
      "cell_type": "code",
      "source": [
        "!pwd"
      ],
      "metadata": {
        "colab": {
          "base_uri": "https://localhost:8080/"
        },
        "id": "SgRzJG9vO6jo",
        "outputId": "3a92b334-ff30-4117-95d4-f15809b6df4b"
      },
      "execution_count": 8,
      "outputs": [
        {
          "output_type": "stream",
          "name": "stdout",
          "text": [
            "/content/gdrive/MyDrive/Colab Notebooks/Spine_Dataset\n"
          ]
        }
      ]
    },
    {
      "cell_type": "code",
      "source": [
        "!ls"
      ],
      "metadata": {
        "colab": {
          "base_uri": "https://localhost:8080/"
        },
        "id": "hCGtYbWIO79T",
        "outputId": "bcd394c1-fd4c-4c2c-bba0-2f30864fa222"
      },
      "execution_count": 9,
      "outputs": [
        {
          "output_type": "stream",
          "name": "stdout",
          "text": [
            "MobileNet_spine_categorizer.keras  Spine_Categorizer_InceptionV3.keras\ttrain  val\n"
          ]
        }
      ]
    },
    {
      "cell_type": "markdown",
      "source": [
        "### **Getting the class names programatically**"
      ],
      "metadata": {
        "id": "ISJa3XKnPCa4"
      }
    },
    {
      "cell_type": "code",
      "source": [
        "import pathlib\n",
        "data_dir = pathlib.Path('/content/gdrive/MyDrive/Colab Notebooks/Spine_Dataset/train')\n",
        "\n",
        "\n",
        "#Create a list of class names from the subdirectory\n",
        "class_names = np.array(sorted([item.name for item in data_dir.glob('*')]))\n",
        "print(class_names)"
      ],
      "metadata": {
        "colab": {
          "base_uri": "https://localhost:8080/"
        },
        "id": "X-pv8PTfPCvQ",
        "outputId": "639af26f-97c1-4ef2-fc1c-2c8c8e055ef6"
      },
      "execution_count": 10,
      "outputs": [
        {
          "output_type": "stream",
          "name": "stdout",
          "text": [
            "['filopodia' 'mushroom' 'stubby' 'thin']\n"
          ]
        }
      ]
    },
    {
      "cell_type": "markdown",
      "source": [
        "## **Visualizing the Images**"
      ],
      "metadata": {
        "id": "6y3U3O9JPF65"
      }
    },
    {
      "cell_type": "code",
      "source": [
        "## Using helper function to view random images\n",
        "\n",
        "import random\n",
        "\n",
        "def view_random_image(target_dir, target_class):\n",
        "\n",
        "  #Setting up the target directory(we'll view images from here)\n",
        "  target_folder = target_dir + target_class\n",
        "\n",
        "  # Getting a random image path\n",
        "  random_image = random.sample(os.listdir(target_folder), 1)\n",
        "  print(random_image)\n",
        "\n",
        "  # Reading image and displaying using matplotlib\n",
        "  img = mpimg.imread(target_folder + \"/\" + random_image[0])\n",
        "  plt.imshow(img, cmap='gray')\n",
        "  plt.title(target_class)\n",
        "  plt.axis('off')\n",
        "\n",
        "  print(f'Image shape: {img.shape}') # Showing the size of image\n",
        "\n",
        "  return img"
      ],
      "metadata": {
        "id": "EomYwAwoPGME"
      },
      "execution_count": 11,
      "outputs": []
    },
    {
      "cell_type": "code",
      "source": [
        "# Viewing random Mushroom spine image\n",
        "\n",
        "target_directory_for_images = '/content/gdrive/MyDrive/Colab Notebooks/Spine_Dataset/train/'\n",
        "target_class_of_image = 'mushroom'\n",
        "\n",
        "img_class2 = view_random_image(target_dir = target_directory_for_images,\n",
        "                        target_class = target_class_of_image)"
      ],
      "metadata": {
        "colab": {
          "base_uri": "https://localhost:8080/",
          "height": 464
        },
        "id": "RcsCAiTVO9qT",
        "outputId": "122c6dd0-b123-47da-f991-ff9e06f6e9b6"
      },
      "execution_count": 12,
      "outputs": [
        {
          "output_type": "stream",
          "name": "stdout",
          "text": [
            "['Mushroom 92.jpg']\n",
            "Image shape: (250, 250)\n"
          ]
        },
        {
          "output_type": "display_data",
          "data": {
            "text/plain": [
              "<Figure size 640x480 with 1 Axes>"
            ],
            "image/png": "[encoded data removed]"
          },
          "metadata": {}
        }
      ]
    },
    {
      "cell_type": "code",
      "source": [
        "# Viewing random Stubby spine image\n",
        "\n",
        "target_directory_for_images = '/content/gdrive/MyDrive/Colab Notebooks/Spine_Dataset/train/'\n",
        "target_class_of_image = 'stubby'\n",
        "\n",
        "img_class3 = view_random_image(target_dir = target_directory_for_images,\n",
        "                        target_class = target_class_of_image)"
      ],
      "metadata": {
        "colab": {
          "base_uri": "https://localhost:8080/",
          "height": 464
        },
        "id": "G30oSPMKPKpJ",
        "outputId": "3060e1f7-1525-408e-b57e-6fee2d70ff90"
      },
      "execution_count": 13,
      "outputs": [
        {
          "output_type": "stream",
          "name": "stdout",
          "text": [
            "['Stubby 98.jpg']\n",
            "Image shape: (250, 250)\n"
          ]
        },
        {
          "output_type": "display_data",
          "data": {
            "text/plain": [
              "<Figure size 640x480 with 1 Axes>"
            ],
            "image/png": "[encoded data removed]"
          },
          "metadata": {}
        }
      ]
    },
    {
      "cell_type": "code",
      "source": [
        "# Viewing random Filopodia spine image\n",
        "\n",
        "target_directory_for_images = '/content/gdrive/MyDrive/Colab Notebooks/Spine_Dataset/train/'\n",
        "target_class_of_image = 'filopodia'\n",
        "\n",
        "img_class1 = view_random_image(target_dir = target_directory_for_images,\n",
        "                        target_class = target_class_of_image)"
      ],
      "metadata": {
        "colab": {
          "base_uri": "https://localhost:8080/",
          "height": 464
        },
        "id": "4s-A65mxPMoK",
        "outputId": "1c775a0f-cb0a-412c-988a-236844b1c490"
      },
      "execution_count": 14,
      "outputs": [
        {
          "output_type": "stream",
          "name": "stdout",
          "text": [
            "['filopodiaimage005.png']\n",
            "Image shape: (285, 295, 3)\n"
          ]
        },
        {
          "output_type": "display_data",
          "data": {
            "text/plain": [
              "<Figure size 640x480 with 1 Axes>"
            ],
            "image/png": "[encoded data removed]"
          },
          "metadata": {}
        }
      ]
    },
    {
      "cell_type": "code",
      "source": [
        "# Viewing random Thin spine image\n",
        "\n",
        "target_directory_for_images = '/content/gdrive/MyDrive/Colab Notebooks/Spine_Dataset/train/'\n",
        "target_class_of_image = 'thin'\n",
        "\n",
        "img_class4 = view_random_image(target_dir = target_directory_for_images,\n",
        "                        target_class = target_class_of_image)"
      ],
      "metadata": {
        "colab": {
          "base_uri": "https://localhost:8080/",
          "height": 386
        },
        "id": "G8mw7bMnPOEz",
        "outputId": "f82f92ce-2e29-47d0-b769-04c29460b995"
      },
      "execution_count": 15,
      "outputs": [
        {
          "output_type": "stream",
          "name": "stdout",
          "text": [
            "['Thin 19.jpg']\n",
            "Image shape: (692, 1177, 3)\n"
          ]
        },
        {
          "output_type": "display_data",
          "data": {
            "text/plain": [
              "<Figure size 640x480 with 1 Axes>"
            ],
            "image/png": "[encoded data removed]"
          },
          "metadata": {}
        }
      ]
    },
    {
      "cell_type": "code",
      "source": [
        "img_class1.shape, img_class2.shape, img_class3.shape, img_class4.shape"
      ],
      "metadata": {
        "colab": {
          "base_uri": "https://localhost:8080/"
        },
        "id": "g-1YFHk_PQE_",
        "outputId": "0f4718df-ab52-4cd0-9a9a-c1c42b911684"
      },
      "execution_count": 16,
      "outputs": [
        {
          "output_type": "execute_result",
          "data": {
            "text/plain": [
              "((285, 295, 3), (250, 250), (250, 250), (692, 1177, 3))"
            ]
          },
          "metadata": {},
          "execution_count": 16
        }
      ]
    },
    {
      "cell_type": "markdown",
      "source": [
        "### **Normalizing our data according to the mean dimension of the images present in the training folder**"
      ],
      "metadata": {
        "id": "1oJURXqoPbUJ"
      }
    },
    {
      "cell_type": "code",
      "source": [
        "## Setting training, validation and testing directories\n",
        "\n",
        "train_path = '/content/gdrive/MyDrive/Colab Notebooks/Spine_Dataset/train/'\n",
        "val_path = '/content/gdrive/MyDrive/Colab Notebooks/Spine_Dataset/val/'"
      ],
      "metadata": {
        "id": "z_BaZT0APbmb"
      },
      "execution_count": 17,
      "outputs": []
    },
    {
      "cell_type": "code",
      "source": [
        "class_names,class_names[0], type(class_names[0])"
      ],
      "metadata": {
        "colab": {
          "base_uri": "https://localhost:8080/"
        },
        "id": "XSoV13_VPYdw",
        "outputId": "9f85ad2a-9fcd-4928-fbd8-4b974eff3546"
      },
      "execution_count": 18,
      "outputs": [
        {
          "output_type": "execute_result",
          "data": {
            "text/plain": [
              "(array(['filopodia', 'mushroom', 'stubby', 'thin'], dtype='<U9'),\n",
              " 'filopodia',\n",
              " numpy.str_)"
            ]
          },
          "metadata": {},
          "execution_count": 18
        }
      ]
    },
    {
      "cell_type": "markdown",
      "source": [
        "## **Augmenting images and compiling the model**\n",
        "#### ***Changing image dimension to (224,224) for matching MobileNetV2 expected input dimesnions***"
      ],
      "metadata": {
        "id": "AudW1_L4Pj7J"
      }
    },
    {
      "cell_type": "code",
      "source": [
        "from tensorflow.keras.preprocessing.image import ImageDataGenerator"
      ],
      "metadata": {
        "id": "lRD0HZR9PkQv"
      },
      "execution_count": 19,
      "outputs": []
    },
    {
      "cell_type": "code",
      "source": [
        "image_size = (224,224)\n",
        "\n",
        "datagen = ImageDataGenerator(\n",
        "    rotation_range=20,\n",
        "    width_shift_range=0.10, # Shift the pic width by a max of 5%\n",
        "    height_shift_range=0.10, # Shift the pic height by a max of 5%\n",
        "    rescale=1/255, # Rescale the image by normalzing it.\n",
        "    shear_range=0.1, # Shear means cutting away part of the image (max 10%)\n",
        "    zoom_range=0.1, # Zoom in by 10% max\n",
        "    horizontal_flip=True, # Allow horizontal flipping\n",
        "    fill_mode='nearest' # Fill in missing pixels with the nearest filled value\n",
        ")\n",
        "\n",
        "train_gen = datagen.flow_from_directory(\n",
        "    train_path,\n",
        "    target_size=image_size,\n",
        "    batch_size=32,\n",
        "    color_mode='rgb',\n",
        "    class_mode='categorical'\n",
        ")\n",
        "\n",
        "validation_gen = datagen.flow_from_directory(\n",
        "    val_path,\n",
        "    target_size=image_size,\n",
        "    batch_size=32,\n",
        "    color_mode='rgb',\n",
        "    class_mode='categorical',\n",
        "    shuffle=False,\n",
        ")"
      ],
      "metadata": {
        "colab": {
          "base_uri": "https://localhost:8080/"
        },
        "id": "7e4J241vPl2E",
        "outputId": "0e9cd502-67a2-40ab-fcbf-1a976fcafd43"
      },
      "execution_count": 20,
      "outputs": [
        {
          "output_type": "stream",
          "name": "stdout",
          "text": [
            "Found 443 images belonging to 4 classes.\n",
            "Found 112 images belonging to 4 classes.\n"
          ]
        }
      ]
    },
    {
      "cell_type": "markdown",
      "source": [
        "#### **Labels for the classes (Which class indicates which index)**"
      ],
      "metadata": {
        "id": "BAUH8dGvPxpw"
      }
    },
    {
      "cell_type": "code",
      "source": [
        "train_gen.class_indices"
      ],
      "metadata": {
        "colab": {
          "base_uri": "https://localhost:8080/"
        },
        "id": "ma2-qoCwPx84",
        "outputId": "c9324d0b-457e-435b-a4bf-eb3a5afccaa3"
      },
      "execution_count": 21,
      "outputs": [
        {
          "output_type": "execute_result",
          "data": {
            "text/plain": [
              "{'filopodia': 0, 'mushroom': 1, 'stubby': 2, 'thin': 3}"
            ]
          },
          "metadata": {},
          "execution_count": 21
        }
      ]
    },
    {
      "cell_type": "code",
      "source": [
        "validation_gen.class_indices"
      ],
      "metadata": {
        "colab": {
          "base_uri": "https://localhost:8080/"
        },
        "id": "2mzZ82SVPzGK",
        "outputId": "e164f468-94f9-4727-bb24-cb1d14a3bd36"
      },
      "execution_count": 22,
      "outputs": [
        {
          "output_type": "execute_result",
          "data": {
            "text/plain": [
              "{'filopodia': 0, 'mushroom': 1, 'stubby': 2, 'thin': 3}"
            ]
          },
          "metadata": {},
          "execution_count": 22
        }
      ]
    },
    {
      "cell_type": "markdown",
      "source": [
        "## **Creating base model from pretrained InceptionV3 instance using TFHub**"
      ],
      "metadata": {
        "id": "jSFzx0x5P1kZ"
      }
    },
    {
      "cell_type": "code",
      "source": [
        "inception_v3 =\"https://tfhub.dev/google/imagenet/inception_v3/feature_vector/4\""
      ],
      "metadata": {
        "id": "Y_CBqauhP3aC"
      },
      "execution_count": 23,
      "outputs": []
    },
    {
      "cell_type": "markdown",
      "source": [
        "### ***Build the classification model***"
      ],
      "metadata": {
        "id": "usiDqXs6QLP4"
      }
    },
    {
      "cell_type": "code",
      "source": [
        "from tensorflow.keras import metrics"
      ],
      "metadata": {
        "id": "_bHwjpSnJtM1"
      },
      "execution_count": 25,
      "outputs": []
    },
    {
      "cell_type": "code",
      "source": [
        "## Implementing distributed training with multiple GPUs for faster training\n",
        "\n",
        "mirrored_strategy = tf.distribute.MirroredStrategy()\n",
        "\n",
        "with mirrored_strategy.scope():\n",
        "  base_model = hub.KerasLayer(inception_v3, input_shape=(224, 224, 3), trainable=False)\n",
        "  model = tf.keras.Sequential([\n",
        "      base_model,\n",
        "      tf.keras.layers.Dense(1024, activation='relu'),\n",
        "      tf.keras.layers.Dense(4, activation='softmax')  # 4 categories\n",
        "  ])\n",
        "  model.compile(optimizer='adam', loss='categorical_crossentropy', metrics=[metrics.CategoricalAccuracy(), metrics.Precision(), metrics.Recall()])\n"
      ],
      "metadata": {
        "id": "rPjcttSiQISG"
      },
      "execution_count": 27,
      "outputs": []
    },
    {
      "cell_type": "code",
      "source": [
        "# Summarizing the Model\n",
        "model.summary()"
      ],
      "metadata": {
        "colab": {
          "base_uri": "https://localhost:8080/"
        },
        "id": "hlKigKFjQRkv",
        "outputId": "3fcf12c2-65f2-40dd-ee5f-4613360ac800"
      },
      "execution_count": 28,
      "outputs": [
        {
          "output_type": "stream",
          "name": "stdout",
          "text": [
            "Model: \"sequential_2\"\n",
            "_________________________________________________________________\n",
            " Layer (type)                Output Shape              Param #   \n",
            "=================================================================\n",
            " keras_layer_2 (KerasLayer)  (None, 2048)              21802784  \n",
            "                                                                 \n",
            " dense_4 (Dense)             (None, 1024)              2098176   \n",
            "                                                                 \n",
            " dense_5 (Dense)             (None, 4)                 4100      \n",
            "                                                                 \n",
            "=================================================================\n",
            "Total params: 23905060 (91.19 MB)\n",
            "Trainable params: 2102276 (8.02 MB)\n",
            "Non-trainable params: 21802784 (83.17 MB)\n",
            "_________________________________________________________________\n"
          ]
        }
      ]
    },
    {
      "cell_type": "code",
      "source": [
        "## Fitting the model\n",
        "\n",
        "model_history = model.fit(train_gen, epochs=20, validation_data=validation_gen)"
      ],
      "metadata": {
        "colab": {
          "base_uri": "https://localhost:8080/"
        },
        "id": "CgLDwv4AQcUU",
        "outputId": "22f0fd8a-7cd5-422b-c153-ade9b129afcf"
      },
      "execution_count": 29,
      "outputs": [
        {
          "output_type": "stream",
          "name": "stdout",
          "text": [
            "Epoch 1/20\n",
            "14/14 [==============================] - 274s 19s/step - loss: 1.4885 - categorical_accuracy: 0.6411 - precision: 0.6574 - recall: 0.5847 - val_loss: 0.5178 - val_categorical_accuracy: 0.8036 - val_precision: 0.8165 - val_recall: 0.7946\n",
            "Epoch 2/20\n",
            "14/14 [==============================] - 12s 887ms/step - loss: 0.5359 - categorical_accuracy: 0.8600 - precision: 0.8716 - recall: 0.8578 - val_loss: 0.3333 - val_categorical_accuracy: 0.8839 - val_precision: 0.8839 - val_recall: 0.8839\n",
            "Epoch 3/20\n",
            "14/14 [==============================] - 9s 683ms/step - loss: 0.3188 - categorical_accuracy: 0.8894 - precision: 0.9032 - recall: 0.8849 - val_loss: 0.1891 - val_categorical_accuracy: 0.9107 - val_precision: 0.9189 - val_recall: 0.9107\n",
            "Epoch 4/20\n",
            "14/14 [==============================] - 9s 629ms/step - loss: 0.2437 - categorical_accuracy: 0.9120 - precision: 0.9180 - recall: 0.9097 - val_loss: 0.2379 - val_categorical_accuracy: 0.9107 - val_precision: 0.9189 - val_recall: 0.9107\n",
            "Epoch 5/20\n",
            "14/14 [==============================] - 10s 746ms/step - loss: 0.2657 - categorical_accuracy: 0.9029 - precision: 0.9043 - recall: 0.8962 - val_loss: 0.2833 - val_categorical_accuracy: 0.8839 - val_precision: 0.8991 - val_recall: 0.8750\n",
            "Epoch 6/20\n",
            "14/14 [==============================] - 12s 874ms/step - loss: 0.2400 - categorical_accuracy: 0.9210 - precision: 0.9227 - recall: 0.9165 - val_loss: 0.1771 - val_categorical_accuracy: 0.9107 - val_precision: 0.9099 - val_recall: 0.9018\n",
            "Epoch 7/20\n",
            "14/14 [==============================] - 9s 685ms/step - loss: 0.2078 - categorical_accuracy: 0.9300 - precision: 0.9321 - recall: 0.9300 - val_loss: 0.2183 - val_categorical_accuracy: 0.9196 - val_precision: 0.9196 - val_recall: 0.9196\n",
            "Epoch 8/20\n",
            "14/14 [==============================] - 10s 674ms/step - loss: 0.1947 - categorical_accuracy: 0.9368 - precision: 0.9408 - recall: 0.9323 - val_loss: 0.2115 - val_categorical_accuracy: 0.9018 - val_precision: 0.9018 - val_recall: 0.9018\n",
            "Epoch 9/20\n",
            "14/14 [==============================] - 10s 740ms/step - loss: 0.1894 - categorical_accuracy: 0.9345 - precision: 0.9344 - recall: 0.9323 - val_loss: 0.1928 - val_categorical_accuracy: 0.9375 - val_precision: 0.9545 - val_recall: 0.9375\n",
            "Epoch 10/20\n",
            "14/14 [==============================] - 12s 875ms/step - loss: 0.1845 - categorical_accuracy: 0.9255 - precision: 0.9273 - recall: 0.9210 - val_loss: 0.1902 - val_categorical_accuracy: 0.9375 - val_precision: 0.9459 - val_recall: 0.9375\n",
            "Epoch 11/20\n",
            "14/14 [==============================] - 9s 678ms/step - loss: 0.1844 - categorical_accuracy: 0.9278 - precision: 0.9276 - recall: 0.9255 - val_loss: 0.2776 - val_categorical_accuracy: 0.8839 - val_precision: 0.8839 - val_recall: 0.8839\n",
            "Epoch 12/20\n",
            "14/14 [==============================] - 10s 672ms/step - loss: 0.1735 - categorical_accuracy: 0.9300 - precision: 0.9384 - recall: 0.9278 - val_loss: 0.2130 - val_categorical_accuracy: 0.9196 - val_precision: 0.9279 - val_recall: 0.9196\n",
            "Epoch 13/20\n",
            "14/14 [==============================] - 10s 735ms/step - loss: 0.2050 - categorical_accuracy: 0.9210 - precision: 0.9294 - recall: 0.9210 - val_loss: 0.1779 - val_categorical_accuracy: 0.9196 - val_precision: 0.9279 - val_recall: 0.9196\n",
            "Epoch 14/20\n",
            "14/14 [==============================] - 10s 709ms/step - loss: 0.2107 - categorical_accuracy: 0.9255 - precision: 0.9252 - recall: 0.9210 - val_loss: 0.2029 - val_categorical_accuracy: 0.9286 - val_precision: 0.9286 - val_recall: 0.9286\n",
            "Epoch 15/20\n",
            "14/14 [==============================] - 9s 634ms/step - loss: 0.1742 - categorical_accuracy: 0.9300 - precision: 0.9321 - recall: 0.9300 - val_loss: 0.2219 - val_categorical_accuracy: 0.9018 - val_precision: 0.9091 - val_recall: 0.8929\n",
            "Epoch 16/20\n",
            "14/14 [==============================] - 10s 757ms/step - loss: 0.1784 - categorical_accuracy: 0.9210 - precision: 0.9231 - recall: 0.9210 - val_loss: 0.2254 - val_categorical_accuracy: 0.9107 - val_precision: 0.9189 - val_recall: 0.9107\n",
            "Epoch 17/20\n",
            "14/14 [==============================] - 12s 900ms/step - loss: 0.1406 - categorical_accuracy: 0.9503 - precision: 0.9545 - recall: 0.9481 - val_loss: 0.2237 - val_categorical_accuracy: 0.8839 - val_precision: 0.8839 - val_recall: 0.8839\n",
            "Epoch 18/20\n",
            "14/14 [==============================] - 9s 675ms/step - loss: 0.1735 - categorical_accuracy: 0.9368 - precision: 0.9367 - recall: 0.9345 - val_loss: 0.2595 - val_categorical_accuracy: 0.8929 - val_precision: 0.9009 - val_recall: 0.8929\n",
            "Epoch 19/20\n",
            "14/14 [==============================] - 9s 632ms/step - loss: 0.1887 - categorical_accuracy: 0.9345 - precision: 0.9406 - recall: 0.9300 - val_loss: 0.1904 - val_categorical_accuracy: 0.9375 - val_precision: 0.9375 - val_recall: 0.9375\n",
            "Epoch 20/20\n",
            "14/14 [==============================] - 10s 743ms/step - loss: 0.1855 - categorical_accuracy: 0.9300 - precision: 0.9342 - recall: 0.9300 - val_loss: 0.1755 - val_categorical_accuracy: 0.9464 - val_precision: 0.9464 - val_recall: 0.9464\n"
          ]
        }
      ]
    },
    {
      "cell_type": "code",
      "source": [
        "#Plotting loss per iteration\n",
        "\n",
        "plt.plot(model_history.history['loss'],label='loss')\n",
        "plt.plot(model_history.history['val_loss'], label = 'validation_loss')\n",
        "plt.legend()"
      ],
      "metadata": {
        "colab": {
          "base_uri": "https://localhost:8080/",
          "height": 448
        },
        "id": "L3Tw2sqIQez-",
        "outputId": "a4dbe0fa-311c-475f-dc62-bc82a4dd0937"
      },
      "execution_count": 32,
      "outputs": [
        {
          "output_type": "execute_result",
          "data": {
            "text/plain": [
              "<matplotlib.legend.Legend at 0x7fc2221b45b0>"
            ]
          },
          "metadata": {},
          "execution_count": 32
        },
        {
          "output_type": "display_data",
          "data": {
            "text/plain": [
              "<Figure size 640x480 with 1 Axes>"
            ],
            "image/png": "[encoded data removed]"
          },
          "metadata": {}
        }
      ]
    },
    {
      "cell_type": "code",
      "source": [
        "#Plotting accuracy per iteration\n",
        "\n",
        "plt.plot(model_history.history['categorical_accuracy'],label='accuracy')\n",
        "plt.plot(model_history.history['val_categorical_accuracy'], label = 'validation_accuracy')\n",
        "plt.legend()\n"
      ],
      "metadata": {
        "colab": {
          "base_uri": "https://localhost:8080/",
          "height": 448
        },
        "id": "LnE4CHjBQDzN",
        "outputId": "67ab92dd-7b4c-48a7-dcf8-71dd979dbf65"
      },
      "execution_count": 34,
      "outputs": [
        {
          "output_type": "execute_result",
          "data": {
            "text/plain": [
              "<matplotlib.legend.Legend at 0x7fc29c3e83d0>"
            ]
          },
          "metadata": {},
          "execution_count": 34
        },
        {
          "output_type": "display_data",
          "data": {
            "text/plain": [
              "<Figure size 640x480 with 1 Axes>"
            ],
            "image/png": "[encoded data removed]"
          },
          "metadata": {}
        }
      ]
    },
    {
      "cell_type": "code",
      "source": [
        "## Evaluating our model\n",
        "\n",
        "print(model.evaluate(validation_gen))"
      ],
      "metadata": {
        "colab": {
          "base_uri": "https://localhost:8080/"
        },
        "id": "3WODtalkPuWS",
        "outputId": "3d8a6f08-3ab5-4c6b-9170-28b3ada848a1"
      },
      "execution_count": 35,
      "outputs": [
        {
          "output_type": "stream",
          "name": "stdout",
          "text": [
            "4/4 [==============================] - 3s 629ms/step - loss: 0.1710 - categorical_accuracy: 0.9554 - precision: 0.9554 - recall: 0.9554\n",
            "[0.17100103199481964, 0.9553571343421936, 0.9553571343421936, 0.9553571343421936]\n"
          ]
        }
      ]
    },
    {
      "cell_type": "code",
      "source": [
        "# Get the evaluation results\n",
        "eval_results = model.evaluate(validation_gen)\n",
        "\n",
        "# Extract the precision and recall values\n",
        "precision = eval_results[2]\n",
        "recall = eval_results[3]\n",
        "\n",
        "# Calculate F1 score\n",
        "f1_score = 2 * (precision * recall) / (precision + recall)\n",
        "\n",
        "print(\"F1 Score: \", f1_score)\n"
      ],
      "metadata": {
        "colab": {
          "base_uri": "https://localhost:8080/"
        },
        "id": "NHSCVw54O4kX",
        "outputId": "4a48c948-5fb0-4c1f-fcc4-b741b8252e1b"
      },
      "execution_count": 49,
      "outputs": [
        {
          "output_type": "stream",
          "name": "stdout",
          "text": [
            "4/4 [==============================] - 2s 372ms/step - loss: 0.1906 - categorical_accuracy: 0.9464 - precision: 0.9545 - recall: 0.9375\n",
            "F1 Score:  0.9459459379638289\n"
          ]
        }
      ]
    },
    {
      "cell_type": "markdown",
      "source": [
        "## **Testing and predicting custom images**"
      ],
      "metadata": {
        "id": "El4NzwhmUM5G"
      }
    },
    {
      "cell_type": "code",
      "source": [
        "from google.colab import files\n",
        "from tensorflow.keras.preprocessing import image"
      ],
      "metadata": {
        "id": "CJ4Q9crbUNSQ"
      },
      "execution_count": 36,
      "outputs": []
    },
    {
      "cell_type": "code",
      "source": [
        "plt.figure(figsize=(10, 10))\n",
        "\n",
        "uploaded=files.upload()\n"
      ],
      "metadata": {
        "colab": {
          "base_uri": "https://localhost:8080/",
          "height": 91
        },
        "id": "sum6n38CUOmG",
        "outputId": "19fa3fb4-e17b-45ca-db67-f48a44ade655"
      },
      "execution_count": 47,
      "outputs": [
        {
          "output_type": "display_data",
          "data": {
            "text/plain": [
              "<IPython.core.display.HTML object>"
            ],
            "text/html": [
              "\n",
              "     <input type=\"file\" id=\"files-91500a04-c1a7-4aab-a954-0ddff9a3d6c5\" name=\"files[]\" multiple disabled\n",
              "        style=\"border:none\" />\n",
              "     <output id=\"result-91500a04-c1a7-4aab-a954-0ddff9a3d6c5\">\n",
              "      Upload widget is only available when the cell has been executed in the\n",
              "      current browser session. Please rerun this cell to enable.\n",
              "      </output>\n",
              "      <script>// Copyright 2017 Google LLC\n",
              "//\n",
              "// Licensed under the Apache License, Version 2.0 (the \"License\");\n",
              "// you may not use this file except in compliance with the License.\n",
              "// You may obtain a copy of the License at\n",
              "//\n",
              "//      http://www.apache.org/licenses/LICENSE-2.0\n",
              "//\n",
              "// Unless required by applicable law or agreed to in writing, software\n",
              "// distributed under the License is distributed on an \"AS IS\" BASIS,\n",
              "// WITHOUT WARRANTIES OR CONDITIONS OF ANY KIND, either express or implied.\n",
              "// See the License for the specific language governing permissions and\n",
              "// limitations under the License.\n",
              "\n",
              "/**\n",
              " * @fileoverview Helpers for google.colab Python module.\n",
              " */\n",
              "(function(scope) {\n",
              "function span(text, styleAttributes = {}) {\n",
              "  const element = document.createElement('span');\n",
              "  element.textContent = text;\n",
              "  for (const key of Object.keys(styleAttributes)) {\n",
              "    element.style[key] = styleAttributes[key];\n",
              "  }\n",
              "  return element;\n",
              "}\n",
              "\n",
              "// Max number of bytes which will be uploaded at a time.\n",
              "const MAX_PAYLOAD_SIZE = 100 * 1024;\n",
              "\n",
              "function _uploadFiles(inputId, outputId) {\n",
              "  const steps = uploadFilesStep(inputId, outputId);\n",
              "  const outputElement = document.getElementById(outputId);\n",
              "  // Cache steps on the outputElement to make it available for the next call\n",
              "  // to uploadFilesContinue from Python.\n",
              "  outputElement.steps = steps;\n",
              "\n",
              "  return _uploadFilesContinue(outputId);\n",
              "}\n",
              "\n",
              "// This is roughly an async generator (not supported in the browser yet),\n",
              "// where there are multiple asynchronous steps and the Python side is going\n",
              "// to poll for completion of each step.\n",
              "// This uses a Promise to block the python side on completion of each step,\n",
              "// then passes the result of the previous step as the input to the next step.\n",
              "function _uploadFilesContinue(outputId) {\n",
              "  const outputElement = document.getElementById(outputId);\n",
              "  const steps = outputElement.steps;\n",
              "\n",
              "  const next = steps.next(outputElement.lastPromiseValue);\n",
              "  return Promise.resolve(next.value.promise).then((value) => {\n",
              "    // Cache the last promise value to make it available to the next\n",
              "    // step of the generator.\n",
              "    outputElement.lastPromiseValue = value;\n",
              "    return next.value.response;\n",
              "  });\n",
              "}\n",
              "\n",
              "/**\n",
              " * Generator function which is called between each async step of the upload\n",
              " * process.\n",
              " * @param {string} inputId Element ID of the input file picker element.\n",
              " * @param {string} outputId Element ID of the output display.\n",
              " * @return {!Iterable<!Object>} Iterable of next steps.\n",
              " */\n",
              "function* uploadFilesStep(inputId, outputId) {\n",
              "  const inputElement = document.getElementById(inputId);\n",
              "  inputElement.disabled = false;\n",
              "\n",
              "  const outputElement = document.getElementById(outputId);\n",
              "  outputElement.innerHTML = '';\n",
              "\n",
              "  const pickedPromise = new Promise((resolve) => {\n",
              "    inputElement.addEventListener('change', (e) => {\n",
              "      resolve(e.target.files);\n",
              "    });\n",
              "  });\n",
              "\n",
              "  const cancel = document.createElement('button');\n",
              "  inputElement.parentElement.appendChild(cancel);\n",
              "  cancel.textContent = 'Cancel upload';\n",
              "  const cancelPromise = new Promise((resolve) => {\n",
              "    cancel.onclick = () => {\n",
              "      resolve(null);\n",
              "    };\n",
              "  });\n",
              "\n",
              "  // Wait for the user to pick the files.\n",
              "  const files = yield {\n",
              "    promise: Promise.race([pickedPromise, cancelPromise]),\n",
              "    response: {\n",
              "      action: 'starting',\n",
              "    }\n",
              "  };\n",
              "\n",
              "  cancel.remove();\n",
              "\n",
              "  // Disable the input element since further picks are not allowed.\n",
              "  inputElement.disabled = true;\n",
              "\n",
              "  if (!files) {\n",
              "    return {\n",
              "      response: {\n",
              "        action: 'complete',\n",
              "      }\n",
              "    };\n",
              "  }\n",
              "\n",
              "  for (const file of files) {\n",
              "    const li = document.createElement('li');\n",
              "    li.append(span(file.name, {fontWeight: 'bold'}));\n",
              "    li.append(span(\n",
              "        `(${file.type || 'n/a'}) - ${file.size} bytes, ` +\n",
              "        `last modified: ${\n",
              "            file.lastModifiedDate ? file.lastModifiedDate.toLocaleDateString() :\n",
              "                                    'n/a'} - `));\n",
              "    const percent = span('0% done');\n",
              "    li.appendChild(percent);\n",
              "\n",
              "    outputElement.appendChild(li);\n",
              "\n",
              "    const fileDataPromise = new Promise((resolve) => {\n",
              "      const reader = new FileReader();\n",
              "      reader.onload = (e) => {\n",
              "        resolve(e.target.result);\n",
              "      };\n",
              "      reader.readAsArrayBuffer(file);\n",
              "    });\n",
              "    // Wait for the data to be ready.\n",
              "    let fileData = yield {\n",
              "      promise: fileDataPromise,\n",
              "      response: {\n",
              "        action: 'continue',\n",
              "      }\n",
              "    };\n",
              "\n",
              "    // Use a chunked sending to avoid message size limits. See b/62115660.\n",
              "    let position = 0;\n",
              "    do {\n",
              "      const length = Math.min(fileData.byteLength - position, MAX_PAYLOAD_SIZE);\n",
              "      const chunk = new Uint8Array(fileData, position, length);\n",
              "      position += length;\n",
              "\n",
              "      const base64 = btoa(String.fromCharCode.apply(null, chunk));\n",
              "      yield {\n",
              "        response: {\n",
              "          action: 'append',\n",
              "          file: file.name,\n",
              "          data: base64,\n",
              "        },\n",
              "      };\n",
              "\n",
              "      let percentDone = fileData.byteLength === 0 ?\n",
              "          100 :\n",
              "          Math.round((position / fileData.byteLength) * 100);\n",
              "      percent.textContent = `${percentDone}% done`;\n",
              "\n",
              "    } while (position < fileData.byteLength);\n",
              "  }\n",
              "\n",
              "  // All done.\n",
              "  yield {\n",
              "    response: {\n",
              "      action: 'complete',\n",
              "    }\n",
              "  };\n",
              "}\n",
              "\n",
              "scope.google = scope.google || {};\n",
              "scope.google.colab = scope.google.colab || {};\n",
              "scope.google.colab._files = {\n",
              "  _uploadFiles,\n",
              "  _uploadFilesContinue,\n",
              "};\n",
              "})(self);\n",
              "</script> "
            ]
          },
          "metadata": {}
        },
        {
          "output_type": "stream",
          "name": "stdout",
          "text": [
            "Saving filopodiaimage003.png to filopodiaimage003.png\n"
          ]
        },
        {
          "output_type": "display_data",
          "data": {
            "text/plain": [
              "<Figure size 1000x1000 with 0 Axes>"
            ]
          },
          "metadata": {}
        }
      ]
    },
    {
      "cell_type": "code",
      "source": [
        "i=1\n",
        "\n",
        "for fn in uploaded.keys():\n",
        "\n",
        "  # predicting images\n",
        "\n",
        "  path='/content/gdrive/MyDrive/Colab Notebooks/Spine_Dataset/' + fn\n",
        "  img=tf.keras.utils.load_img(path, color_mode='rgb',target_size=(224, 224))\n",
        "\n",
        "  plt.subplot(1,2,i)\n",
        "\n",
        "  plt.imshow(img,cmap='gray',label=fn)\n",
        "  plt.axis('off')\n",
        "\n",
        "  i+=1\n",
        "\n",
        "  x=image.img_to_array(img)\n",
        "  print(f\"The shape is {x.shape}\")\n",
        "  x=np.expand_dims(x, axis=0)\n",
        "  images = np.vstack([x])\n",
        "\n",
        "  classes = model.predict(images,batch_size=16)\n",
        "  #print(classes)\n",
        "\n",
        "values = classes[0].tolist()\n",
        "ind = values.index(max(values)) + 1\n",
        "if(ind==1):\n",
        "  print('The uploaded image of spine belongs to the class FILOPODIA')\n",
        "elif(ind==2):\n",
        "  print('The uploaded image of spine belongs to the class MUSHROOM')\n",
        "elif(ind==3):\n",
        "  print('The uploaded image of spine belongs to the class STUBBY')\n",
        "elif(ind==4):\n",
        "  print('The uploaded image of spine belongs to the class THIN')"
      ],
      "metadata": {
        "colab": {
          "base_uri": "https://localhost:8080/",
          "height": 317
        },
        "id": "9hi__achU2wu",
        "outputId": "63449433-182d-472a-cc4f-29b34c0b8a10"
      },
      "execution_count": 48,
      "outputs": [
        {
          "output_type": "stream",
          "name": "stdout",
          "text": [
            "The shape is (224, 224, 3)\n",
            "1/1 [==============================] - 0s 119ms/step\n",
            "The uploaded image of spine belongs to the class THIN\n"
          ]
        },
        {
          "output_type": "display_data",
          "data": {
            "text/plain": [
              "<Figure size 640x480 with 1 Axes>"
            ],
            "image/png": "[encoded data removed]"
          },
          "metadata": {}
        }
      ]
    },
    {
      "cell_type": "code",
      "source": [
        "model.save(filepath=\"/content/gdrive/MyDrive/Colab Notebooks/Spine_Dataset/Spine_Categorizer_InceptionV3.h5\", overwrite=True, save_format=\"h5\")\n",
        "print('Model Saved')"
      ],
      "metadata": {
        "id": "NpCMyZIHVDC3",
        "colab": {
          "base_uri": "https://localhost:8080/"
        },
        "outputId": "8b59d21c-8dd3-45b3-9c6a-c47e2a84bbf7"
      },
      "execution_count": null,
      "outputs": [
        {
          "output_type": "stream",
          "name": "stderr",
          "text": [
            "/usr/local/lib/python3.10/dist-packages/keras/src/engine/training.py:3103: UserWarning: You are saving your model as an HDF5 file via `model.save()`. This file format is considered legacy. We recommend using instead the native Keras format, e.g. `model.save('my_model.keras')`.\n",
            "  saving_api.save_model(\n"
          ]
        },
        {
          "output_type": "stream",
          "name": "stdout",
          "text": [
            "Model Saved\n"
          ]
        }
      ]
    },
    {
      "cell_type": "code",
      "source": [
        "model.save(filepath=\"/content/gdrive/MyDrive/Colab Notebooks/Spine_Dataset/InceptionV3_spine_categorizer.keras\", overwrite=True, save_format=\"keras\")\n",
        "print('Model Saved')"
      ],
      "metadata": {
        "id": "ofqJM4pdWZTl"
      },
      "execution_count": null,
      "outputs": []
    }
  ]
}